{
 "cells": [
  {
   "cell_type": "code",
<<<<<<< HEAD
   "execution_count": 8,
=======
   "execution_count": 7,
>>>>>>> 8d57c87333fdebc5f2ea52ca97bb61b9bb2b873a
   "metadata": {},
   "outputs": [],
   "source": [
    "#Importando pacotes\n",
    "import multiprocessing\n",
    "from unidecode import unidecode\n",
    "from joblib import Parallel, delayed\n",
    "import numpy as np\n",
    "import string\n",
    "import pandas as pd\n",
    "import time\n",
    "from fuzzywuzzy import fuzz \n",
    "from fuzzywuzzy import process\n",
    "from fuzzyJoaoAdaptado import partial_ratio\n",
    "from argparse import ArgumentParser"
   ]
  },
  {
   "cell_type": "code",
   "execution_count": 2,
   "metadata": {},
   "outputs": [
    {
     "name": "stderr",
     "output_type": "stream",
     "text": [
      "usage: ipykernel_launcher.py [-h] [-csv CSV] dict dataset\n",
      "ipykernel_launcher.py: error: the following arguments are required: dataset\n"
     ]
    },
    {
     "ename": "SystemExit",
     "evalue": "2",
     "output_type": "error",
     "traceback": [
      "An exception has occurred, use %tb to see the full traceback.\n",
      "\u001b[0;31mSystemExit\u001b[0m\u001b[0;31m:\u001b[0m 2\n"
     ]
    },
    {
     "name": "stderr",
     "output_type": "stream",
     "text": [
      "/home/disk5/speed/joao.pedrosa/miniconda3/lib/python3.7/site-packages/IPython/core/interactiveshell.py:3334: UserWarning: To exit: use 'exit', 'quit', or Ctrl-D.\n",
      "  warn(\"To exit: use 'exit', 'quit', or Ctrl-D.\", stacklevel=1)\n"
     ]
    }
   ],
   "source": [
    "parser = ArgumentParser(description=\"Classficador ECG\")\n",
    "\n",
    "parser.add_argument('dataset', help = \"O nome do dataset que será usado.\")\n",
    "\n",
    "args = parser.parse_args()"
   ]
  },
  {
   "cell_type": "code",
<<<<<<< HEAD
   "execution_count": 2,
=======
   "execution_count": 8,
>>>>>>> 8d57c87333fdebc5f2ea52ca97bb61b9bb2b873a
   "metadata": {},
   "outputs": [
    {
     "name": "stdout",
     "output_type": "stream",
     "text": [
      "Lendo dados...\n",
      "\n"
     ]
    }
   ],
   "source": [
    "#Importando dados\n",
    "start_time      = time.time()\n",
    "print(\"Lendo dados...\\n\")\n",
<<<<<<< HEAD
    "laudos_completo = pd.read_csv(args.dataset, sep = ';')\n",
=======
    "laudos_completo = pd.read_csv(\"../data/DATA_LAUDOS_TEXTO_formato1\", sep = ';')\n",
>>>>>>> 8d57c87333fdebc5f2ea52ca97bb61b9bb2b873a
    "dicionario      = pd.read_csv(\"../data/DicionarioECG_semSiglas.csv\")"
   ]
  },
  {
   "cell_type": "code",
<<<<<<< HEAD
   "execution_count": 3,
=======
   "execution_count": 9,
>>>>>>> 8d57c87333fdebc5f2ea52ca97bb61b9bb2b873a
   "metadata": {},
   "outputs": [],
   "source": [
    "#Função que recebe o dicionário e uma String e retorna uma lista com a similaridade de cada doença à String\n",
    "def checarSimilaridadeDoencas(texto, dicionario):\n",
    "    listaScore = []\n",
    "    for row in dicionario.itertuples():\n",
    "        maiorScore = 0\n",
    "        maiorScoreL = []\n",
    "        for diag in row:\n",
    "            if ((type(diag) is not int and type(diag) is not float) and (type(texto) is not float)):\n",
    "                texto = texto.translate(str.maketrans('', '', string.punctuation))\n",
    "                texto = unidecode(texto)\n",
    "                score = partial_ratio(diag.lower(), texto.lower())\n",
    "                if score[2] > maiorScore: \n",
    "                    maiorScore = score[2]\n",
    "                    maiorScoreL = score\n",
    "        if (maiorScore > 0):\n",
    "            listaScore.append(maiorScoreL)\n",
    "        else:\n",
    "            listaScore.append(['noMatch', 'noMatch', 0])\n",
    "    return listaScore"
   ]
  },
  {
   "cell_type": "code",
<<<<<<< HEAD
   "execution_count": 4,
=======
   "execution_count": 10,
>>>>>>> 8d57c87333fdebc5f2ea52ca97bb61b9bb2b873a
   "metadata": {},
   "outputs": [
    {
     "name": "stdout",
     "output_type": "stream",
     "text": [
      "Trabalhando dados...\n",
      "\n"
     ]
    }
   ],
   "source": [
    "print(\"Trabalhando dados...\\n\")\n",
    "idExames   = laudos_completo['ID_EXAME']\n",
    "idLaudos   = laudos_completo['ID_LAUDO']\n",
    "textos     = laudos_completo['CONTEUDO']"
   ]
  },
  {
   "cell_type": "code",
<<<<<<< HEAD
   "execution_count": 11,
=======
   "execution_count": 19,
>>>>>>> 8d57c87333fdebc5f2ea52ca97bb61b9bb2b873a
   "metadata": {},
   "outputs": [
    {
     "name": "stdout",
     "output_type": "stream",
     "text": [
      "Início da parte demorada do código...\n",
      "\n",
<<<<<<< HEAD
      "0.0005943775177001953 segundos já se passaram...\n",
=======
      "90.3523461818695 segundos já se passaram...\n",
      "\n"
     ]
    },
    {
     "name": "stderr",
     "output_type": "stream",
     "text": [
      "ERROR:root:Internal Python error in the inspect module.\n",
      "Below is the traceback from this internal error.\n",
      "\n"
     ]
    },
    {
     "name": "stdout",
     "output_type": "stream",
     "text": [
      "Traceback (most recent call last):\n",
      "  File \"/home/jonas/anaconda3/lib/python3.7/site-packages/IPython/core/interactiveshell.py\", line 3296, in run_code\n",
      "    exec(code_obj, self.user_global_ns, self.user_ns)\n",
      "  File \"<ipython-input-19-6c9e24cdf092>\", line 10, in <module>\n",
      "    for i in range(100))\n",
      "  File \"/home/jonas/anaconda3/lib/python3.7/site-packages/joblib/parallel.py\", line 1003, in __call__\n",
      "    if self.dispatch_one_batch(iterator):\n",
      "  File \"/home/jonas/anaconda3/lib/python3.7/site-packages/joblib/parallel.py\", line 834, in dispatch_one_batch\n",
      "    self._dispatch(tasks)\n",
      "  File \"/home/jonas/anaconda3/lib/python3.7/site-packages/joblib/parallel.py\", line 753, in _dispatch\n",
      "    job = self._backend.apply_async(batch, callback=cb)\n",
      "  File \"/home/jonas/anaconda3/lib/python3.7/site-packages/joblib/_parallel_backends.py\", line 543, in apply_async\n",
      "    future = self._workers.submit(SafeFunction(func))\n",
      "  File \"/home/jonas/anaconda3/lib/python3.7/site-packages/joblib/externals/loky/reusable_executor.py\", line 160, in submit\n",
      "    fn, *args, **kwargs)\n",
      "  File \"/home/jonas/anaconda3/lib/python3.7/site-packages/joblib/externals/loky/process_executor.py\", line 1047, in submit\n",
      "    self._ensure_executor_running()\n",
      "  File \"/home/jonas/anaconda3/lib/python3.7/site-packages/joblib/externals/loky/process_executor.py\", line 1021, in _ensure_executor_running\n",
      "    self._adjust_process_count()\n",
      "  File \"/home/jonas/anaconda3/lib/python3.7/site-packages/joblib/externals/loky/process_executor.py\", line 1012, in _adjust_process_count\n",
      "    p.start()\n",
      "  File \"/home/jonas/anaconda3/lib/python3.7/multiprocessing/process.py\", line 112, in start\n",
      "    self._popen = self._Popen(self)\n",
      "  File \"/home/jonas/anaconda3/lib/python3.7/site-packages/joblib/externals/loky/backend/process.py\", line 39, in _Popen\n",
      "    return Popen(process_obj)\n",
      "  File \"/home/jonas/anaconda3/lib/python3.7/site-packages/joblib/externals/loky/backend/popen_loky_posix.py\", line 52, in __init__\n",
      "    self._launch(process_obj)\n",
      "  File \"/home/jonas/anaconda3/lib/python3.7/site-packages/joblib/externals/loky/backend/popen_loky_posix.py\", line 131, in _launch\n",
      "    getattr(process_obj, \"init_main_module\", True))\n",
      "  File \"/home/jonas/anaconda3/lib/python3.7/site-packages/joblib/externals/loky/backend/spawn.py\", line 64, in get_preparation_data\n",
      "    dir=os.getcwd()\n",
      "FileNotFoundError: [Errno 2] No such file or directory\n",
>>>>>>> 8d57c87333fdebc5f2ea52ca97bb61b9bb2b873a
      "\n",
      "During handling of the above exception, another exception occurred:\n",
      "\n",
<<<<<<< HEAD
      "27.80895757675171 segundos desde o início do código...\n",
      "\n"
=======
      "Traceback (most recent call last):\n",
      "  File \"/home/jonas/anaconda3/lib/python3.7/site-packages/IPython/core/interactiveshell.py\", line 2033, in showtraceback\n",
      "    stb = value._render_traceback_()\n",
      "AttributeError: 'FileNotFoundError' object has no attribute '_render_traceback_'\n",
      "\n",
      "During handling of the above exception, another exception occurred:\n",
      "\n",
      "Traceback (most recent call last):\n",
      "  File \"/home/jonas/anaconda3/lib/python3.7/site-packages/IPython/core/ultratb.py\", line 1095, in get_records\n",
      "    return _fixed_getinnerframes(etb, number_of_lines_of_context, tb_offset)\n",
      "  File \"/home/jonas/anaconda3/lib/python3.7/site-packages/IPython/core/ultratb.py\", line 313, in wrapped\n",
      "    return f(*args, **kwargs)\n",
      "  File \"/home/jonas/anaconda3/lib/python3.7/site-packages/IPython/core/ultratb.py\", line 347, in _fixed_getinnerframes\n",
      "    records = fix_frame_records_filenames(inspect.getinnerframes(etb, context))\n",
      "  File \"/home/jonas/anaconda3/lib/python3.7/inspect.py\", line 1502, in getinnerframes\n",
      "    frameinfo = (tb.tb_frame,) + getframeinfo(tb, context)\n",
      "  File \"/home/jonas/anaconda3/lib/python3.7/inspect.py\", line 1460, in getframeinfo\n",
      "    filename = getsourcefile(frame) or getfile(frame)\n",
      "  File \"/home/jonas/anaconda3/lib/python3.7/inspect.py\", line 696, in getsourcefile\n",
      "    if getattr(getmodule(object, filename), '__loader__', None) is not None:\n",
      "  File \"/home/jonas/anaconda3/lib/python3.7/inspect.py\", line 725, in getmodule\n",
      "    file = getabsfile(object, _filename)\n",
      "  File \"/home/jonas/anaconda3/lib/python3.7/inspect.py\", line 709, in getabsfile\n",
      "    return os.path.normcase(os.path.abspath(_filename))\n",
      "  File \"/home/jonas/anaconda3/lib/python3.7/posixpath.py\", line 383, in abspath\n",
      "    cwd = os.getcwd()\n",
      "FileNotFoundError: [Errno 2] No such file or directory\n"
     ]
    },
    {
     "ename": "FileNotFoundError",
     "evalue": "[Errno 2] No such file or directory",
     "output_type": "error",
     "traceback": [
      "\u001b[0;31m---------------------------------------------------------------------------\u001b[0m"
>>>>>>> 8d57c87333fdebc5f2ea52ca97bb61b9bb2b873a
     ]
    }
   ],
   "source": [
    "#Preenchendo o DataFrame\n",
    "\n",
    "start_time = time.time()\n",
    "\n",
    "num_cores = multiprocessing.cpu_count()\n",
    "\n",
    "print(\"Início da parte demorada do código...\\n\")\n",
    "print(time.time() - start_time, \"segundos já se passaram...\\n\")\n",
    "\n",
    "resultado = Parallel(n_jobs = num_cores)(delayed(checarSimilaridadeDoencas)\n",
    "                              (laudos_completo['CONTEUDO'][i], dicionario)\n",
<<<<<<< HEAD
    "                    for i in range(len(laudos_completo))\n",
=======
    "                    for i in range(100))\n",
>>>>>>> 8d57c87333fdebc5f2ea52ca97bb61b9bb2b873a
    "                              \n",
    "print(\"Fim da parte demorada...\\n\")\n",
    "print((time.time() - start_time)/3600, \"horas desde o início do código...\\n\")\n",
    "\n",
    "# for i in range(100):\n",
    "#     df.loc[i,\"idExame\"]           = laudos_completo.loc[i,\"ID_EXAME\"]\n",
    "#     df.loc[i,\"idLaudo\"]           = laudos_completo.loc[i,\"ID_LAUDO\"]\n",
    "#     df.loc[i,\"texto\"]             = laudos_completo.loc[i,\"CONTEUDO\"]\n",
    "#     listaSimilaridade             = checarSimilaridadeDoencas\\\n",
    "#                                     (laudos_completo.loc[i,\"CONTEUDO\"], dicionario)\n",
    "#     scores = [x[2] for x in listaSimilaridade]\n",
    "#     posicoes = [[x[0],x[1]] for x in listaSimilaridade]\n",
    "#     df.loc[i,\"scorePatologias\"]   = scores\n",
    "#     df.loc[i,\"posicaoString\"]     = posicoes"
   ]
  },
  {
   "cell_type": "code",
   "execution_count": 53,
   "metadata": {},
   "outputs": [],
   "source": [
    "header = \"idExame; idLaudo; texto; resultado\""
   ]
  },
  {
   "cell_type": "code",
   "execution_count": 35,
   "metadata": {},
   "outputs": [],
   "source": [
    "#LEMBRE-SE DE TIRAR A PONTUAÇÃO QUANDO FOR OLHAR OS RESULTADOS"
   ]
  },
  {
   "cell_type": "code",
   "execution_count": 54,
   "metadata": {},
   "outputs": [
    {
     "name": "stdout",
     "output_type": "stream",
     "text": [
      "Escrevendo dados...\n",
      "\n"
     ]
    },
    {
     "ename": "IndexError",
     "evalue": "list index out of range",
     "output_type": "error",
     "traceback": [
      "\u001b[0;31m---------------------------------------------------------------------------\u001b[0m",
      "\u001b[0;31mIndexError\u001b[0m                                Traceback (most recent call last)",
      "\u001b[0;32m<ipython-input-54-52271239e96e>\u001b[0m in \u001b[0;36m<module>\u001b[0;34m\u001b[0m\n\u001b[1;32m     11\u001b[0m         \u001b[0marquivo\u001b[0m\u001b[0;34m.\u001b[0m\u001b[0mwrite\u001b[0m\u001b[0;34m(\u001b[0m\u001b[0mstr\u001b[0m\u001b[0;34m(\u001b[0m\u001b[0mtextos\u001b[0m\u001b[0;34m[\u001b[0m\u001b[0mi\u001b[0m\u001b[0;34m]\u001b[0m\u001b[0;34m)\u001b[0m\u001b[0;34m)\u001b[0m\u001b[0;34m\u001b[0m\u001b[0;34m\u001b[0m\u001b[0m\n\u001b[1;32m     12\u001b[0m         \u001b[0marquivo\u001b[0m\u001b[0;34m.\u001b[0m\u001b[0mwrite\u001b[0m\u001b[0;34m(\u001b[0m\u001b[0;34m';'\u001b[0m\u001b[0;34m)\u001b[0m\u001b[0;34m\u001b[0m\u001b[0;34m\u001b[0m\u001b[0m\n\u001b[0;32m---> 13\u001b[0;31m         \u001b[0marquivo\u001b[0m\u001b[0;34m.\u001b[0m\u001b[0mwrite\u001b[0m\u001b[0;34m(\u001b[0m\u001b[0mstr\u001b[0m\u001b[0;34m(\u001b[0m\u001b[0mresultado\u001b[0m\u001b[0;34m[\u001b[0m\u001b[0mi\u001b[0m\u001b[0;34m]\u001b[0m\u001b[0;34m)\u001b[0m\u001b[0;34m)\u001b[0m\u001b[0;34m\u001b[0m\u001b[0;34m\u001b[0m\u001b[0m\n\u001b[0m\u001b[1;32m     14\u001b[0m         \u001b[0marquivo\u001b[0m\u001b[0;34m.\u001b[0m\u001b[0mwrite\u001b[0m\u001b[0;34m(\u001b[0m\u001b[0;34m\"\\n\"\u001b[0m\u001b[0;34m)\u001b[0m\u001b[0;34m\u001b[0m\u001b[0;34m\u001b[0m\u001b[0m\n\u001b[1;32m     15\u001b[0m \u001b[0marquivo\u001b[0m\u001b[0;34m.\u001b[0m\u001b[0mclose\u001b[0m\u001b[0;34m(\u001b[0m\u001b[0;34m)\u001b[0m\u001b[0;34m\u001b[0m\u001b[0;34m\u001b[0m\u001b[0m\n",
      "\u001b[0;31mIndexError\u001b[0m: list index out of range"
     ]
    }
   ],
   "source": [
    "print(\"Escrevendo dados...\\n\")\n",
    "nomeArquivo = (args.dataset + \"_result\")\n",
    "arquivo = open(nomeArquivo, 'w')\n",
    "arquivo.write(header)\n",
    "arquivo.write(\"\\n\")\n",
    "for i in range(len(laudos_completo)):\n",
    "        arquivo.write(str(idExames[i]))\n",
    "        arquivo.write(';')\n",
    "        arquivo.write(str(idLaudos[i]))\n",
    "        arquivo.write(';')\n",
    "        arquivo.write(str(textos[i].translate(str.maketrans('', '', string.punctuation))))\n",
    "        arquivo.write(';')\n",
    "        arquivo.write(str(resultado[i]))\n",
    "        arquivo.write(\"\\n\")\n",
    "arquivo.close()\n",
    "print(\"Concluído!\")"
   ]
  }
 ],
 "metadata": {
  "kernelspec": {
   "display_name": "Python 3",
   "language": "python",
   "name": "python3"
  },
  "language_info": {
   "codemirror_mode": {
    "name": "ipython",
    "version": 3
   },
   "file_extension": ".py",
   "mimetype": "text/x-python",
   "name": "python",
   "nbconvert_exporter": "python",
   "pygments_lexer": "ipython3",
   "version": "3.7.3"
  }
 },
 "nbformat": 4,
 "nbformat_minor": 4
}
