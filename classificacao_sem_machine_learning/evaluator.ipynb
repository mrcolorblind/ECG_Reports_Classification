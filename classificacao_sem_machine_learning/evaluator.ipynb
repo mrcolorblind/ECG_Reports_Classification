{
 "cells": [
  {
   "cell_type": "code",
   "execution_count": 52,
   "metadata": {},
   "outputs": [],
   "source": [
    "import pandas as pd\n",
    "import math\n",
    "import numpy as np"
   ]
  },
  {
   "cell_type": "code",
   "execution_count": 53,
   "metadata": {},
   "outputs": [],
   "source": [
    "ordem_classes = ['área_eletricamente_inativa',\n",
    " 'Bloqueio_de_ramo_direito',\n",
    " 'Bloqueio_de_ramo_esquerdo',\n",
    " 'Sobrecarga_ventricular_esquerda_(critérios_de_Romhilt-Estes)',\n",
    " 'Fibrilação_atrial',\n",
    " 'Flutter_atrial',\n",
    " 'Bloqueio_atrioventricular_de_2°_grau_Mobitz_I',\n",
    " 'Pré-excitação_ventricular_tipo_Wolff-Parkinson-White',\n",
    " 'Sistema_de_estimulação_cardíaca_normofuncionante',\n",
    " 'Taquicardia_atrial_multifocal',\n",
    " 'Taquicardia_supraventricular',\n",
    " 'Alterações_primárias_da_repolarização_ventricular',\n",
    " 'Extrassístoles_supraventriculares',\n",
    " 'Extrassístoles_ventriculares',\n",
    " 'Bradicardia_sinusal',\n",
    " 'ECG_dentro_dos_limites_da_normalidade_para_idade_e_sexo',\n",
    " 'Alterações_inespecíficas_da_repolarização_ventricular',\n",
    " 'Alterações_secundárias_da_repolarização_ventricular',\n",
    " 'Arritmia_sinusal',\n",
    " 'Ausência_de_sinal_eletrocardiográfico_que_impede_a_análise',\n",
    " 'Possível_inversão_de_posicionamento_de_eletrodos',\n",
    " 'Bloqueio_atrioventricular_de_1°_grau',\n",
    " 'Bloqueio_divisional_anterossuperior_do_ramo_esquerdo',\n",
    " 'Bloqueio_divisional_posteroinferior_do_ramo_esquerdo',\n",
    " 'Desvio_do_eixo_do_QRS_para_direita',\n",
    " 'Desvio_do_eixo_do_QRS_para_esquerda',\n",
    " 'Distúrbio_de_condução_do_ramo_direito',\n",
    " 'Distúrbio_de_condução_do_ramo_esquerdo',\n",
    " 'Intervalo_PR_curto',\n",
    " 'Intervalo_QT_prolongado',\n",
    " 'Isquemia_subendocárdica',\n",
    " 'Progressão_lenta_de_R_nas_derivações_precordiais',\n",
    " 'Ritmo_atrial_ectópico',\n",
    " 'Sobrecarga_atrial_esquerda',\n",
    " 'Taquicardia_sinusal']"
   ]
  },
  {
   "cell_type": "code",
   "execution_count": 54,
   "metadata": {},
   "outputs": [],
   "source": [
    "tamanhoDB = 2000000"
   ]
  },
  {
   "cell_type": "code",
   "execution_count": 55,
   "metadata": {},
   "outputs": [],
   "source": [
    "dfPrevalencias = pd.read_csv(\"../light_data/prevalencia_e_scores_com_siglas.csv\", index_col=0)\n",
    "df = dfPrevalencias.reset_index()\n",
    "db = pd.read_csv(\"../../data/DATA_LAUDOS_TEXTO_formato1\", sep = ';')[:tamanhoDB]"
   ]
  },
  {
   "cell_type": "code",
   "execution_count": 83,
   "metadata": {
    "collapsed": true,
    "jupyter": {
     "outputs_hidden": true
    }
   },
   "outputs": [
    {
     "name": "stdout",
     "output_type": "stream",
     "text": [
      "área_eletricamente_inativa : 100.0\n",
      "Bloqueio_de_ramo_direito : 100.0\n",
      "Bloqueio_de_ramo_esquerdo : 100.0\n",
      "Sobrecarga_ventricular_esquerda_(critérios_de_Romhilt-Estes) : 100.0\n",
      "Fibrilação_atrial : 100.0\n",
      "Flutter_atrial : 100.0\n",
      "Bloqueio_atrioventricular_de_2°_grau_Mobitz_I : 100.0\n",
      "Pré-excitação_ventricular_tipo_Wolff-Parkinson-White : 92.0\n",
      "Sistema_de_estimulação_cardíaca_normofuncionante : 60.0\n",
      "Taquicardia_atrial_multifocal : 66.667\n",
      "Taquicardia_supraventricular : 100.0\n",
      "Alterações_primárias_da_repolarização_ventricular : 88.0\n",
      "Extrassístoles_supraventriculares : 90.909\n",
      "Extrassístoles_ventriculares : 92.857\n",
      "Bradicardia_sinusal : 73.684\n",
      "ECG_dentro_dos_limites_da_normalidade_para_idade_e_sexo : 100.0\n",
      "Alterações_inespecíficas_da_repolarização_ventricular : 81.132\n",
      "Alterações_secundárias_da_repolarização_ventricular : 84.314\n",
      "Arritmia_sinusal : 100.0\n",
      "Ausência_de_sinal_eletrocardiográfico_que_impede_a_análise : 100.0\n",
      "Possível_inversão_de_posicionamento_de_eletrodos : 68.75\n",
      "Bloqueio_atrioventricular_de_1°_grau : 100.0\n",
      "Bloqueio_divisional_anterossuperior_do_ramo_esquerdo : 63.462\n",
      "Bloqueio_divisional_posteroinferior_do_ramo_esquerdo : 69.23100000000001\n",
      "Desvio_do_eixo_do_QRS_para_direita : 85.0\n",
      "Desvio_do_eixo_do_QRS_para_esquerda : 88.235\n",
      "Distúrbio_de_condução_do_ramo_direito : 88.571\n",
      "Distúrbio_de_condução_do_ramo_esquerdo : 100.0\n",
      "Intervalo_PR_curto : 86.84200000000001\n",
      "Intervalo_QT_prolongado : 69.565\n",
      "Isquemia_subendocárdica : 88.889\n",
      "Progressão_lenta_de_R_nas_derivações_precordiais : 83.333\n",
      "Ritmo_atrial_ectópico : 71.429\n",
      "Sobrecarga_atrial_esquerda : 73.077\n",
      "Taquicardia_sinusal : 73.684\n"
     ]
    }
   ],
   "source": [
    "for i in range(35):\n",
    "    print(ordem_classes[i], \":\", pScore[i])"
   ]
  },
  {
   "cell_type": "code",
   "execution_count": 56,
   "metadata": {},
   "outputs": [],
   "source": [
    "# resultados = pd.read_csv(\"../../data/resultados/scores/scores_full.csv\")\n",
    "# results = resultados[\" scorings\"]\n",
    "# results = [row[1:-1].split(',') for row in results]\n",
    "# results = [[float(z) for z in row] for row in results]\n",
    "# results = np.array(results)\n",
    "# np.save(\"../../data/allscores.npy\", results)\n",
    "results = np.load(\"../../data/allscores2.npy\")\n",
    "valid   = np.load(\"../light_data/new_classes.npy\")[:,1]\n",
    "pScore  = pd.read_csv(\"../light_data/passing_scores.csv\")['score']"
   ]
  },
  {
   "cell_type": "code",
   "execution_count": 59,
   "metadata": {},
   "outputs": [],
   "source": [
    "trans = {}\n",
    "a = 0\n",
    "for i in range(74):\n",
    "    if(valid[i]):\n",
    "        trans[i] = a\n",
    "        a+=1"
   ]
  },
  {
   "cell_type": "code",
   "execution_count": 114,
   "metadata": {},
   "outputs": [],
   "source": [
    "pd.DataFrame([[i,pScore[i]] for i in range(35)], columns = ['class','score']).to_csv(\"../light_data/passing_scores.csv\")"
   ]
  },
  {
   "cell_type": "code",
   "execution_count": 21,
   "metadata": {},
   "outputs": [
    {
     "name": "stdout",
     "output_type": "stream",
     "text": [
      "Calculando para  área_eletricamente_inativa\n",
      "\n",
      "Ritmo sinusal regular.Sem desvio de eixo elétrico.Onda P: amplitude e duração normais.PRi: duração normal.QRS: ausência de progressão da onda R na parede anterosseptal (V1 a V3). ST: infradesnivelamento na parede inferior.Onda T: invertida assimetrica nas paredes inferior e lateral.QTc: duração normal.\tConclusão:1- Provável área inativa anterosseptal. 2- Alterações inespecíficas da repolarização ventricular nas paredes inferior e lateral (segmento ST e onda T)Obs: correlacionar com a história clinica. O posicionamento inadequado dos eletrodos precordiais pode simular área inativa, assim como levorrotação do eixo cardíaco. Área inativa pode estar relacionada a infarto antigo do miocardio. Sugerimos a repetição do exame, com atenção especial ao posicionamento dos eletrodos de V1 a V4. Alterações dinâmicas no segmento ST podem estar relacionadas a isquemia miocárdica. Dr. Otaviano da Silva Júnior CRM-MG:33261Rede de Teleassistência de Minas Gerais. 197\n",
      "\n",
      "\n",
      "Calculando para  Bloqueio_de_ramo_direito\n",
      "\n",
      "RITMO SINUSAL REGULAR.SEM DESVIO DE EIXO.ONDA P: AMPLITUDE E DURACAO NORMAIS.PRI: DURACAO NORMAL.QRS: EIXO E AMPLITUDES NORMAIS. DURACAO (>120MS). MORFOLOGIA: BRD: RSR&APOS; EM V1 E ONDA S EMPASTADA NAS DERIVACOES A ESQUERDA.ST E ONDA T: ALTERACOES SECUNDARIAS AO BRDQTI: DURACAO NORMAL.CONCLUSAO:1- BLOQUEIO DE RAMO DIREITO DE 3 GRAU.OBS: O TRACADO IMPRESSO CORRESPONDE A APENAS UM TRECHO DO REGISTRO ELETROCARDIOGRAFICO. ESTE LAUDO FOI ELABORADO UTILIZANDO-SE TODO O TRACADO, DISPONIVEL NO SISTEMA DR. DANIEL FURTADO VIDIGAL CRM: 40.574 - MINAS TELECARDIO - HC UFMG O ELETROCARDIOGRAMA E UM EXAME COMPLEMENTAR QUE DEVE SER INTERPRETADO JUNTAMENTE COM OS DADOS CLINICOS DO PACIENTE 96\n",
      "\n",
      "\n",
      "Calculando para  Bloqueio_de_ramo_esquerdo\n",
      "\n",
      "Ritmo Sinusal regular.Desvio de eixo p/ esquerda.Onda P: amplitude e duracao normais.PRi: duracao normal.QRS: Morfologia de BRE. Duracao (132 ms)ST e Onda T: alteracoes secundarias ao BREQTi: duracao normal.Conclusao:1- Bloqueio de ramo esquerdo. Dr. Antonio Carlos R. Cabral CRM-MG: 40.788 - Telecardio - HC UFMG O eletrocardiograma e um exame complementar que deve ser interpretado juntamente com os dados clinicos do paciente. O Tracado impresso corresponde a apenas um trecho do registro eletrocardiografico. Este laudo foi elaborado utilizando-se de todo o tracado, disponivel no sistema. 13\n",
      "\n",
      "\n",
      "Calculando para  Sobrecarga_ventricular_esquerda_(critérios_de_Romhilt-Estes)\n",
      "\n",
      "RITMO SINUSAL REGULAR.EIXO DO QRS DESVIADO PARA A ESQUERDA: - 45 GRAUS;ONDA P: AMPLITUDE E DURACAO NORMAIS.PRI: DURACAO NORMAL.QRS: MORFOLOGIA DE BRE. DURACAO AUMENTADA (140 MS)ST E ONDA T: ALTERACOES SECUNDARIAS AO BREQTI: DURACAO NORMAL.CONCLUSAO:1- SOBRECARGA VENTRICULAR ESQUERDA;2- BLOQUEIO DE RAMO ESQUERDO DE 3 GRAU.*OBS: ALTERACOES PROVAVELMENTE RELACIONADAS COM HAS. DIAGNOSTICO DIFERENCIAL: D. DE CHAGAS.\t DR. GLAUCIO GALENO R. CARVALHO CRM: 32.502 \t CARDIOLOGISTA- MINAS TELECARDIO - HC UFMG 12\n",
      "\n",
      "\n",
      "Calculando para  Fibrilação_atrial\n",
      "\n",
      "RITMO IRREGULAR. AUSENCIA DE ONDA P.PRESENCA DE EXTRASSISTOLES VENTRICULARES MONOMORFICAS NOS REGISTROS 1 E 3.SEM DESVIO DE EIXO.QRS: DURACAO, EIXO, MORFOLOGIA E AMPLITUDE NORMAIS.ST E ONDA T: ALTERACOES INESPECIFICAS DA REPOLARIZACAO VENTRICULAR.QTI: DURACAO NORMAL.CONCLUSAO:1- FIBRILACAO ATRIAL.2- ALTERACOES DIFUSAS DA REPOLARIZACAO VENTRICULAR. DR. GUILHERME AUGUSTO CURY CRM-MG: 42112.  REDE TELEASSISTENCIA DE MINAS GERAIS O TRACADO IMPRESSO CORRESPONDE A APENAS UM TRECHO DO REGISTRO ELETROCARDIOGRAFICO. ESTE LAUDO FOI ELABORADO UTILIZANDO-SE TODO O TRACADO, DISPONIVEL NO SISTEMA. ]]> </CONTEUDO></LAUDO> 220\n",
      "\n",
      "\n",
      "Calculando para  Flutter_atrial\n",
      "\n",
      "TRACADO COM INTERFERENCIA EM LINHA DE BASE, COMPROMETENDO A ANALISE PRECISA DO LAUDO.SUGERE FLUTTER ATRIAL.FAVOR REPETIR O EXAME. DR. GUILHERME AUGUSTO CURY CRM-MG: 42112.  REDE TELEASSISTENCIA DE MINAS GERAIS]]> </CONTEUDO></LAUDO> 2358\n",
      "\n",
      "\n",
      "Calculando para  Bloqueio_atrioventricular_de_2°_grau_Mobitz_I\n",
      "\n",
      "Ritmo sinusal com períodos de bradicardia decorrente de bloqueio AV do segundo grau (pausas de até 1,4s).Desvio de eixo elétrico (QRS) para a esquerda no plano frontal.Onda P: amplitude e duracao normais.PRi: duracao variável e onda P bloqueada. Bloqueio AV do segundo grau do tipo Wenckebach. QRS: duração, morfologia e amplitude normais.ST: sem supra ou infradesnivelamento.Onda T: morfologia habitual.QTc: duração normal.\tConclusão:\t1- Bloqueio divisional anterossuperior esquerdo. 2- Bloqueio AV do primeiro grau.3- Bloqueio AV do segundo grau do tipo Mobitz I ou Wenckebach. Obs: esta paciente deve ser encaminhada para avaliação com cardiologista.Dr. Otaviano da Silva Júnior CRM-MG:33261Rede de Teleassistência de Minas Gerais. 39718\n",
      "\n",
      "\n",
      "Calculando para  Pré-excitação_ventricular_tipo_Wolff-Parkinson-White\n",
      "\n",
      "Presenca de onda delta , PR normal 1-Padrão sugestivo de sindrome de pre-excitacao ventricular atipica e variante - ((Wolff-Parkinson-White?-correlacionar com a clinica).O tracado impresso corresponde a apenas um trecho do registro eletrocardiografico. Este laudo foi elaborado utilizando-se todo o tracado, disponivel no sistema. Dr. Fabio M. Fernandes Nunes \tCardiologista CRM-MG: 39.404 Rede de Teassistência de Minas Gerais O eletrocardiograma e um exame complementar que deve ser interpretado juntamente com os dados clinicos do paciente. 587\n",
      "\n",
      "\n",
      "Calculando para  Sistema_de_estimulação_cardíaca_normofuncionante\n",
      "\n",
      "Favor reenviar exame informando se o paciente é ou não portador de marcapasso artificial. Dr. Fabio M. Fernandes Nunes \t \t Cardiologista CRM-MG: 39.404 Rede de Teassistência de Minas Gerais O eletrocardiograma e um exame complementar que deve ser interpretado juntamente com os dados clinicos do paciente. 532\n",
      "\n",
      "\n",
      "Calculando para  Taquicardia_atrial_multifocal\n",
      "\n",
      "Ritmo Sinusal irregular.Sem desvio de eixo.Onda P: amplitude e duracao normais.PRi: duracao normal.QRS: duracao, eixo, morfologia e amplitude normais.ST: sem supra ou infradesnivelamento.Onda T: QTi: duracao normal.Conclusao:1- Extrassistolia Supraventricular.2- Taquicardia atrial paroxística. Dr. Antonio Carlos R. Cabral CRM-MG: 40.788 - Telecardio - HC UFMG O eletrocardiograma e um exame complementar que deve ser interpretado juntamente com os dados clinicos do paciente. O Tracado impresso corresponde a apenas um trecho do registro eletrocardiografico. Este laudo foi elaborado utilizando-se de todo o tracado, disponivel no sistema. 4475\n",
      "\n",
      "\n",
      "Calculando para  Taquicardia_supraventricular\n",
      "\n",
      "Sem desvio de eixo.Onda P: ausenteQRS: duracao, eixo, morfologia e amplitude normais.ST: sem supra ou infradesnivelamento.Onda T: morfologia habitual.QTi: duracao normal.Conclusao:1-Taquicardia supraventricular FC= 162 bpmO tracado impresso corresponde a apenas um trecho do registro eletrocardiografico. Este laudo foi elaborado utilizando-se todo o tracado, disponivel no sistema. Dr. Luciano Martins da Silva CRM-MG: 40.971 Minas telecardio - HC-UFU O eletrocardiograma e um exame complementar que deve ser interpretado juntamente com os dados clinicos do paciente. 4376\n",
      "\n",
      "\n",
      "Calculando para  Alterações_primárias_da_repolarização_ventricular\n",
      "\n",
      "Eixo: sem desvio.Onda P: amplitude e duracao normais.PRi: duracao normal.QRS: náo progressáo da onda R de V1-V4ST: supradesnivelamento dsicreto inferiiorOnda T: negativa sugestiva de isquemica de V4-V6QTc: duracao normal. ( 460 ms)Conclusao:1- Ritmo sinusal2- Alteracoes primarias da repolarizacao ventricular 3-Area sugestiva de eletricamente inativa inferior associada a discreto supra de ST ( IAM cicatrizado? IAM em evoluçáo? Aneurisma de VE?)4-Extrassistole supra ventriculares isoladas.OBS.: Correlacionar com dados clinicos. Se necessario, realizar complementacao diagnostica para insuficiencia coronariana. O tracado impresso corresponde a apenas um trecho do registro eletrocardiografico. Este laudo foi elaborado utilizando-se todo o tracado, disponivel no sistema. Dr. Fabio M. Fernandes Nunes Cardiologista CRM-MG: 39.404 Rede de Teassistência de Minas Gerais O eletrocardiograma e um exame complementar que deve ser interpretado juntamente com os dados clinicos do paciente. 168\n",
      "\n",
      "\n",
      "Calculando para  Extrassístoles_supraventriculares\n",
      "\n",
      "RITMO SINUSAL REGULAR. PRESENCA DE EXTRASSISTOLE SUPRAVENTRICULAR.SEM DESVIO DE EIXO.ONDA P: AMPLITUDE E DURACAO NORMAIS.PRI: DURACAO NORMAL.QRS: DURACAO, EIXO, MORFOLOGIA E AMPLITUDE NORMAIS.ST: SEM SUPRA OU INFRADESNIVELAMENTO.ONDA T: MORFOLOGIA HABITUAL.QTI: DURACAO NORMAL.CONCLUSAO:1- BRADICARDIA SINUSAL. DR. GUILHERME AUGUSTO CURY CRM-MG: 42112. MINAS TELECARDIO - BELO HORIZONTE 42\n",
      "\n",
      "\n",
      "Calculando para  Extrassístoles_ventriculares\n",
      "\n",
      "RITMO: SINUSAL REGULAR. PRESENCA DE EXTRASSISTOLES VENTRICULARES POLIMORFICAS.EIXO: NORMAL.ONDA P: AMPLITUDE E DURACAO NORMAIS.PRI: DURACAO NORMAL.QRS: DURACAO AUMENTADA ( 150 MS) E AMPLITUDE NORMAL. MORFOLOGIA: BRD: RSR&APOS; EM V1 E ONDA S EMPASTADA NAS DERIVACOES A ESQUERDA.ST E ONDA T: ALTERACAO SECUNDARIA AO BRD.QTI: DURACAO NORMAL.CONCLUSAO:1- BLOQUEIO DO RAMO DIREITO. DR. GUILHERME AUGUSTO CURY CRM-MG: 42112. MINAS TELECARDIO - BELO HORIZONTE&QUOT;O TRACADO IMPRESSO CORRESPONDE A APENAS UM TRECHO DO REGISTRO ELETROCARDIOGRAFICO. ESTE LAUDO FOI ELABORADO UTILIZANDO-SE TODO O TRACADO, DISPONIVEL NO SISTEMA.&QUOT; 97\n",
      "\n",
      "\n",
      "Calculando para  Bradicardia_sinusal\n",
      "\n",
      "RITMO SINUSAL REGULAR.SEM DESVIO DE EIXO.ONDA P: AMPLITUDE NORMAL. DURACAO AUMENTADA ( 133 MS)PRI: DURACAO NORMAL.QRS: DURACAO, EIXO, MORFOLOGIA E AMPLITUDE NORMAIS.ST: SEM SUPRA OU INFRADESNIVELAMENTO.ONDA T: MORFOLOGIA HABITUAL.QTI: DURACAO NORMAL.CONCLUSAO:1-TAQUICARDIA SINUSAL. (FC:105 BPM)2-SINAIS SUGESTIVOS DE DISCRETA SOBRECARGA ATRIAL ESQUERDA. DR. FABIO M. FERNANDES NUNES \tCARDIOLOGISTA CRM-MG: 39.404 \t MINAS TELECARDIO HC-UFU O ELETROCARDIOGRAMA E UM EXAME COMPLEMENTAR QUE DEVE SER INTERPRETADO JUNTAMENTE COM OS DADOS CLINICOS DO PACIENTE. 73\n",
      "\n",
      "\n",
      "Calculando para  ECG_dentro_dos_limites_da_normalidade_para_idade_e_sexo\n",
      "\n",
      "Ritmo Sinusal regular.Sem desvio de eixo.Onda P: amplitude e duração normais.PRi: duração normal.QRS: duração, eixo, morfologia e amplitude normais.ST: sem supra ou infradesnivelamento.Onda T: morfologia habitual.QTi: duração normal.Conclusão:1- ECG dentro dos limites da normalidade. Dr. Guilherme Augusto Cury CRM-MG: 42112. Rede Teleassistência de Minas Gerais*O traçado impresso corresponde a apenas um trecho do registro eletrocardiográfico. Este laudo foi elaborado utilizando-se todo o traçado, disponível no sistema.* 1\n",
      "\n",
      "\n",
      "Calculando para  Alterações_inespecíficas_da_repolarização_ventricular\n",
      "\n",
      "Ritmo Sinusal irregular.Sem desvio de eixo.Onda P: amplitude e duracao normais.PRi: duracao normal.QRS: duracao, eixo, morfologia e amplitude normais. Ma progressao de *R* em parede antero-septal (mau posicionamento de eletrodos? Biotipo? HAS?).ST: sem supra ou infradesnivelamento.Onda T: Alteracoes inespecificas da repolarizacao ventricular.QTi: duracao normal.Conclusao:1- Extrassistolia Supraventricular.  Dr. Antonio Carlos R. Cabral  CRM-MG: 40.788 - Telecardio - HC UFMG O eletrocardiograma e um exame complementar que deve ser interpretado juntamente com os dados clinicos do paciente. O Tracado impresso corresponde a apenas um trecho do registro eletrocardiografico. Este laudo foi elaborado utilizando-se de todo o tracado, disponivel no sistema. 3\n",
      "\n",
      "\n",
      "Calculando para  Alterações_secundárias_da_repolarização_ventricular\n",
      "\n",
      "Ritmo sinusal regular. Sem desvio de eixo.Onda P: amplitude e duração normais.PRi: duração normal.QRS: com duração > 120 ms e morfologia de bloqueio do remo esquerdo.ST e Onda T: alteracoes secundarias ao bloqueio do ramo esquerdo.QTi: duração normal.Conclusão:1- Ritmo Sinusal.2- Bloqueio de ramo esquerdo. 3- Alterações secundárias da repolarização ventricular.O traçado impresso corresponde a apenas um trecho do registro eletrocardiográfico. Este laudo foi elaborado utilizando-se todo o traçado, disponível no sistema. Dr. Luciano Martins da Silva CRM - 40.971-MG Minas telecardio - HC-UFU 48\n",
      "\n",
      "\n",
      "Calculando para  Arritmia_sinusal\n",
      "\n",
      "RITMO SINUSAL COM VARIACAO DO RITMO DECORRENTE DA RESPIRACAO (ARRITMIA SINUSAL), O QUE E CONSIDERADO NORMAL. FC=64BPM.SEM DESVIO DE EIXO.ONDA P: AMPLITUDE E DURACAO NORMAIS.PRI: DURACAO NORMAL.QRS: DURACAO, EIXO, MORFOLOGIA E AMPLITUDE NORMAIS.ST: SEM SUPRA OU INFRADESNIVELAMENTO.ONDA T: MORFOLOGIA HABITUAL.QTC: DURACAO NORMAL.CONCLUSAO:1- ECG DENTRO DOS LIMITES DA NORMALIDADE PARA A IDADE. DR. FABIO TORRES RABELO CRM-MG: 39287. MINAS TELECARDIO - BELO HORIZONTE &QUOT;O TRACADO IMPRESSO CORRESPONDE A APENAS UM TRECHO DO REGISTRO ELETROCARDIOGRAFICO. ESTE LAUDO FOI ELABORADO UTILIZANDO-SE TODO O TRACADO DISPONIVEL NO SISTEMA.&QUOT; 72\n",
      "\n",
      "\n",
      "Calculando para  Ausência_de_sinal_eletrocardiográfico_que_impede_a_análise\n",
      "\n",
      "Ausência de traçados eletrocardiográficos impossibilitando análise - repetir.Checar fio terrra e filtros. Dr. Luciano Martins da Silva CRM-MG: 40.971 Minas telecardio - HC-UFU 166\n",
      "\n",
      "\n",
      "Calculando para  Possível_inversão_de_posicionamento_de_eletrodos\n",
      "\n",
      "Tracado sugere troca de eletrodos precordiais.Favor repetir o exame. Dr. Fabio Torres Rabelo CRM-MG 39287 Rede de Teleassistencia de Minas Gerais - Belo Horizonte 101\n",
      "\n",
      "\n",
      "Calculando para  Bloqueio_atrioventricular_de_1°_grau\n",
      "\n",
      "RITMO SINUSAL REGULAR.SEM DESVIO DE EIXO.ONDA P: AMPLITUDE NORMAL. DURACAO AUMENTADA ( 120 MS)PRI: DURACAO: 210 MS.QRS: DURACAO, EIXO, MORFOLOGIA E AMPLITUDE NORMAIS.ST: SEM SUPRA OU INFRADESNIVELAMENTO.ONDA T: MORFOLOGIA HABITUAL.QTI: DURACAO NORMAL.CONCLUSAO:1- BLOQUEIO ATRIOVENTRICULAR DE 1 GRAU2- SOBRECARGA ATRIAL ESQUERDA.3- BRADICARDIA SINUSAL. FC=42BPM.  DR. ANTONIO CARLOS R. CABRAL  CRM-MG: 40.788 - TELECARDIO - HC UFMG  O ELETROCARDIOGRAMA E UM EXAME COMPLEMENTAR QUE DEVE SER INTERPRETADO JUNTAMENTE COM OS DADOS CLINICOS DO PACIENTE. O TRACADO IMPRESSO CORRESPONDE A APENAS UM TRECHO DO REGISTRO ELETROCARDIOGRAFICO. ESTE LAUDO FOI ELABORADO UTILIZANDO-SE DE TODO O TRACADO, DISPONIVEL NO SISTEMA.]]> </CONTEUDO></LAUDO> 445\n",
      "\n",
      "\n",
      "Calculando para  Bloqueio_divisional_anterossuperior_do_ramo_esquerdo\n",
      "\n",
      "Ritmo: Sinusal regular.Eixo: Desviado para a esquerda. QRS: - 60 graus, q1S3 (rotacao anti-horaria do eixo cardiaco).Onda P: amplitude e duracao normais.PRi: duracao normal.QRS: duracao e amplitude normais. Morfologia: Progressao lenta da onda R de V1 a V3.ST: Alteracao secundaria ao BDAS.Onda T: Alteracao secundaria ao BDAS.QTi: duracao normal.Conclusao:1- Bloqueio divisional antero-superior esquerdo. Dr. Antonio Carlos R. Cabral CRM-MG: 40.788 - Telecardio - HC UFMG O eletrocardiograma e um exame complementar que deve ser interpretado juntamente com os dados clinicos do paciente. O Tracado impresso corresponde a apenas um trecho do registro eletrocardiografico. Este laudo foi elaborado utilizando-se de todo o tracado, disponivel no sistema. 40\n",
      "\n",
      "\n",
      "Calculando para  Bloqueio_divisional_posteroinferior_do_ramo_esquerdo\n",
      "\n",
      "DESVIO DO EIXO DO QRS PARA A DIREITAONDA P: AMPLITUDE E DURACAO NORMAIS.PRI: DURACAO NORMAL.QRS: DURACAO, EIXO, MORFOLOGIA E AMPLITUDE NORMAIS.ST: SEM SUPRA OU INFRADESNIVELAMENTO.ONDA T: MORFOLOGIA HABITUAL.QTC: DURACAO NORMAL.CONCLUSAO:1- RITMO SINUSAL2- BLOQUEIO DIVISIONAL POSTERO-INFERIOR ESQUERDO.(BIOTIPO?)  DR. FABIO M. FERNANDES NUNES  \tCARDIOLOGISTA CRM-MG: 39.404 \tMINAS TELECARDIO HC-UFU O ELETROCARDIOGRAMA E UM EXAME COMPLEMENTAR QUE DEVE SER INTERPRETADO JUNTAMENTE COM OS DADOS CLINICOS DO PACIENTE. O TRACADO IMPRESSO CORRESPONDE A APENAS UM TRECHO DO REGISTRO ELETROCARDIOGRAFICO. ESTE LAUDO FOI ELABORADO UTILIZANDO-SE TODO O TRACADO, DISPONIVEL NO SISTEMA.]]> </CONTEUDO></LAUDO> 966\n",
      "\n",
      "\n",
      "Calculando para  Desvio_do_eixo_do_QRS_para_direita\n",
      "\n",
      "desvio do eixo do QRS para a direitaOnda P: amplitude e duracao normais.PRi: duracao normal.QRS: Eixo e Amplitudes R&apos; aumentada em V1. Duracao normal e rsR&apos; em V1 e onda S empastada nas derivacoes a esquerda.ST e Onda T: alteracoes secundarias ao BRDQTc: prejudicadoConclusao:1-Ritmo Sinusal 2- Disturbio de conducao pelo ramo direito 3- Alteracoes secundarias da repolarizacao ventricular4- Bloqueio divisional postero-inferior esquerdo.Dr. Fabio M. Fernandes Nunes \tCardiologista CRM-MG: 39.404 Rede de Teassistência de Minas Gerais O eletrocardiograma e um exame complementar que deve ser interpretado juntamente com os dados clinicos do paciente. O tracado impresso corresponde a apenas um trecho do registro eletrocardiografico. Este laudo foi elaborado utilizando-se todo o tracado, disponivel no sistema. 439\n",
      "\n",
      "\n",
      "Calculando para  Desvio_do_eixo_do_QRS_para_esquerda\n",
      "\n",
      "desvio do eixo do QRS para a esquerda.Onda P: amplitude e duracao normais.PRi: duracao normal.QRS: duracao, eixo, morfologia e amplitude normais.ST: sem supra ou infradesnivelamento.Onda T: morfologia habitual.QTc: duracao normal. ( 405 ms) Conclusao:1-Ritmo sinusal 2-ECG dentro dos limites da normalidade para idade e sexo.O tracado impresso corresponde a apenas um trecho do registro eletrocardiografico. Este laudo foi elaborado utilizando-se todo o tracado, disponivel no sistema.Dr. Fabio M. Fernandes Nunes Cardiologista CRM-MG: 39.404 Rede de Teassistência de Minas Gerais O eletrocardiograma e um exame complementar que deve ser interpretado juntamente com os dados clinicos do paciente 63\n",
      "\n",
      "\n",
      "Calculando para  Distúrbio_de_condução_do_ramo_direito\n",
      "\n",
      "RITMO: SINUSAL REGULAR.EIXO: DESVIADO PARA A ESQUERDA. QRS: - 75 GRAUS, Q1S3 (ROTACAO ANTI-HORARIA DO EIXO CARDIACO).ONDA P: AMPLITUDE E DURACAO NORMAIS.PRI: DURACAO NORMAL.QRS: DURACAO ( 110 MS) E AMPLITUDE NORMAL. MORFOLOGIA: BRD: RSR EM V1 E ONDA S EMPASTADA NAS DERIVACOES A ESQUERDA.ST E ONDA T: ALTERACAO SECUNDARIA AO BDAS E BRD.QTI: DURACAO NORMAL.CONCLUSAO:1- BLOQUEIO DIVISIONAL ANTEROSSUPERIOR ESQUERDO.2- DISTURBIO DE CONDUCAO DO RAMO DIREITO.OBS.: TRACADO COM INTERFERENCIA COMPROMETENDO O LAUDO FINAL. DR. GUILHERME AUGUSTO CURY CRM-MG: 42112.  REDE TELEASSISTENCIA DE MINAS GERAIS O TRACADO IMPRESSO CORRESPONDE A APENAS UM TRECHO DO REGISTRO ELETROCARDIOGRAFICO. ESTE LAUDO FOI ELABORADO UTILIZANDO-SE TODO O TRACADO, DISPONIVEL NO SISTEMA. ]]> </CONTEUDO></LAUDO> 328\n",
      "\n",
      "\n",
      "Calculando para  Distúrbio_de_condução_do_ramo_esquerdo\n",
      "\n",
      "RITMO SINUSAL REGULAR. FREQUENCIA CARDIACA MEDIA: 66 BPM. SEM DESVIO DE EIXO.ONDA P: AMPLITUDE E DURACAO NORMAIS.PRI: DURACAO: 102 MS. AUSENCIA DE ONDA DELTA.QRS: DURACAO: 65 MS., MORFOLOGIA DE DCRE. AMPLITUDE: LENTA PROGRESSAO DE ONDA R NA PAREDE ANTERIOR. SEGMENTO ST E ONDA T: ALTERACOES DIFUSAS DA REPOLARIZACAO VENTRICULAR, SECUNDARIAS AO DCRE. QTI: DURACAO NORMAL.CONCLUSAO:1- DISTURBIO DE CONDUCAO DO RAMO ESQUERDO DE 1 GRAU. 2- INTERVALO PR CURTO. * O TRACADO IMPRESSO CORRESPONDE A APENAS UM TRECHO DO REGISTRO ELETROCARDIOGRAFICO. ESTE LAUDO FOI ELABORADO UTILIZANDO-SE TODO O TRACADO, DISPONIVEL NO SISTEMA. DR. ANTONIO CARLOS DE MELO JUNIOR CRM-MG:29626 - TELECARDIO - HC UFMG 249\n",
      "\n",
      "\n",
      "Calculando para  Intervalo_PR_curto\n",
      "\n",
      "Ritmo sinusal regular com tendência a bradicardia (50bpm).Sem desvio de eixo elétrico.Onda P: amplitude e duração normais.PRi: encurtado (105ms).QRS: duração, morfologia e amplitude normais.ST: sem supra ou infradesnivelamento.Onda T: morfologia habitual.QTc: duração normal.\tConclusão:1- Intervalo PR curto (sugestivo de pré-excitação ventricular). Dr. Otaviano da Silva Júnior CRM-MG:33261Rede de Teleassistência de Minas Gerais. 93\n",
      "\n",
      "\n",
      "Calculando para  Intervalo_QT_prolongado\n",
      "\n",
      "RITMO SINUSAL REGULAR. FC:73 SEM DESVIO DE EIXO.ONDA P: AMPLITUDE E DURACAO NORMAIS.PRI: DURACAO NORMAL.QRS: DURACAO, EIXO, MORFOLOGIA E AMPLITUDE NORMAIS.ST E ONDA T: ALTERACOES INESPECIFICAS DA REPOLARIZACAO VENTRICULAR.QTI: 459 MS DURACAO NORMAL.CONCLUSAO:1- INTERVALO QT PROLONGADO2- SEM OUTRAS ALTERACOES MORFOLOGICAS DR. JORGE BEZERRA CAVALCANTI SETTE  CRM-MG:51409 - TELECARDIO - HC UFMG O TRACADO IMPRESSO CORRESPONDE A APENAS UM TRECHO DO REGISTRO ELETROCARDIOGRAFICO. ESTE LAUDO FOI ELABORADO UTILIZANDO-SE TODO O TRACADO, DISPONIVEL NO SISTEMA. ]]> </CONTEUDO></LAUDO> 781\n",
      "\n",
      "\n",
      "Calculando para  Isquemia_subendocárdica\n",
      "\n",
      "desvio do eixo do QRS para a esquerda.Onda P: amplitude e duracao normais.PRi: duracao normal.QRS: náo progressáo da onda R de V1-V2ST: infradesnivelamento de V3-V6Onda T: negativa sugestiva de isquemica de V5-V6QTc: prejudicadoConclusao:1- Taquicardia sinusal2- Alteracoes primarias da repolarizacao ventricular difusas e acentuadas sugestivas de isquemia subendocardica 3-Area sugestiva de eletricamente inativa ( IAM cicatrizado? Aneurisma de VE?)4-Extrassistole supra ventriculares isoladas.OBS.: Correlacionar com dados clinicos. Se necessario, realizar complementacao diagnostica para insuficiencia coronariana. O tracado impresso corresponde a apenas um trecho do registro eletrocardiografico. Este laudo foi elaborado utilizando-se todo o tracado, disponivel no sistema. Dr. Fabio M. Fernandes Nunes Cardiologista CRM-MG: 39.404 Rede de Teassistência de Minas Gerais O eletrocardiograma e um exame complementar que deve ser interpretado juntamente com os dados clinicos do paciente. 12187\n",
      "\n",
      "\n",
      "Calculando para  Progressão_lenta_de_R_nas_derivações_precordiais\n",
      "\n",
      "Sem desvio de eixo.Onda P: duracao aumentada (135 ms)PRi: duracao aumentada (240 ms)QRS: duracao, eixo e amplitude normais. Ma progressao de R V1-V2. (Mau posicionamento de eletrodos? Biotipo? HAS?)ST e Onda T: alteracoes inespecificas da repolarizacao ventricularQTc: duracao normal. ( 420 ms)Conclusao:1- Ritmo Sinusal 2-Alteracoes inespecificas da repolarizacao ventricular3- Diminuicao de forcas septais.4-Bloqueio atrioventricular 1 grau5-Sinais sugestivos de sobrecarga atrial esquerda.O tracado impresso corresponde a apenas um trecho do registro eletrocardiografico. Este laudo foi elaborado utilizando-se todo o tracado, disponivel no sistema. Dr. Fabio M. Fernandes Nunes \tCardiologista CRM-MG: 39.404 Rede de Teassistência de Minas Gerais O eletrocardiograma e um exame complementar que deve ser interpretado juntamente com os dados clinicos do paciente. 824\n",
      "\n",
      "\n",
      "Calculando para  Ritmo_atrial_ectópico\n",
      "\n",
      "Ritmo regular.Sem desvio de eixo.Onda P: amplitude e duracao normais. Negativa em DII, DIII e aVF.PRi: duracao normal.QRS: duracao, eixo, morfologia e amplitude normais.ST: sem supra ou infradesnivelamento.Onda T: morfologia habitual.QTi: duracao normal.Conclusao:1- Ritmo Atrial Ectopico. Dr. Antonio Carlos R. Cabral CRM-MG: 40.788 - Telecardio - HC UFMG O eletrocardiograma e um exame complementar que deve ser interpretado juntamente com os dados clinicos do paciente. O Tracado impresso corresponde a apenas um trecho do registro eletrocardiografico. Este laudo foi elaborado utilizando-se de todo o tracado, disponivel no sistema. 2198\n",
      "\n",
      "\n",
      "Calculando para  Sobrecarga_atrial_esquerda\n",
      "\n",
      "RITMO SINUSAL REGULAR. FREQUENCIA CARDIACA MEDIA: 71BPM. SEM DESVIO DE EIXO.ONDA P: DURACAO: 131 MS. AMPLITUDE NORMAL. PRI: DURACAO NORMAL.QRS: DURACAO, EIXO, MORFOLOGIA E AMPLITUDE NORMAIS.ST: SEM SUPRA OU INFRADESNIVELAMENTO.ONDA T: ALTERACOES DA REPOLARIZACAO VENTRICULAR, DE CARATER INESPECIFICO E DIFUSO.QTI: DURACAO NORMAL: 394 MS.CONCLUSAO:1- ALTERACOES INESPECIFICAS DA REPOLARIZACAO VENTRICULAR.2- SOBRECARGA ATRIAL ESQUERDA. * CORRELACIONAR COM DADOS CLINICOS.* O TRACADO IMPRESSO CORRESPONDE A APENAS UM TRECHO DO REGISTRO ELETROCARDIOGRAFICO. ESTE LAUDO FOI ELABORADO UTILIZANDO-SE TODO O TRACADO DISPONIVEL NO SISTEMA.DR. ANTONIO CARLOS DE MELO JUNIOR CRM-MG:29626 - TELECARDIO - HC UFMG]]> </CONTEUDO></LAUDO> 56\n",
      "\n",
      "\n",
      "Calculando para  Taquicardia_sinusal\n",
      "\n",
      "Bradicardia sinusal regular, FC= 56bpm.Eixo: desviado para a esquerda, acima de -30 graus (compatível com bloqueio da divisão ântero-superior do ramo esquerdo/BDASE). Onda P: amplitude e duração normais.PRi: duração aumentada (246ms).QRS: duração de ms, amplitude normal. Morfologia de BRD: rsR&apos; em V1 e onda S empastada em DI, avL, V5 e V6.ST e onda T: alteraçoes inespecíficas da repolarização ventricular/AIRV.QTc: 436msConclusão:Bradicardia sinusal, BAV do primeiro grau, BDASE, BRD, AIRV. Dra. Graziela Chequer CRM-MG:26027 Rede Teleassistência de Minas Gerais*O traçado impresso corresponde a apenas um trecho do registro eletrocardiografico. Este laudo foi elaborado utilizando-se todo o traçado, disponivel no sistema.* 83\n",
      "\n",
      "\n"
     ]
    }
   ],
   "source": [
    "for i in range(0, 74):\n",
    "    if(not valid[i]): continue\n",
    "    print(\"Calculando para \", df.loc[i][\"Diagnostico\"])\n",
    "    score       = pScore[trans[i]]\n",
    "    a = 0\n",
    "    n = 2\n",
    "    for j in range(2000000):\n",
    "        if(results[j][i] >= score):\n",
    "            a+=1\n",
    "            if(a == n):\n",
    "                print()\n",
    "                print(db[\"CONTEUDO\"][j], j)\n",
    "                print()\n",
    "                print()\n",
    "                break"
   ]
  },
  {
   "cell_type": "code",
   "execution_count": 84,
   "metadata": {},
   "outputs": [
    {
     "data": {
      "text/plain": [
       "1696347"
      ]
     },
     "execution_count": 84,
     "metadata": {},
     "output_type": "execute_result"
    }
   ],
   "source": [
    "len(greenZone)"
   ]
  },
  {
   "cell_type": "code",
   "execution_count": 33,
   "metadata": {
    "collapsed": true,
    "jupyter": {
     "outputs_hidden": true
    }
   },
   "outputs": [
    {
     "name": "stdout",
     "output_type": "stream",
     "text": [
      "0 /2000000\n",
      "ETA: 15.06805419921875 minutes\n",
      "100000 /2000000\n",
      "ETA: 22.18751009305318 minutes\n",
      "200000 /2000000\n",
      "ETA: 22.223670840263367 minutes\n",
      "300000 /2000000\n",
      "ETA: 22.271745522816975 minutes\n",
      "400000 /2000000\n",
      "ETA: 22.251184344291687 minutes\n",
      "500000 /2000000\n",
      "ETA: 22.268088229497273 minutes\n",
      "600000 /2000000\n",
      "ETA: 22.254687905311584 minutes\n",
      "700000 /2000000\n",
      "ETA: 22.261267344156902 minutes\n",
      "800000 /2000000\n",
      "ETA: 22.259234378735226 minutes\n",
      "900000 /2000000\n",
      "ETA: 22.276442404146547 minutes\n",
      "1000000 /2000000\n",
      "ETA: 22.271032547950746 minutes\n",
      "1100000 /2000000\n",
      "ETA: 22.288521145329334 minutes\n",
      "1200000 /2000000\n",
      "ETA: 22.30972319841385 minutes\n",
      "1300000 /2000000\n",
      "ETA: 22.327491766367203 minutes\n",
      "1400000 /2000000\n",
      "ETA: 22.34723877339136 minutes\n",
      "1500000 /2000000\n",
      "ETA: 22.347880453533598 minutes\n",
      "1600000 /2000000\n",
      "ETA: 22.343353768189747 minutes\n",
      "1700000 /2000000\n",
      "ETA: 22.34727553760304 minutes\n",
      "1800000 /2000000\n",
      "ETA: 22.357706043455334 minutes\n",
      "1900000 /2000000\n",
      "ETA: 22.35783748877676 minutes\n"
     ]
    }
   ],
   "source": [
    "# import time\n",
    "# y_bin = []\n",
    "# tin = time.time()\n",
    "# for i in range(len(results)):\n",
    "#     if(i % 100000 == 0):\n",
    "#         print(i,\"/2000000\")\n",
    "#         tn = time.time() - tin\n",
    "#         et = (tn/max(i,1)) * 2000000\n",
    "#         print(\"ETA:\", (et/60),\"minutes\")\n",
    "        \n",
    "#     row = results[i]\n",
    "#     ans = []\n",
    "#     for j in range(74):\n",
    "#         if(not valid[j]): continue\n",
    "#         if(row[j] >= pScore[trans[j]]):\n",
    "#             ans.append(1)\n",
    "#         else:\n",
    "#             ans.append(0)\n",
    "#     y_bin.append(ans)\n",
    "# np.save(\"../../data/resultados/scores/allLabels.npy\", y_bin)"
   ]
  },
  {
   "cell_type": "code",
   "execution_count": 60,
   "metadata": {},
   "outputs": [],
   "source": [
    "y_bin = np.load(\"../../data/resultados/scores/allLabels.npy\")"
   ]
  },
  {
   "cell_type": "code",
   "execution_count": 69,
   "metadata": {},
   "outputs": [],
   "source": [
    "greenZone = [db[\"ID_EXAME\"][i] for i in range(len(y_bin)) if y_bin[i].sum() > 0]"
   ]
  },
  {
   "cell_type": "code",
   "execution_count": 78,
   "metadata": {},
   "outputs": [],
   "source": [
    "ocurrences = [y_bin[:,i].sum() for i in range(35)]"
   ]
  },
  {
   "cell_type": "code",
   "execution_count": 80,
   "metadata": {},
   "outputs": [
    {
     "name": "stdout",
     "output_type": "stream",
     "text": [
      "área_eletricamente_inativa : 43677\n",
      "Bloqueio_de_ramo_direito : 33562\n",
      "Bloqueio_de_ramo_esquerdo : 34186\n",
      "Sobrecarga_ventricular_esquerda_(critérios_de_Romhilt-Estes) : 44394\n",
      "Fibrilação_atrial : 35516\n",
      "Flutter_atrial : 3082\n",
      "Bloqueio_atrioventricular_de_2°_grau_Mobitz_I : 257\n",
      "Pré-excitação_ventricular_tipo_Wolff-Parkinson-White : 2010\n",
      "Sistema_de_estimulação_cardíaca_normofuncionante : 5973\n",
      "Taquicardia_atrial_multifocal : 423\n",
      "Taquicardia_supraventricular : 1681\n",
      "Alterações_primárias_da_repolarização_ventricular : 21203\n",
      "Extrassístoles_supraventriculares : 36467\n",
      "Extrassístoles_ventriculares : 42498\n",
      "Bradicardia_sinusal : 100335\n",
      "ECG_dentro_dos_limites_da_normalidade_para_idade_e_sexo : 971983\n",
      "Alterações_inespecíficas_da_repolarização_ventricular : 263976\n",
      "Alterações_secundárias_da_repolarização_ventricular : 107054\n",
      "Arritmia_sinusal : 38097\n",
      "Ausência_de_sinal_eletrocardiográfico_que_impede_a_análise : 1666\n",
      "Possível_inversão_de_posicionamento_de_eletrodos : 38751\n",
      "Bloqueio_atrioventricular_de_1°_grau : 12189\n",
      "Bloqueio_divisional_anterossuperior_do_ramo_esquerdo : 85447\n",
      "Bloqueio_divisional_posteroinferior_do_ramo_esquerdo : 6861\n",
      "Desvio_do_eixo_do_QRS_para_direita : 4632\n",
      "Desvio_do_eixo_do_QRS_para_esquerda : 43654\n",
      "Distúrbio_de_condução_do_ramo_direito : 18833\n",
      "Distúrbio_de_condução_do_ramo_esquerdo : 4923\n",
      "Intervalo_PR_curto : 4281\n",
      "Intervalo_QT_prolongado : 1250\n",
      "Isquemia_subendocárdica : 272\n",
      "Progressão_lenta_de_R_nas_derivações_precordiais : 4907\n",
      "Ritmo_atrial_ectópico : 4897\n",
      "Sobrecarga_atrial_esquerda : 53739\n",
      "Taquicardia_sinusal : 56329\n"
     ]
    }
   ],
   "source": [
    "for i in range(35):\n",
    "    print(ordem_classes[i],\":\", ocurrences[i])"
   ]
  },
  {
   "cell_type": "code",
   "execution_count": 72,
   "metadata": {},
   "outputs": [],
   "source": [
    "np.save(\"../../data/newGreenZoneIds.npy\", greenZone)"
   ]
  }
 ],
 "metadata": {
  "kernelspec": {
   "display_name": "Python 3",
   "language": "python",
   "name": "python3"
  },
  "language_info": {
   "codemirror_mode": {
    "name": "ipython",
    "version": 3
   },
   "file_extension": ".py",
   "mimetype": "text/x-python",
   "name": "python",
   "nbconvert_exporter": "python",
   "pygments_lexer": "ipython3",
   "version": "3.7.7"
  }
 },
 "nbformat": 4,
 "nbformat_minor": 4
}
