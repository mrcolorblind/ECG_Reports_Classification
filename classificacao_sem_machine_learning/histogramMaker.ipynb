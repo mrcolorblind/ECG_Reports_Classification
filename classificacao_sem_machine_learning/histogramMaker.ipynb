{
 "cells": [
  {
   "cell_type": "code",
   "execution_count": 5,
   "metadata": {},
   "outputs": [],
   "source": [
    "import pandas as pd\n",
    "import numpy as np\n",
    "import matplotlib.pyplot as plt\n",
    "import seaborn as sns\n",
    "sns.set_style(\"whitegrid\")"
   ]
  },
  {
   "cell_type": "code",
   "execution_count": 6,
   "metadata": {},
   "outputs": [],
   "source": [
    "resultados = pd.read_csv(\"../data/resultados/sem_siglas/resultado_sem_siglas_scores.csv\")"
   ]
  },
  {
   "cell_type": "code",
   "execution_count": 7,
   "metadata": {},
   "outputs": [],
   "source": [
    "dfScores   = pd.read_csv(\"../data/resultados/sem_siglas/nota_de_corte_estimada\")"
   ]
  },
  {
   "cell_type": "code",
   "execution_count": 32,
   "metadata": {},
   "outputs": [],
   "source": [
    "prevalencias = pd.read_csv(\"../data/prevalencia_e_scores_com_siglas.csv\") "
   ]
  },
  {
   "cell_type": "code",
   "execution_count": 16,
   "metadata": {},
   "outputs": [],
   "source": [
    "header = list(resultados)[2:]"
   ]
  },
  {
   "cell_type": "code",
   "execution_count": 17,
   "metadata": {},
   "outputs": [],
   "source": [
    "colors = [\"navy\", \"green\", \"purple\", \"brown\", \"black\", \"darkgreen\"]\n",
    "tamanhoDB = 2427689"
   ]
  },
  {
   "cell_type": "code",
   "execution_count": 37,
   "metadata": {},
   "outputs": [],
   "source": [
    "colorCounter = 0\n",
    "for diag in header:    \n",
    "    \n",
    "    #Plotando o gráfico sem zoom  \n",
    "    dfScoresAtual = dfScores.loc[dfScores['diagnostico'] == diag]\n",
    "    listaPlot     = resultados[diag]\n",
    "    listaPlot     = listaPlot.tolist()\n",
    "    plt.axvline(x = dfScoresAtual[\" score\"].values[0], color='red')\n",
    "    listaPlot.sort(reverse=True)\n",
    "    plt.plot(listaPlot, np.arange(0, len(listaPlot)), color = colors[(colorCounter%len(colors))])\n",
    "    plt.savefig('../data/graficos/histogramas/semZoom/' + diag)\n",
    "    plt.close()\n",
    "    \n",
    "    #Plotando o gráfico com zoom\n",
    "    dfScoresAtual    = dfScores.loc[dfScores['diagnostico'] == diag]\n",
    "    prevalenciaAtual = prevalencias.loc[prevalencias[\"Diagnostico\"] == diag]\n",
    "    listaPlot = resultados[diag]\n",
    "    listaPlot = listaPlot.tolist()\n",
    "    plt.axvline(x = dfScoresAtual[\" score\"].values[0], color='red')\n",
    "    listaPlot.sort(reverse=True)\n",
    "    top = (prevalenciaAtual[\"Prevalencia\"].values[0] * tamanhoDB * 10)\n",
    "    if(top > tamanhoDB):\n",
    "        top = tamanhoDB\n",
    "    plt.ylim((0, top))\n",
    "    plt.plot(listaPlot, np.arange(0, len(listaPlot)), color = colors[(colorCounter%len(colors))])\n",
    "    plt.savefig('../data/graficos/histogramas/comZoom/' + diag)\n",
    "    plt.close()\n",
    "    \n",
    "    #Mudando a próxima cor\n",
    "    colorCounter += 1"
   ]
  }
 ],
 "metadata": {
  "kernelspec": {
   "display_name": "Python 3",
   "language": "python",
   "name": "python3"
  },
  "language_info": {
   "codemirror_mode": {
    "name": "ipython",
    "version": 3
   },
   "file_extension": ".py",
   "mimetype": "text/x-python",
   "name": "python",
   "nbconvert_exporter": "python",
   "pygments_lexer": "ipython3",
   "version": "3.7.4"
  }
 },
 "nbformat": 4,
 "nbformat_minor": 4
}
