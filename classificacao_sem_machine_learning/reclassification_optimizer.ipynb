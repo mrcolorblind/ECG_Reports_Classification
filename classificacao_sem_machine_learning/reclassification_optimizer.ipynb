{
 "cells": [
  {
   "cell_type": "code",
   "execution_count": 1,
   "metadata": {},
   "outputs": [
    {
     "name": "stdout",
     "output_type": "stream",
     "text": [
      "Loading modules...\n"
     ]
    }
   ],
   "source": [
    "print(\"Loading modules...\")\n",
    "import multiprocessing\n",
    "from unidecode import unidecode\n",
    "from joblib import Parallel, delayed\n",
    "import numpy as np\n",
    "import string\n",
    "import pandas as pd\n",
    "import time\n",
    "from unicodedata import normalize\n",
    "from fuzzywuzzy import fuzz \n",
    "from fuzzywuzzy import process\n",
    "from argparse import ArgumentParser\n",
    "import re\n",
    "from difflib import SequenceMatcher\n",
    "import Levenshtein as lev"
   ]
  },
  {
   "cell_type": "code",
   "execution_count": 2,
   "metadata": {},
   "outputs": [],
   "source": [
    "from difflib import SequenceMatcher\n",
    "\n",
    "def scoring(a,b):\n",
    "    return (max(len(a),len(b)) - lev.distance(a, b)) / max(len(a),len(b)) * 100\n",
    "\n",
    "def partial_ratio(s1, s2):\n",
    "    \"\"\"\"Return the ratio of the most similar substring\n",
    "    as a number between 0 and 100.\"\"\"\n",
    "\n",
    "    if len(s1) <= len(s2):\n",
    "        shorter = s1\n",
    "        longer  = s2\n",
    "    else:\n",
    "        shorter = s2\n",
    "        longer  = s1\n",
    "    \n",
    "    n = len(shorter)\n",
    "    if(n == 0):\n",
    "        return 0\n",
    "    blocks = []\n",
    "    for j in range(len(longer)):\n",
    "        if (longer[j] == shorter[0]):\n",
    "            blocks.append([j, min(j+n, len(longer))])\n",
    "        if (longer[j] == shorter[-1]):\n",
    "            blocks.append([max(j-n, 0),j])\n",
    "    \n",
    "    #if (longer[j] == shorter[0]) or (longer[len(shorter)+j-1] == shorter[-1])\n",
    "\n",
    "    # each block represents a sequence of matching characters in a string\n",
    "    # of the form (idx_1, idx_2, len)\n",
    "    # the best partial match will block align with at least one of those blocks\n",
    "    #   e.g. shorter = \"abcd\", longer = XXXbcdeEEE\n",
    "    #   block = (1,3,3)\n",
    "    #   best score === ratio(\"abcd\", \"Xbcd\")\n",
    "    \n",
    "    ratios = [(scoring(shorter, longer[block[0]:block[1]])) for block in blocks]\n",
    "    if len(ratios) > 0:\n",
    "        biggest_r = max(ratios)\n",
    "    else:\n",
    "        return 0\n",
    "#     biggest_r = 0\n",
    "\n",
    "#     for block in blocks:\n",
    "#         m2 = SequenceMatcher(None, shorter, block[0])\n",
    "#         r = m2.ratio()\n",
    "#         if r > .95:\n",
    "#             best_long_start = block[1]\n",
    "#             best_long_end = len(shorter) + block[1]\n",
    "#             return [best_long_start, best_long_end, 100];\n",
    "#         elif r > biggest_r:\n",
    "#             best_long_start = block[1]\n",
    "#             best_long_end = len(shorter) + block[1]\n",
    "#             biggest_r = r\n",
    "\n",
    "    return round(biggest_r, 3)\n"
   ]
  },
  {
   "cell_type": "code",
   "execution_count": 6,
   "metadata": {
    "jupyter": {
     "source_hidden": true
    }
   },
   "outputs": [],
   "source": [
    "lista_corte = [95,100,\n",
    " 100, 70,\n",
    " 71, 100,\n",
    " 67, 88,\n",
    " 100, 90,\n",
    " 96, 93,\n",
    " 91, 87,\n",
    " 84, 71,\n",
    " 81, 100,\n",
    " 83, 79,\n",
    " 84, 78,\n",
    " 82, 47,\n",
    " 100,\n",
    " 80, 43,\n",
    " 42, 90,\n",
    " 100, 68,\n",
    " 69,55,\n",
    " 78, 100,\n",
    " 68, 57,\n",
    " 58, 70,\n",
    " 83, 85,\n",
    " 94, 94,\n",
    " 75, 92,\n",
    " 84, 56,\n",
    " 56, 89,\n",
    " 55, 100,\n",
    " 94, 69,\n",
    " 67, 67,\n",
    " 100, 71,\n",
    " 73, 95,\n",
    " 100, 62,\n",
    " 100, 96,\n",
    " 100, 44,\n",
    " 100, 89,\n",
    " 85, 71,\n",
    " 100, 65,\n",
    " 69, 59,\n",
    " 72]\n",
    "\n",
    "corte_classes = [84, 85, 96, 84, 97, 94, 81, 100, 83, 95, 83, 83, 81, 92, 95, 81, 85, 92, 84, 83, 86, 89, 83, 92, 93, 92, 83, 83, 87, \n",
    "                100, 92, 80, 84, 87, 91, 84, 100, 81, 100, 100, 88, 100, 81, 90, 100, 83, 90, 81, 86, 83, 96, 82, 97, 85, 90, 81, 81, 97,\n",
    "                95, 97, 84, 81, 84, 89, 86, 89, 83, 95]\n",
    "ordem_classes = ['área_eletricamente_inativa',\n",
    "       'Bloqueio_de_ramo_direito', 'Bloqueio_de_ramo_esquerdo',\n",
    "       'Bloqueio_de_ramo_direito_e_bloqueio_divisional_anterossuperior_do_ramo_esquerdo',\n",
    "       'Bloqueio_intraventricular_inespecífico',\n",
    "       'Sobrecarga_ventricular_esquerda_(critérios_de_Romhilt-Estes)',\n",
    "       'Sobrecarga_ventricular_esquerda_(critérios_de_voltagem)',\n",
    "       'Fibrilação_atrial', 'Flutter_atrial',\n",
    "       'Bloqueio_atrioventricular_de_2°_grau_Mobitz_I',\n",
    "       'Bloqueio_atrioventricular_de_2°_grau_Mobitz_II',\n",
    "       'Bloqueio_atrioventricular_2:1', 'Bloqueio_atrioventricular_avançado',\n",
    "       'Bloqueio_atrioventricular_total',\n",
    "       'Pré-excitação_ventricular_tipo_Wolff-Parkinson-White',\n",
    "       'Sistema_de_estimulação_cardíaca_normofuncionante',\n",
    "       'Sistema_de_estimulação_cardíaca_com_disfunção',\n",
    "       'Taquicardia_atrial_multifocal', 'Taquicardia_atrial',\n",
    "       'Taquicardia_supraventricular', 'Corrente_de_lesão_subendocárdica',\n",
    "       'Alterações_primárias_da_repolarização_ventricular',\n",
    "       'Extrassístoles_supraventriculares', 'Extrassístoles_ventriculares',\n",
    "       'Bradicardia_sinusal',\n",
    "       'ECG_dentro_dos_limites_da_normalidade_para_idade_e_sexo',\n",
    "       'Alterações_da_repolarização_ventricular_atribuídas_à_ação_digitálica',\n",
    "       'Alterações_inespecíficas_da_repolarização_ventricular',\n",
    "       'Alterações_secundárias_da_repolarização_ventricular',\n",
    "       'Arritmia_sinusal',\n",
    "       'Ausência_de_sinal_eletrocardiográfico_que_impede_a_análise',\n",
    "       'Interferência_na_linha_de_base_que_não_impede_a_análise_do_ECG',\n",
    "       'Ausência_de_sinal_eletrocardiográfico_que_não_impede_a_análise',\n",
    "       'Traçado_com_qualidade_técnica_insuficiente',\n",
    "       'Possível_inversão_de_posicionamento_de_eletrodos',\n",
    "       'Baixa_voltagem_em_derivações_precordiais',\n",
    "       'Baixa_voltagem_em_derivações_periféricas',\n",
    "       'Bloqueio_atrioventricular_de_1°_grau',\n",
    "       'Bloqueio_de_ramo_direito_e_bloqueio_divisional_posteroinferior_do_ramo_esquerdo',\n",
    "       'Bloqueio_divisional_anterossuperior_do_ramo_esquerdo',\n",
    "       'Bloqueio_divisional_posteroinferior_do_ramo_esquerdo',\n",
    "       'Desvio_do_eixo_do_QRS_para_direita',\n",
    "       'Desvio_do_eixo_do_QRS_para_esquerda',\n",
    "       'Dissociação_atrioventricular_isorrítmica',\n",
    "       'Distúrbio_de_condução_do_ramo_direito',\n",
    "       'Distúrbio_de_condução_do_ramo_esquerdo', 'Intervalo_PR_curto',\n",
    "       'Intervalo_QT_prolongado', 'Isquemia_subendocárdica',\n",
    "       'Progressão_lenta_de_R_nas_derivações_precordiais', 'Pausa_sinusal',\n",
    "       'Corrente_de_lesão_subepicárdica',\n",
    "       'Corrente_de_lesão_subepicárdica_-_provável_infarto_agudo_do_miocárdio_com_supradesnivelamento_de_ST',\n",
    "       'Repolarização_precoce', 'Ritmo_atrial_ectópico',\n",
    "       'Ritmo_atrial_multifocal', 'Ritmo_idioventricular_acelerado',\n",
    "       'Ritmo_juncional', 'Síndrome_de_Brugada', 'Sobrecarga_atrial_direita',\n",
    "       'Sobrecarga_atrial_esquerda', 'Sobrecarga_biatrial',\n",
    "       'Sobrecarga_biventricular', 'Sobrecarga_ventricular_direita',\n",
    "       'Sobrecarga_ventricular_esquerda(_critérios_de_voltagem)',\n",
    "       'Taquicardia_sinusal', 'Taquicardia_ventricular_não_sustentada',\n",
    "       'Taquicardia_ventricular_sustentada',\n",
    "       'Suspeita_de_Síndrome_de_Brugada_repetir_V1-V2_em_derivações_superiores',\n",
    "       'Taquicardia_juncional', 'Batimento_de_escape_atrial',\n",
    "       'Batimento_de_escape_supraventricular', 'Batimento_de_escape_juncional',\n",
    "       'Batimento_de_escape_ventricular']"
   ]
  },
  {
   "cell_type": "code",
   "execution_count": 3,
   "metadata": {},
   "outputs": [],
   "source": [
    "def clean_text(x):\n",
    "    if type(x) is str:\n",
    "        pattern = r'[^a-zA-z0-9!:.,?\\s]'\n",
    "        x = normalize('NFKD', x).encode('ASCII', 'ignore').decode('ASCII')\n",
    "        x = re.sub(pattern, '', x)\n",
    "        return x.lower()\n",
    "    else:\n",
    "        return \"\""
   ]
  },
  {
   "cell_type": "code",
   "execution_count": 13,
   "metadata": {},
   "outputs": [],
   "source": [
    "starting = 0\n",
    "ending   = 2000000"
   ]
  },
  {
   "cell_type": "code",
   "execution_count": 15,
   "metadata": {},
   "outputs": [
    {
     "name": "stdout",
     "output_type": "stream",
     "text": [
      "Loading data...\n",
      "Cutting slice. From 0 to 2000000...\n"
     ]
    }
   ],
   "source": [
    "print(\"Loading data...\")\n",
    "db = pd.read_csv(\"../../data/DATA_LAUDOS_TEXTO_formato1\", sep = \";\")\n",
    "optDict = ['ecg dentro dos limites da normalidade', 'eletrocardiograma dentro dos limites da normalidade']\n",
    "print(\"Cutting slice. From {} to {}...\".format(starting, ending))\n",
    "db = db[starting:ending]\n",
    "db = db.reset_index()"
   ]
  },
  {
   "cell_type": "code",
   "execution_count": 16,
   "metadata": {},
   "outputs": [],
   "source": [
    "texts = [clean_text(text) for text in db[\"CONTEUDO\"]]\n",
    "# texts = [text[text.find('conclusao'):] for text in texts]"
   ]
  },
  {
   "cell_type": "code",
   "execution_count": 40,
   "metadata": {
    "collapsed": true,
    "jupyter": {
     "outputs_hidden": true
    }
   },
   "outputs": [
    {
     "name": "stdout",
     "output_type": "stream",
     "text": [
      "Started working!\n",
      "Working in batches of 1000\n",
      "0 / 2000000\n",
      "Took 1.6123592853546143 seconds!\n",
      "1000 / 2000000\n",
      "Took 1.5342047214508057 seconds!\n",
      "2000 / 2000000\n",
      "Took 1.5902457237243652 seconds!\n",
      "3000 / 2000000\n",
      "Took 1.581113576889038 seconds!\n",
      "4000 / 2000000\n",
      "Took 1.5768020153045654 seconds!\n",
      "5000 / 2000000\n",
      "Took 1.5551128387451172 seconds!\n",
      "6000 / 2000000\n",
      "Took 1.5610032081604004 seconds!\n",
      "7000 / 2000000\n",
      "Took 1.544217824935913 seconds!\n",
      "8000 / 2000000\n"
     ]
    },
    {
     "ename": "KeyboardInterrupt",
     "evalue": "",
     "output_type": "error",
     "traceback": [
      "\u001b[0;31m---------------------------------------------------------------------------\u001b[0m",
      "\u001b[0;31mKeyboardInterrupt\u001b[0m                         Traceback (most recent call last)",
      "\u001b[0;32m<ipython-input-40-42ce2ce8f320>\u001b[0m in \u001b[0;36m<module>\u001b[0;34m\u001b[0m\n\u001b[1;32m      7\u001b[0m     \u001b[0mt\u001b[0m \u001b[0;34m=\u001b[0m \u001b[0mtime\u001b[0m\u001b[0;34m.\u001b[0m\u001b[0mtime\u001b[0m\u001b[0;34m(\u001b[0m\u001b[0;34m)\u001b[0m\u001b[0;34m\u001b[0m\u001b[0;34m\u001b[0m\u001b[0m\n\u001b[1;32m      8\u001b[0m     scores = [max([partial_ratio(text, clean_text(diag)) for diag in optDict])\\\n\u001b[0;32m----> 9\u001b[0;31m           for text in texts[i:i+batch]]\n\u001b[0m\u001b[1;32m     10\u001b[0m     \u001b[0mans\u001b[0m \u001b[0;34m=\u001b[0m \u001b[0mnp\u001b[0m\u001b[0;34m.\u001b[0m\u001b[0mappend\u001b[0m\u001b[0;34m(\u001b[0m\u001b[0mans\u001b[0m\u001b[0;34m,\u001b[0m \u001b[0mscores\u001b[0m\u001b[0;34m)\u001b[0m\u001b[0;34m\u001b[0m\u001b[0;34m\u001b[0m\u001b[0m\n\u001b[1;32m     11\u001b[0m     \u001b[0mprint\u001b[0m\u001b[0;34m(\u001b[0m\u001b[0;34m\"Took\"\u001b[0m\u001b[0;34m,\u001b[0m \u001b[0mtime\u001b[0m\u001b[0;34m.\u001b[0m\u001b[0mtime\u001b[0m\u001b[0;34m(\u001b[0m\u001b[0;34m)\u001b[0m \u001b[0;34m-\u001b[0m \u001b[0mt\u001b[0m\u001b[0;34m,\u001b[0m \u001b[0;34m\"seconds!\"\u001b[0m\u001b[0;34m)\u001b[0m\u001b[0;34m\u001b[0m\u001b[0;34m\u001b[0m\u001b[0m\n",
      "\u001b[0;32m<ipython-input-40-42ce2ce8f320>\u001b[0m in \u001b[0;36m<listcomp>\u001b[0;34m(.0)\u001b[0m\n\u001b[1;32m      7\u001b[0m     \u001b[0mt\u001b[0m \u001b[0;34m=\u001b[0m \u001b[0mtime\u001b[0m\u001b[0;34m.\u001b[0m\u001b[0mtime\u001b[0m\u001b[0;34m(\u001b[0m\u001b[0;34m)\u001b[0m\u001b[0;34m\u001b[0m\u001b[0;34m\u001b[0m\u001b[0m\n\u001b[1;32m      8\u001b[0m     scores = [max([partial_ratio(text, clean_text(diag)) for diag in optDict])\\\n\u001b[0;32m----> 9\u001b[0;31m           for text in texts[i:i+batch]]\n\u001b[0m\u001b[1;32m     10\u001b[0m     \u001b[0mans\u001b[0m \u001b[0;34m=\u001b[0m \u001b[0mnp\u001b[0m\u001b[0;34m.\u001b[0m\u001b[0mappend\u001b[0m\u001b[0;34m(\u001b[0m\u001b[0mans\u001b[0m\u001b[0;34m,\u001b[0m \u001b[0mscores\u001b[0m\u001b[0;34m)\u001b[0m\u001b[0;34m\u001b[0m\u001b[0;34m\u001b[0m\u001b[0m\n\u001b[1;32m     11\u001b[0m     \u001b[0mprint\u001b[0m\u001b[0;34m(\u001b[0m\u001b[0;34m\"Took\"\u001b[0m\u001b[0;34m,\u001b[0m \u001b[0mtime\u001b[0m\u001b[0;34m.\u001b[0m\u001b[0mtime\u001b[0m\u001b[0;34m(\u001b[0m\u001b[0;34m)\u001b[0m \u001b[0;34m-\u001b[0m \u001b[0mt\u001b[0m\u001b[0;34m,\u001b[0m \u001b[0;34m\"seconds!\"\u001b[0m\u001b[0;34m)\u001b[0m\u001b[0;34m\u001b[0m\u001b[0;34m\u001b[0m\u001b[0m\n",
      "\u001b[0;32m<ipython-input-40-42ce2ce8f320>\u001b[0m in \u001b[0;36m<listcomp>\u001b[0;34m(.0)\u001b[0m\n\u001b[1;32m      6\u001b[0m     \u001b[0mprint\u001b[0m\u001b[0;34m(\u001b[0m\u001b[0mi\u001b[0m\u001b[0;34m,\u001b[0m\u001b[0;34m\"/\"\u001b[0m\u001b[0;34m,\u001b[0m\u001b[0mlen\u001b[0m\u001b[0;34m(\u001b[0m\u001b[0mdb\u001b[0m\u001b[0;34m)\u001b[0m\u001b[0;34m)\u001b[0m\u001b[0;34m\u001b[0m\u001b[0;34m\u001b[0m\u001b[0m\n\u001b[1;32m      7\u001b[0m     \u001b[0mt\u001b[0m \u001b[0;34m=\u001b[0m \u001b[0mtime\u001b[0m\u001b[0;34m.\u001b[0m\u001b[0mtime\u001b[0m\u001b[0;34m(\u001b[0m\u001b[0;34m)\u001b[0m\u001b[0;34m\u001b[0m\u001b[0;34m\u001b[0m\u001b[0m\n\u001b[0;32m----> 8\u001b[0;31m     scores = [max([partial_ratio(text, clean_text(diag)) for diag in optDict])\\\n\u001b[0m\u001b[1;32m      9\u001b[0m           for text in texts[i:i+batch]]\n\u001b[1;32m     10\u001b[0m     \u001b[0mans\u001b[0m \u001b[0;34m=\u001b[0m \u001b[0mnp\u001b[0m\u001b[0;34m.\u001b[0m\u001b[0mappend\u001b[0m\u001b[0;34m(\u001b[0m\u001b[0mans\u001b[0m\u001b[0;34m,\u001b[0m \u001b[0mscores\u001b[0m\u001b[0;34m)\u001b[0m\u001b[0;34m\u001b[0m\u001b[0;34m\u001b[0m\u001b[0m\n",
      "\u001b[0;32m<ipython-input-2-aaddb646571c>\u001b[0m in \u001b[0;36mpartial_ratio\u001b[0;34m(s1, s2)\u001b[0m\n\u001b[1;32m     34\u001b[0m     \u001b[0;31m#   best score === ratio(\"abcd\", \"Xbcd\")\u001b[0m\u001b[0;34m\u001b[0m\u001b[0;34m\u001b[0m\u001b[0;34m\u001b[0m\u001b[0m\n\u001b[1;32m     35\u001b[0m \u001b[0;34m\u001b[0m\u001b[0m\n\u001b[0;32m---> 36\u001b[0;31m     \u001b[0mratios\u001b[0m \u001b[0;34m=\u001b[0m \u001b[0;34m[\u001b[0m\u001b[0;34m(\u001b[0m\u001b[0mscoring\u001b[0m\u001b[0;34m(\u001b[0m\u001b[0mshorter\u001b[0m\u001b[0;34m,\u001b[0m \u001b[0mlonger\u001b[0m\u001b[0;34m[\u001b[0m\u001b[0mblock\u001b[0m\u001b[0;34m[\u001b[0m\u001b[0;36m0\u001b[0m\u001b[0;34m]\u001b[0m\u001b[0;34m:\u001b[0m\u001b[0mblock\u001b[0m\u001b[0;34m[\u001b[0m\u001b[0;36m1\u001b[0m\u001b[0;34m]\u001b[0m\u001b[0;34m]\u001b[0m\u001b[0;34m)\u001b[0m\u001b[0;34m)\u001b[0m \u001b[0;32mfor\u001b[0m \u001b[0mblock\u001b[0m \u001b[0;32min\u001b[0m \u001b[0mblocks\u001b[0m\u001b[0;34m]\u001b[0m\u001b[0;34m\u001b[0m\u001b[0;34m\u001b[0m\u001b[0m\n\u001b[0m\u001b[1;32m     37\u001b[0m     \u001b[0;32mif\u001b[0m \u001b[0mlen\u001b[0m\u001b[0;34m(\u001b[0m\u001b[0mratios\u001b[0m\u001b[0;34m)\u001b[0m \u001b[0;34m>\u001b[0m \u001b[0;36m0\u001b[0m\u001b[0;34m:\u001b[0m\u001b[0;34m\u001b[0m\u001b[0;34m\u001b[0m\u001b[0m\n\u001b[1;32m     38\u001b[0m         \u001b[0mbiggest_r\u001b[0m \u001b[0;34m=\u001b[0m \u001b[0mmax\u001b[0m\u001b[0;34m(\u001b[0m\u001b[0mratios\u001b[0m\u001b[0;34m)\u001b[0m\u001b[0;34m\u001b[0m\u001b[0;34m\u001b[0m\u001b[0m\n",
      "\u001b[0;32m<ipython-input-2-aaddb646571c>\u001b[0m in \u001b[0;36m<listcomp>\u001b[0;34m(.0)\u001b[0m\n\u001b[1;32m     34\u001b[0m     \u001b[0;31m#   best score === ratio(\"abcd\", \"Xbcd\")\u001b[0m\u001b[0;34m\u001b[0m\u001b[0;34m\u001b[0m\u001b[0;34m\u001b[0m\u001b[0m\n\u001b[1;32m     35\u001b[0m \u001b[0;34m\u001b[0m\u001b[0m\n\u001b[0;32m---> 36\u001b[0;31m     \u001b[0mratios\u001b[0m \u001b[0;34m=\u001b[0m \u001b[0;34m[\u001b[0m\u001b[0;34m(\u001b[0m\u001b[0mscoring\u001b[0m\u001b[0;34m(\u001b[0m\u001b[0mshorter\u001b[0m\u001b[0;34m,\u001b[0m \u001b[0mlonger\u001b[0m\u001b[0;34m[\u001b[0m\u001b[0mblock\u001b[0m\u001b[0;34m[\u001b[0m\u001b[0;36m0\u001b[0m\u001b[0;34m]\u001b[0m\u001b[0;34m:\u001b[0m\u001b[0mblock\u001b[0m\u001b[0;34m[\u001b[0m\u001b[0;36m1\u001b[0m\u001b[0;34m]\u001b[0m\u001b[0;34m]\u001b[0m\u001b[0;34m)\u001b[0m\u001b[0;34m)\u001b[0m \u001b[0;32mfor\u001b[0m \u001b[0mblock\u001b[0m \u001b[0;32min\u001b[0m \u001b[0mblocks\u001b[0m\u001b[0;34m]\u001b[0m\u001b[0;34m\u001b[0m\u001b[0;34m\u001b[0m\u001b[0m\n\u001b[0m\u001b[1;32m     37\u001b[0m     \u001b[0;32mif\u001b[0m \u001b[0mlen\u001b[0m\u001b[0;34m(\u001b[0m\u001b[0mratios\u001b[0m\u001b[0;34m)\u001b[0m \u001b[0;34m>\u001b[0m \u001b[0;36m0\u001b[0m\u001b[0;34m:\u001b[0m\u001b[0;34m\u001b[0m\u001b[0;34m\u001b[0m\u001b[0m\n\u001b[1;32m     38\u001b[0m         \u001b[0mbiggest_r\u001b[0m \u001b[0;34m=\u001b[0m \u001b[0mmax\u001b[0m\u001b[0;34m(\u001b[0m\u001b[0mratios\u001b[0m\u001b[0;34m)\u001b[0m\u001b[0;34m\u001b[0m\u001b[0;34m\u001b[0m\u001b[0m\n",
      "\u001b[0;32m<ipython-input-2-aaddb646571c>\u001b[0m in \u001b[0;36mscoring\u001b[0;34m(a, b)\u001b[0m\n\u001b[1;32m      1\u001b[0m \u001b[0;32mfrom\u001b[0m \u001b[0mdifflib\u001b[0m \u001b[0;32mimport\u001b[0m \u001b[0mSequenceMatcher\u001b[0m\u001b[0;34m\u001b[0m\u001b[0;34m\u001b[0m\u001b[0m\n\u001b[1;32m      2\u001b[0m \u001b[0;34m\u001b[0m\u001b[0m\n\u001b[0;32m----> 3\u001b[0;31m \u001b[0;32mdef\u001b[0m \u001b[0mscoring\u001b[0m\u001b[0;34m(\u001b[0m\u001b[0ma\u001b[0m\u001b[0;34m,\u001b[0m\u001b[0mb\u001b[0m\u001b[0;34m)\u001b[0m\u001b[0;34m:\u001b[0m\u001b[0;34m\u001b[0m\u001b[0;34m\u001b[0m\u001b[0m\n\u001b[0m\u001b[1;32m      4\u001b[0m     \u001b[0;32mreturn\u001b[0m \u001b[0;34m(\u001b[0m\u001b[0mmax\u001b[0m\u001b[0;34m(\u001b[0m\u001b[0mlen\u001b[0m\u001b[0;34m(\u001b[0m\u001b[0ma\u001b[0m\u001b[0;34m)\u001b[0m\u001b[0;34m,\u001b[0m\u001b[0mlen\u001b[0m\u001b[0;34m(\u001b[0m\u001b[0mb\u001b[0m\u001b[0;34m)\u001b[0m\u001b[0;34m)\u001b[0m \u001b[0;34m-\u001b[0m \u001b[0mlev\u001b[0m\u001b[0;34m.\u001b[0m\u001b[0mdistance\u001b[0m\u001b[0;34m(\u001b[0m\u001b[0ma\u001b[0m\u001b[0;34m,\u001b[0m \u001b[0mb\u001b[0m\u001b[0;34m)\u001b[0m\u001b[0;34m)\u001b[0m \u001b[0;34m/\u001b[0m \u001b[0mmax\u001b[0m\u001b[0;34m(\u001b[0m\u001b[0mlen\u001b[0m\u001b[0;34m(\u001b[0m\u001b[0ma\u001b[0m\u001b[0;34m)\u001b[0m\u001b[0;34m,\u001b[0m\u001b[0mlen\u001b[0m\u001b[0;34m(\u001b[0m\u001b[0mb\u001b[0m\u001b[0;34m)\u001b[0m\u001b[0;34m)\u001b[0m \u001b[0;34m*\u001b[0m \u001b[0;36m100\u001b[0m\u001b[0;34m\u001b[0m\u001b[0;34m\u001b[0m\u001b[0m\n\u001b[1;32m      5\u001b[0m \u001b[0;34m\u001b[0m\u001b[0m\n",
      "\u001b[0;31mKeyboardInterrupt\u001b[0m: "
     ]
    }
   ],
   "source": [
    "print(\"Started working!\")\n",
    "batch = 1000\n",
    "print(\"Working in batches of\", batch)\n",
    "ans = np.empty(0)\n",
    "for i in range(0, len(db), batch):\n",
    "    print(i,\"/\",len(db))\n",
    "    t = time.time()\n",
    "    scores = [max([partial_ratio(text, clean_text(diag)) for diag in optDict])\\\n",
    "          for text in texts[i:i+batch]]\n",
    "    ans = np.append(ans, scores)\n",
    "    print(\"Took\", time.time() - t, \"seconds!\")\n",
    "    np.save(\"optimization_normal.npy\", ans)\n",
    "    \n",
    "print(\"DONE!!!\")"
   ]
  },
  {
   "cell_type": "code",
   "execution_count": 53,
   "metadata": {},
   "outputs": [],
   "source": [
    "ans = np.load(\"optimization_normal.npy\")"
   ]
  },
  {
   "cell_type": "code",
   "execution_count": 56,
   "metadata": {},
   "outputs": [],
   "source": [
    "result = np.load(\"../../data/allscores.npy\")"
   ]
  },
  {
   "cell_type": "code",
   "execution_count": 62,
   "metadata": {},
   "outputs": [
    {
     "name": "stdout",
     "output_type": "stream",
     "text": [
      "0 /2000000\n",
      "100000 /2000000\n",
      "200000 /2000000\n",
      "300000 /2000000\n",
      "400000 /2000000\n",
      "500000 /2000000\n",
      "600000 /2000000\n",
      "700000 /2000000\n",
      "800000 /2000000\n",
      "900000 /2000000\n",
      "1000000 /2000000\n",
      "1100000 /2000000\n",
      "1200000 /2000000\n",
      "1300000 /2000000\n",
      "1400000 /2000000\n",
      "1500000 /2000000\n",
      "1600000 /2000000\n",
      "1700000 /2000000\n",
      "1800000 /2000000\n",
      "1900000 /2000000\n"
     ]
    }
   ],
   "source": [
    "for i in range(len(result)):\n",
    "    if (i%100000 == 0): print(i, \"/2000000\")\n",
    "    result[i][25] = max(result[i][25], ans[i])"
   ]
  },
  {
   "cell_type": "code",
   "execution_count": 72,
   "metadata": {},
   "outputs": [
    {
     "data": {
      "text/plain": [
       "800000.0"
      ]
     },
     "execution_count": 72,
     "metadata": {},
     "output_type": "execute_result"
    }
   ],
   "source": [
    "2000000 * 0.4"
   ]
  },
  {
   "cell_type": "code",
   "execution_count": 71,
   "metadata": {},
   "outputs": [
    {
     "name": "stdout",
     "output_type": "stream",
     "text": [
      "971983\n"
     ]
    }
   ],
   "source": [
    "a = 0\n",
    "for i in range(len(result)):\n",
    "    if result[i][25] >= 100: a+=1\n",
    "print(a)"
   ]
  }
 ],
 "metadata": {
  "kernelspec": {
   "display_name": "Python 3",
   "language": "python",
   "name": "python3"
  },
  "language_info": {
   "codemirror_mode": {
    "name": "ipython",
    "version": 3
   },
   "file_extension": ".py",
   "mimetype": "text/x-python",
   "name": "python",
   "nbconvert_exporter": "python",
   "pygments_lexer": "ipython3",
   "version": "3.7.4"
  }
 },
 "nbformat": 4,
 "nbformat_minor": 4
}
