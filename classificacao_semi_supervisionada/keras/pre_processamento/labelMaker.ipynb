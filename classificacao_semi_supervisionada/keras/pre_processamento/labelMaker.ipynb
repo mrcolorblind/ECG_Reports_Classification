{
 "cells": [
  {
   "cell_type": "code",
   "execution_count": 1,
   "metadata": {},
   "outputs": [
    {
     "name": "stdout",
     "output_type": "stream",
     "text": [
      "Importing packages...\n"
     ]
    }
   ],
   "source": [
    "print(\"Importing packages...\")\n",
    "import pandas as pd\n",
    "import numpy as np\n",
    "from bisect import bisect_left"
   ]
  },
  {
   "cell_type": "code",
   "execution_count": 2,
   "metadata": {},
   "outputs": [],
   "source": [
    "def BinarySearch(a, x): \n",
    "    i = bisect_left(a, x) \n",
    "    if i != len(a) and a[i] == x: \n",
    "        return True \n",
    "    else: \n",
    "        return False"
   ]
  },
  {
   "cell_type": "code",
   "execution_count": 4,
   "metadata": {},
   "outputs": [
    {
     "name": "stdout",
     "output_type": "stream",
     "text": [
      "Reading data...\n"
     ]
    }
   ],
   "source": [
    "print(\"Reading data...\")\n",
    "passingScores = pd.read_csv(\"../../../../data/resultados/sem_siglas/nota_de_corte_manual\")\n",
    "#WA stands for Without Acronyms and OA stands for Only Acronyms \n",
    "scoresOA = pd.read_csv(\"../../../../data/resultados/apenas_siglas/scores_apenas_siglas.csv\")\n",
    "scoresWA = pd.read_csv(\"../../../../data/resultados/sem_siglas/resultado_sem_siglas_scores.csv\")"
   ]
  },
  {
   "cell_type": "code",
   "execution_count": 8,
   "metadata": {},
   "outputs": [
    {
     "data": {
      "text/plain": [
       "Index(['idExame', 'idLaudo', 'área_eletricamente_inativa',\n",
       "       'Bloqueio_de_ramo_direito', 'Bloqueio_de_ramo_esquerdo',\n",
       "       'Bloqueio_de_ramo_direito_e_bloqueio_divisional_anterossuperior_do_ramo_esquerdo',\n",
       "       'Bloqueio_intraventricular_inespecífico',\n",
       "       'Sobrecarga_ventricular_esquerda_(critérios_de_Romhilt-Estes)',\n",
       "       'Sobrecarga_ventricular_esquerda_(critérios_de_voltagem)',\n",
       "       'Fibrilação_atrial', 'Flutter_atrial',\n",
       "       'Bloqueio_atrioventricular_de_2°_grau_Mobitz_I',\n",
       "       'Bloqueio_atrioventricular_de_2°_grau_Mobitz_II',\n",
       "       'Bloqueio_atrioventricular_2:1', 'Bloqueio_atrioventricular_avançado',\n",
       "       'Bloqueio_atrioventricular_total',\n",
       "       'Pré-excitação_ventricular_tipo_Wolff-Parkinson-White',\n",
       "       'Sistema_de_estimulação_cardíaca_normofuncionante',\n",
       "       'Sistema_de_estimulação_cardíaca_com_disfunção',\n",
       "       'Taquicardia_atrial_multifocal', 'Taquicardia_atrial',\n",
       "       'Taquicardia_supraventricular', 'Corrente_de_lesão_subendocárdica',\n",
       "       'Alterações_primárias_da_repolarização_ventricular',\n",
       "       'Extrassístoles_supraventriculares', 'Extrassístoles_ventriculares',\n",
       "       'Bradicardia_sinusal',\n",
       "       'ECG_dentro_dos_limites_da_normalidade_para_idade_e_sexo',\n",
       "       'Alterações_da_repolarização_ventricular_atribuídas_à_ação_digitálica',\n",
       "       'Alterações_inespecíficas_da_repolarização_ventricular',\n",
       "       'Alterações_secundárias_da_repolarização_ventricular',\n",
       "       'Arritmia_sinusal',\n",
       "       'Ausência_de_sinal_eletrocardiográfico_que_impede_a_análise',\n",
       "       'Interferência_na_linha_de_base_que_não_impede_a_análise_do_ECG',\n",
       "       'Ausência_de_sinal_eletrocardiográfico_que_não_impede_a_análise',\n",
       "       'Traçado_com_qualidade_técnica_insuficiente',\n",
       "       'Possível_inversão_de_posicionamento_de_eletrodos',\n",
       "       'Baixa_voltagem_em_derivações_precordiais',\n",
       "       'Baixa_voltagem_em_derivações_periféricas',\n",
       "       'Bloqueio_atrioventricular_de_1°_grau',\n",
       "       'Bloqueio_de_ramo_direito_e_bloqueio_divisional_posteroinferior_do_ramo_esquerdo',\n",
       "       'Bloqueio_divisional_anterossuperior_do_ramo_esquerdo',\n",
       "       'Bloqueio_divisional_posteroinferior_do_ramo_esquerdo',\n",
       "       'Desvio_do_eixo_do_QRS_para_direita',\n",
       "       'Desvio_do_eixo_do_QRS_para_esquerda',\n",
       "       'Dissociação_atrioventricular_isorrítmica',\n",
       "       'Distúrbio_de_condução_do_ramo_direito',\n",
       "       'Distúrbio_de_condução_do_ramo_esquerdo', 'Intervalo_PR_curto',\n",
       "       'Intervalo_QT_prolongado', 'Isquemia_subendocárdica',\n",
       "       'Progressão_lenta_de_R_nas_derivações_precordiais', 'Pausa_sinusal',\n",
       "       'Corrente_de_lesão_subepicárdica',\n",
       "       'Corrente_de_lesão_subepicárdica_-_provável_infarto_agudo_do_miocárdio_com_supradesnivelamento_de_ST',\n",
       "       'Repolarização_precoce', 'Ritmo_atrial_ectópico',\n",
       "       'Ritmo_atrial_multifocal', 'Ritmo_idioventricular_acelerado',\n",
       "       'Ritmo_juncional', 'Síndrome_de_Brugada', 'Sobrecarga_atrial_direita',\n",
       "       'Sobrecarga_atrial_esquerda', 'Sobrecarga_biatrial',\n",
       "       'Sobrecarga_biventricular', 'Sobrecarga_ventricular_direita',\n",
       "       'Sobrecarga_ventricular_esquerda(_critérios_de_voltagem)',\n",
       "       'Taquicardia_sinusal', 'Taquicardia_ventricular_não_sustentada',\n",
       "       'Taquicardia_ventricular_sustentada',\n",
       "       'Suspeita_de_Síndrome_de_Brugada_repetir_V1-V2_em_derivações_superiores',\n",
       "       'Taquicardia_juncional', 'Batimento_de_escape_atrial',\n",
       "       'Batimento_de_escape_supraventricular', 'Batimento_de_escape_juncional',\n",
       "       'Batimento_de_escape_ventricular'],\n",
       "      dtype='object')"
      ]
     },
     "execution_count": 8,
     "metadata": {},
     "output_type": "execute_result"
    }
   ],
   "source": [
    "scoresOA.columns"
   ]
  },
  {
   "cell_type": "code",
   "execution_count": 303,
   "metadata": {},
   "outputs": [],
   "source": [
    "print(\"Processing data [1/2]...\")\n",
    "#Only acronyms green zone\n",
    "positivesOA = {row[1]: sorted(list(scoresOA[\"idExame\"][scoresOA[row[1]] == 100])) for row in passingScores.itertuples()}\n",
    "\n",
    "#Without acronyms green zone\n",
    "#row[1] is the diagnosis name and row[2] is the passing score for that diagnosis\n",
    "positivesWA = {row[1]: sorted(list(scoresWA[\"idExame\"][scoresWA[row[1]] >= row[2]])) for row in passingScores.itertuples()}"
   ]
  },
  {
   "cell_type": "code",
   "execution_count": 368,
   "metadata": {},
   "outputs": [],
   "source": [
    "print(\"Processing data [2/2]...\")\n",
    "#Creating the label for all lines of the dataset\n",
    "#line[1] equals the idExame of that line\n",
    "labels = []\n",
    "i = 0\n",
    "\n",
    "for line in scoresOA.itertuples():\n",
    "    actualLabel = []\n",
    "    actual = {}\n",
    "    actual[\"idExame\"] = line[1]\n",
    "    for row in passingScores.itertuples():\n",
    "        condition1 = BinarySearch(positivesOA[row[1]], line[1])\n",
    "        condition2 = BinarySearch(positivesWA[row[1]], line[1])\n",
    "        if condition1 or condition2:\n",
    "            actualLabel.append(True)\n",
    "        else:\n",
    "            actualLabel.append(False)\n",
    "    actual[\"label\"] = actualLabel\n",
    "    labels.append(actual)\n",
    "    \n",
    "    if(i % 100000 == 0):\n",
    "        print (i, \" registros processados...\")\n",
    "    i = i+1"
   ]
  },
  {
   "cell_type": "code",
   "execution_count": 367,
   "metadata": {},
   "outputs": [],
   "source": [
    "#Creating two dataframes, one of which will have the idExame of all the lines that are in the green zone\n",
    "dfLabels     = pd.DataFrame(labels)\n",
    "greenZoneIds = [dfLabels[\"idExame\"][i] for i in range(len(dfLabels)) if np.any(dfLabels[\"label\"][i])]\n",
    "greenZoneIds = pd.DataFrame(greenZoneIds, columns = [\"id\"])\n",
    "print(\"Saving data...\")\n",
    "dfLabels.to_csv(\"../../../data/resultados/resultLabels.csv\")\n",
    "greenZoneIds.to_csv(\"../../../data/resultados/greenZoneIds.csv\")"
   ]
  }
 ],
 "metadata": {
  "kernelspec": {
   "display_name": "Python 3",
   "language": "python",
   "name": "python3"
  },
  "language_info": {
   "codemirror_mode": {
    "name": "ipython",
    "version": 3
   },
   "file_extension": ".py",
   "mimetype": "text/x-python",
   "name": "python",
   "nbconvert_exporter": "python",
   "pygments_lexer": "ipython3",
   "version": "3.7.4"
  }
 },
 "nbformat": 4,
 "nbformat_minor": 4
}
