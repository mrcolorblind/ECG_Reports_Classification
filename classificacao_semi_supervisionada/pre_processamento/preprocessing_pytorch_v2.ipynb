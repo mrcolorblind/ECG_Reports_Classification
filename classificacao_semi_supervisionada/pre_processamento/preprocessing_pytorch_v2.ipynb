{
 "cells": [
  {
   "cell_type": "code",
   "execution_count": 13,
   "metadata": {},
   "outputs": [],
   "source": [
    "import os\n",
    "import numpy as np\n",
    "import re\n",
    "import pandas as pd\n",
    "from unicodedata import normalize\n",
    "from keras.preprocessing.text import Tokenizer"
   ]
  },
  {
   "cell_type": "code",
   "execution_count": 58,
   "metadata": {},
   "outputs": [
    {
     "data": {
      "text/plain": [
       "92"
      ]
     },
     "execution_count": 58,
     "metadata": {},
     "output_type": "execute_result"
    }
   ],
   "source": [
    "corte_classes[25]"
   ]
  },
  {
   "cell_type": "code",
   "execution_count": 5,
   "metadata": {},
   "outputs": [],
   "source": [
    "corte_classes = [84, 85, 96, 84, 97, 94, 81, 100, 83, 95, 83, 83, 81, 92, 95, 81, 85, 92, 84, 83, 86, 89, 83, 92, 93, 92, 83, 83, 87, \n",
    "                100, 92, 80, 84, 87, 91, 84, 100, 81, 100, 100, 88, 100, 81, 90, 100, 83, 90, 81, 86, 83, 96, 82, 97, 85, 90, 81, 81, 97,\n",
    "                95, 97, 84, 81, 84, 89, 86, 89, 83, 95]\n",
    "ordem_classes = ['área_eletricamente_inativa',\n",
    "       'Bloqueio_de_ramo_direito', 'Bloqueio_de_ramo_esquerdo',\n",
    "       'Bloqueio_de_ramo_direito_e_bloqueio_divisional_anterossuperior_do_ramo_esquerdo',\n",
    "       'Bloqueio_intraventricular_inespecífico',\n",
    "       'Sobrecarga_ventricular_esquerda_(critérios_de_Romhilt-Estes)',\n",
    "       'Sobrecarga_ventricular_esquerda_(critérios_de_voltagem)',\n",
    "       'Fibrilação_atrial', 'Flutter_atrial',\n",
    "       'Bloqueio_atrioventricular_de_2°_grau_Mobitz_I',\n",
    "       'Bloqueio_atrioventricular_de_2°_grau_Mobitz_II',\n",
    "       'Bloqueio_atrioventricular_2:1', 'Bloqueio_atrioventricular_avançado',\n",
    "       'Bloqueio_atrioventricular_total',\n",
    "       'Pré-excitação_ventricular_tipo_Wolff-Parkinson-White',\n",
    "       'Sistema_de_estimulação_cardíaca_normofuncionante',\n",
    "       'Sistema_de_estimulação_cardíaca_com_disfunção',\n",
    "       'Taquicardia_atrial_multifocal', 'Taquicardia_atrial',\n",
    "       'Taquicardia_supraventricular', 'Corrente_de_lesão_subendocárdica',\n",
    "       'Alterações_primárias_da_repolarização_ventricular',\n",
    "       'Extrassístoles_supraventriculares', 'Extrassístoles_ventriculares',\n",
    "       'Bradicardia_sinusal',\n",
    "       'ECG_dentro_dos_limites_da_normalidade_para_idade_e_sexo',\n",
    "       'Alterações_da_repolarização_ventricular_atribuídas_à_ação_digitálica',\n",
    "       'Alterações_inespecíficas_da_repolarização_ventricular',\n",
    "       'Alterações_secundárias_da_repolarização_ventricular',\n",
    "       'Arritmia_sinusal',\n",
    "       'Ausência_de_sinal_eletrocardiográfico_que_impede_a_análise',\n",
    "       'Interferência_na_linha_de_base_que_não_impede_a_análise_do_ECG',\n",
    "       'Ausência_de_sinal_eletrocardiográfico_que_não_impede_a_análise',\n",
    "       'Traçado_com_qualidade_técnica_insuficiente',\n",
    "       'Possível_inversão_de_posicionamento_de_eletrodos',\n",
    "       'Baixa_voltagem_em_derivações_precordiais',\n",
    "       'Baixa_voltagem_em_derivações_periféricas',\n",
    "       'Bloqueio_atrioventricular_de_1°_grau',\n",
    "       'Bloqueio_de_ramo_direito_e_bloqueio_divisional_posteroinferior_do_ramo_esquerdo',\n",
    "       'Bloqueio_divisional_anterossuperior_do_ramo_esquerdo',\n",
    "       'Bloqueio_divisional_posteroinferior_do_ramo_esquerdo',\n",
    "       'Desvio_do_eixo_do_QRS_para_direita',\n",
    "       'Desvio_do_eixo_do_QRS_para_esquerda',\n",
    "       'Dissociação_atrioventricular_isorrítmica',\n",
    "       'Distúrbio_de_condução_do_ramo_direito',\n",
    "       'Distúrbio_de_condução_do_ramo_esquerdo', 'Intervalo_PR_curto',\n",
    "       'Intervalo_QT_prolongado', 'Isquemia_subendocárdica',\n",
    "       'Progressão_lenta_de_R_nas_derivações_precordiais', 'Pausa_sinusal',\n",
    "       'Corrente_de_lesão_subepicárdica',\n",
    "       'Corrente_de_lesão_subepicárdica_-_provável_infarto_agudo_do_miocárdio_com_supradesnivelamento_de_ST',\n",
    "       'Repolarização_precoce', 'Ritmo_atrial_ectópico',\n",
    "       'Ritmo_atrial_multifocal', 'Ritmo_idioventricular_acelerado',\n",
    "       'Ritmo_juncional', 'Síndrome_de_Brugada', 'Sobrecarga_atrial_direita',\n",
    "       'Sobrecarga_atrial_esquerda', 'Sobrecarga_biatrial',\n",
    "       'Sobrecarga_biventricular', 'Sobrecarga_ventricular_direita',\n",
    "       'Sobrecarga_ventricular_esquerda(_critérios_de_voltagem)',\n",
    "       'Taquicardia_sinusal', 'Taquicardia_ventricular_não_sustentada',\n",
    "       'Taquicardia_ventricular_sustentada',\n",
    "       'Suspeita_de_Síndrome_de_Brugada_repetir_V1-V2_em_derivações_superiores',\n",
    "       'Taquicardia_juncional', 'Batimento_de_escape_atrial',\n",
    "       'Batimento_de_escape_supraventricular', 'Batimento_de_escape_juncional',\n",
    "       'Batimento_de_escape_ventricular']"
   ]
  },
  {
   "cell_type": "code",
   "execution_count": 63,
   "metadata": {},
   "outputs": [],
   "source": [
    "TOP_WORDS = 7500\n",
    "def clean_text(x):\n",
    "    if type(x) is str:\n",
    "        pattern = r'[^a-zA-z0-9!:.,?\\s]'\n",
    "        x = normalize('NFKD', x).encode('ASCII', 'ignore').decode('ASCII')\n",
    "        x = re.sub(pattern, '', x)\n",
    "        return x.lower()\n",
    "    else:\n",
    "        return \"\""
   ]
  },
  {
   "cell_type": "code",
   "execution_count": 16,
   "metadata": {},
   "outputs": [
    {
     "name": "stdout",
     "output_type": "stream",
     "text": [
      "Loading data:\n",
      "\n",
      "Ids...\n",
      "Text...\n",
      "Labels...\n",
      "Test data...\n",
      "Data loaded!\n",
      "\n"
     ]
    }
   ],
   "source": [
    "print(\"Loading data:\\n\")\n",
    "print(\"Ids...\")\n",
    "ids_achados    = pd.read_csv('../../../data/greenZoneIds.csv', index_col = 0)\n",
    "print(\"Text...\")\n",
    "dados_texto    = pd.read_csv('../../../data/DATA_LAUDOS_TEXTO_formato1', sep = \";\")\n",
    "print(\"Labels...\")\n",
    "y_train = np.load(\"../../../data/training_data/training_data_y.npy\")\n",
    "print(\"Test data...\")\n",
    "y_test = pd.read_csv(\"../../../data/test_data/analiseManual.csv\")\n",
    "print(\"Data loaded!\\n\")"
   ]
  },
  {
   "cell_type": "code",
   "execution_count": 17,
   "metadata": {},
   "outputs": [
    {
     "name": "stdout",
     "output_type": "stream",
     "text": [
      "Preprocessing data:\n",
      "\n",
      "Selecting slices...\n",
      "Randomizing the dataset...\n"
     ]
    }
   ],
   "source": [
    "print(\"Preprocessing data:\\n\")\n",
    "print(\"Selecting slices...\")\n",
    "myData = [[i] for i in y_train]\n",
    "labelsDf = pd.DataFrame(data = myData, index = range(len(y_train)), columns = [\"labels\"])\n",
    "#Selecting only the registers that my manual classificator was able to classificate\n",
    "dados_texto = dados_texto[dados_texto['ID_EXAME'].isin(ids_achados['id'])]\n",
    "dados_texto = dados_texto.reset_index(drop = True)\n",
    "#Joining text and labels\n",
    "dados_texto = dados_texto.join(labelsDf)\n",
    "#Excluding the registers that were selected for manual classification\n",
    "dados_texto = dados_texto[~dados_texto['ID_EXAME'].isin(y_test['id_exame'])]\n",
    "print(\"Randomizing the dataset...\")\n",
    "dados_texto = dados_texto.sample(frac = 1)\n",
    "dados_texto = dados_texto.reset_index(drop = True)"
   ]
  },
  {
   "cell_type": "code",
   "execution_count": 64,
   "metadata": {},
   "outputs": [
    {
     "name": "stdout",
     "output_type": "stream",
     "text": [
      "Serializing variables...\n"
     ]
    }
   ],
   "source": [
    "print(\"Serializing variables...\")\n",
    "ids    = dados_texto[\"ID_EXAME\"]\n",
    "text   = dados_texto[\"CONTEUDO\"]\n",
    "text   = [clean_text(i) for i in text]\n",
    "labels = dados_texto[\"labels\"]"
   ]
  },
  {
   "cell_type": "code",
   "execution_count": 48,
   "metadata": {},
   "outputs": [],
   "source": [
    "cont = []\n",
    "for i in range(len(labels)):\n",
    "    j = labels[i]\n",
    "    if (j[25] == 1 and sum(j)==1):\n",
    "        cont.append(i)"
   ]
  },
  {
   "cell_type": "code",
   "execution_count": 73,
   "metadata": {},
   "outputs": [],
   "source": [
    "cont = []\n",
    "for i in text:\n",
    "    if (i.count(\"conclusao\") == 0):\n",
    "        cont.append(i)"
   ]
  },
  {
   "cell_type": "code",
   "execution_count": 54,
   "metadata": {},
   "outputs": [
    {
     "name": "stdout",
     "output_type": "stream",
     "text": [
      "ECG_dentro_dos_limites_da_normalidade_para_idade_e_sexo\n"
     ]
    }
   ],
   "source": [
    "for i in range(len(labels[504])):\n",
    "    if labels[504][i] == 1:\n",
    "        print(ordem_classes[i])"
   ]
  },
  {
   "cell_type": "code",
   "execution_count": 2,
   "metadata": {},
   "outputs": [],
   "source": [
    "\n",
    "train_X   = tokenize(text, tokenizer, fit = True)\n",
    "np.save(\"../../../data/training_data/training_data_X.npy\", train_X)"
   ]
  }
 ],
 "metadata": {
  "kernelspec": {
   "display_name": "Python 3",
   "language": "python",
   "name": "python3"
  },
  "language_info": {
   "codemirror_mode": {
    "name": "ipython",
    "version": 3
   },
   "file_extension": ".py",
   "mimetype": "text/x-python",
   "name": "python",
   "nbconvert_exporter": "python",
   "pygments_lexer": "ipython3",
   "version": "3.7.4"
  }
 },
 "nbformat": 4,
 "nbformat_minor": 4
}
