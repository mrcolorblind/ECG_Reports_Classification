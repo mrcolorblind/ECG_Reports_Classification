{
 "cells": [
  {
   "cell_type": "code",
   "execution_count": 3,
   "metadata": {},
   "outputs": [],
   "source": [
    "import torch\n",
    "import numpy as np\n",
    "import matplotlib.pyplot as plt\n",
    "from sklearn import metrics\n",
    "import pandas as pd\n",
    "import random"
   ]
  },
  {
   "cell_type": "code",
   "execution_count": 4,
   "metadata": {},
   "outputs": [],
   "source": [
    "corte_classes = [84, 85, 96, 84, 97, 94, 81, 100, 83, 95, 83, 83, 81, 92, 95, 81, 85, 92, 84, 83, 86, 89, 83, 92, 93, 92, 83, 83, 87, \n",
    "                100, 92, 80, 84, 87, 91, 84, 100, 81, 100, 100, 88, 100, 81, 90, 100, 83, 90, 81, 86, 83, 96, 82, 97, 85, 90, 81, 81, 97,\n",
    "                95, 97, 84, 81, 84, 89, 86, 89, 83, 95]\n",
    "ordem_classes = ['área_eletricamente_inativa',\n",
    "       'Bloqueio_de_ramo_direito', 'Bloqueio_de_ramo_esquerdo',\n",
    "       'Bloqueio_de_ramo_direito_e_bloqueio_divisional_anterossuperior_do_ramo_esquerdo',\n",
    "       'Bloqueio_intraventricular_inespecífico',\n",
    "       'Sobrecarga_ventricular_esquerda_(critérios_de_Romhilt-Estes)',\n",
    "       'Sobrecarga_ventricular_esquerda_(critérios_de_voltagem)',\n",
    "       'Fibrilação_atrial', 'Flutter_atrial',\n",
    "       'Bloqueio_atrioventricular_de_2°_grau_Mobitz_I',\n",
    "       'Bloqueio_atrioventricular_de_2°_grau_Mobitz_II',\n",
    "       'Bloqueio_atrioventricular_2:1', 'Bloqueio_atrioventricular_avançado',\n",
    "       'Bloqueio_atrioventricular_total',\n",
    "       'Pré-excitação_ventricular_tipo_Wolff-Parkinson-White',\n",
    "       'Sistema_de_estimulação_cardíaca_normofuncionante',\n",
    "       'Sistema_de_estimulação_cardíaca_com_disfunção',\n",
    "       'Taquicardia_atrial_multifocal', 'Taquicardia_atrial',\n",
    "       'Taquicardia_supraventricular', 'Corrente_de_lesão_subendocárdica',\n",
    "       'Alterações_primárias_da_repolarização_ventricular',\n",
    "       'Extrassístoles_supraventriculares', 'Extrassístoles_ventriculares',\n",
    "       'Bradicardia_sinusal',\n",
    "       'ECG_dentro_dos_limites_da_normalidade_para_idade_e_sexo',\n",
    "       'Alterações_da_repolarização_ventricular_atribuídas_à_ação_digitálica',\n",
    "       'Alterações_inespecíficas_da_repolarização_ventricular',\n",
    "       'Alterações_secundárias_da_repolarização_ventricular',\n",
    "       'Arritmia_sinusal',\n",
    "       'Ausência_de_sinal_eletrocardiográfico_que_impede_a_análise',\n",
    "       'Interferência_na_linha_de_base_que_não_impede_a_análise_do_ECG',\n",
    "       'Ausência_de_sinal_eletrocardiográfico_que_não_impede_a_análise',\n",
    "       'Traçado_com_qualidade_técnica_insuficiente',\n",
    "       'Possível_inversão_de_posicionamento_de_eletrodos',\n",
    "       'Baixa_voltagem_em_derivações_precordiais',\n",
    "       'Baixa_voltagem_em_derivações_periféricas',\n",
    "       'Bloqueio_atrioventricular_de_1°_grau',\n",
    "       'Bloqueio_de_ramo_direito_e_bloqueio_divisional_posteroinferior_do_ramo_esquerdo',\n",
    "       'Bloqueio_divisional_anterossuperior_do_ramo_esquerdo',\n",
    "       'Bloqueio_divisional_posteroinferior_do_ramo_esquerdo',\n",
    "       'Desvio_do_eixo_do_QRS_para_direita',\n",
    "       'Desvio_do_eixo_do_QRS_para_esquerda',\n",
    "       'Dissociação_atrioventricular_isorrítmica',\n",
    "       'Distúrbio_de_condução_do_ramo_direito',\n",
    "       'Distúrbio_de_condução_do_ramo_esquerdo', 'Intervalo_PR_curto',\n",
    "       'Intervalo_QT_prolongado', 'Isquemia_subendocárdica',\n",
    "       'Progressão_lenta_de_R_nas_derivações_precordiais', 'Pausa_sinusal',\n",
    "       'Corrente_de_lesão_subepicárdica',\n",
    "       'Corrente_de_lesão_subepicárdica_-_provável_infarto_agudo_do_miocárdio_com_supradesnivelamento_de_ST',\n",
    "       'Repolarização_precoce', 'Ritmo_atrial_ectópico',\n",
    "       'Ritmo_atrial_multifocal', 'Ritmo_idioventricular_acelerado',\n",
    "       'Ritmo_juncional', 'Síndrome_de_Brugada', 'Sobrecarga_atrial_direita',\n",
    "       'Sobrecarga_atrial_esquerda', 'Sobrecarga_biatrial',\n",
    "       'Sobrecarga_biventricular', 'Sobrecarga_ventricular_direita',\n",
    "       'Sobrecarga_ventricular_esquerda(_critérios_de_voltagem)',\n",
    "       'Taquicardia_sinusal', 'Taquicardia_ventricular_não_sustentada',\n",
    "       'Taquicardia_ventricular_sustentada',\n",
    "       'Suspeita_de_Síndrome_de_Brugada_repetir_V1-V2_em_derivações_superiores',\n",
    "       'Taquicardia_juncional', 'Batimento_de_escape_atrial',\n",
    "       'Batimento_de_escape_supraventricular', 'Batimento_de_escape_juncional',\n",
    "       'Batimento_de_escape_ventricular']"
   ]
  },
  {
   "cell_type": "code",
   "execution_count": 5,
   "metadata": {},
   "outputs": [],
   "source": [
    "n_classes = 74\n",
    "y_test    = np.load(\"../../test_data/y_test.npy\")\n",
    "y_score   = np.load(\"../../test_data/y_score.npy\")"
   ]
  },
  {
   "cell_type": "code",
   "execution_count": 6,
   "metadata": {},
   "outputs": [
    {
     "ename": "FileNotFoundError",
     "evalue": "[Errno 2] No such file or directory: '../../../data/training_data/training_data_y.npy'",
     "output_type": "error",
     "traceback": [
      "\u001b[0;31m---------------------------------------------------------------------------\u001b[0m",
      "\u001b[0;31mFileNotFoundError\u001b[0m                         Traceback (most recent call last)",
      "\u001b[0;32m<ipython-input-6-d76c1af60059>\u001b[0m in \u001b[0;36m<module>\u001b[0;34m\u001b[0m\n\u001b[0;32m----> 1\u001b[0;31m \u001b[0my_train\u001b[0m \u001b[0;34m=\u001b[0m \u001b[0mnp\u001b[0m\u001b[0;34m.\u001b[0m\u001b[0mload\u001b[0m\u001b[0;34m(\u001b[0m\u001b[0;34m\"../../../data/training_data/training_data_y.npy\"\u001b[0m\u001b[0;34m)\u001b[0m\u001b[0;34m\u001b[0m\u001b[0;34m\u001b[0m\u001b[0m\n\u001b[0m\u001b[1;32m      2\u001b[0m \u001b[0mgreenZoneIds\u001b[0m \u001b[0;34m=\u001b[0m \u001b[0mpd\u001b[0m\u001b[0;34m.\u001b[0m\u001b[0mread_csv\u001b[0m\u001b[0;34m(\u001b[0m\u001b[0;34m\"../../../data/greenZoneIds.csv\"\u001b[0m\u001b[0;34m)\u001b[0m\u001b[0;34m\u001b[0m\u001b[0;34m\u001b[0m\u001b[0m\n\u001b[1;32m      3\u001b[0m \u001b[0mtext\u001b[0m \u001b[0;34m=\u001b[0m \u001b[0mpd\u001b[0m\u001b[0;34m.\u001b[0m\u001b[0mread_csv\u001b[0m\u001b[0;34m(\u001b[0m\u001b[0;34m\"../../../data/DATA_LAUDOS_TEXTO_formato1\"\u001b[0m\u001b[0;34m,\u001b[0m \u001b[0msep\u001b[0m \u001b[0;34m=\u001b[0m \u001b[0;34m\";\"\u001b[0m\u001b[0;34m)\u001b[0m\u001b[0;34m\u001b[0m\u001b[0;34m\u001b[0m\u001b[0m\n\u001b[1;32m      4\u001b[0m \u001b[0mtext\u001b[0m \u001b[0;34m=\u001b[0m \u001b[0mtext\u001b[0m\u001b[0;34m[\u001b[0m\u001b[0mtext\u001b[0m\u001b[0;34m[\u001b[0m\u001b[0;34m\"ID_EXAME\"\u001b[0m\u001b[0;34m]\u001b[0m\u001b[0;34m.\u001b[0m\u001b[0misin\u001b[0m\u001b[0;34m(\u001b[0m\u001b[0mgreenZoneIds\u001b[0m\u001b[0;34m[\u001b[0m\u001b[0;34m'id'\u001b[0m\u001b[0;34m]\u001b[0m\u001b[0;34m)\u001b[0m\u001b[0;34m]\u001b[0m\u001b[0;34m\u001b[0m\u001b[0;34m\u001b[0m\u001b[0m\n\u001b[1;32m      5\u001b[0m \u001b[0mtext\u001b[0m \u001b[0;34m=\u001b[0m \u001b[0mtext\u001b[0m\u001b[0;34m.\u001b[0m\u001b[0mreset_index\u001b[0m\u001b[0;34m(\u001b[0m\u001b[0mdrop\u001b[0m \u001b[0;34m=\u001b[0m \u001b[0;32mTrue\u001b[0m\u001b[0;34m)\u001b[0m\u001b[0;34m\u001b[0m\u001b[0;34m\u001b[0m\u001b[0m\n",
      "\u001b[0;32m~/miniconda3/lib/python3.7/site-packages/numpy/lib/npyio.py\u001b[0m in \u001b[0;36mload\u001b[0;34m(file, mmap_mode, allow_pickle, fix_imports, encoding)\u001b[0m\n\u001b[1;32m    426\u001b[0m         \u001b[0mown_fid\u001b[0m \u001b[0;34m=\u001b[0m \u001b[0;32mFalse\u001b[0m\u001b[0;34m\u001b[0m\u001b[0;34m\u001b[0m\u001b[0m\n\u001b[1;32m    427\u001b[0m     \u001b[0;32melse\u001b[0m\u001b[0;34m:\u001b[0m\u001b[0;34m\u001b[0m\u001b[0;34m\u001b[0m\u001b[0m\n\u001b[0;32m--> 428\u001b[0;31m         \u001b[0mfid\u001b[0m \u001b[0;34m=\u001b[0m \u001b[0mopen\u001b[0m\u001b[0;34m(\u001b[0m\u001b[0mos_fspath\u001b[0m\u001b[0;34m(\u001b[0m\u001b[0mfile\u001b[0m\u001b[0;34m)\u001b[0m\u001b[0;34m,\u001b[0m \u001b[0;34m\"rb\"\u001b[0m\u001b[0;34m)\u001b[0m\u001b[0;34m\u001b[0m\u001b[0;34m\u001b[0m\u001b[0m\n\u001b[0m\u001b[1;32m    429\u001b[0m         \u001b[0mown_fid\u001b[0m \u001b[0;34m=\u001b[0m \u001b[0;32mTrue\u001b[0m\u001b[0;34m\u001b[0m\u001b[0;34m\u001b[0m\u001b[0m\n\u001b[1;32m    430\u001b[0m \u001b[0;34m\u001b[0m\u001b[0m\n",
      "\u001b[0;31mFileNotFoundError\u001b[0m: [Errno 2] No such file or directory: '../../../data/training_data/training_data_y.npy'"
     ]
    }
   ],
   "source": [
    "y_train = np.load(\"../../../data/training_data/training_data_y.npy\")\n",
    "greenZoneIds = pd.read_csv(\"../../../data/greenZoneIds.csv\")\n",
    "text = pd.read_csv(\"../../../data/DATA_LAUDOS_TEXTO_formato1\", sep = \";\")\n",
    "text = text[text[\"ID_EXAME\"].isin(greenZoneIds['id'])]\n",
    "text = text.reset_index(drop = True)"
   ]
  },
  {
   "cell_type": "code",
   "execution_count": 7,
   "metadata": {},
   "outputs": [
    {
     "name": "stderr",
     "output_type": "stream",
     "text": [
      "/home/speed/joao.pedrosa/miniconda3/lib/python3.7/site-packages/sklearn/metrics/ranking.py:656: UndefinedMetricWarning: No positive samples in y_true, true positive value should be meaningless\n",
      "  UndefinedMetricWarning)\n"
     ]
    }
   ],
   "source": [
    "# Compute ROC curve and ROC area for each class\n",
    "fpr = dict()\n",
    "tpr = dict()\n",
    "threshold = dict()\n",
    "roc_auc = dict()\n",
    "for i in range(n_classes):\n",
    "    fpr[i], tpr[i], threshold[i] = metrics.roc_curve(y_test[:, i], y_score[:, i])\n",
    "    roc_auc[i] = metrics.auc(fpr[i], tpr[i])\n",
    "\n",
    "# Compute micro-average ROC curve and ROC area\n",
    "fpr[\"micro\"], tpr[\"micro\"], _ = metrics.roc_curve(y_test.ravel(), y_score.ravel())\n",
    "roc_auc[\"micro\"] = metrics.auc(fpr[\"micro\"], tpr[\"micro\"])"
   ]
  },
  {
   "cell_type": "code",
   "execution_count": 1,
   "metadata": {},
   "outputs": [],
   "source": [
    "def get_random_sample(numClass):\n",
    "    sample = []\n",
    "    trueN  = []\n",
    "    for i in range(len(y_train)):\n",
    "        if (y_train[i,numClass] == 1):\n",
    "            trueN.append(i)\n",
    "    print(\"Classe\",numClass,\"obteve\",len(trueN),\"amostras.\")\n",
    "    if (len(trueN) < 100):\n",
    "        ranger = 10\n",
    "    else:\n",
    "        ranger = 30\n",
    "    for i in range(ranger):\n",
    "        if (len(trueN) < 50):\n",
    "            break\n",
    "        num = trueN.pop(random.randrange(len(trueN)))\n",
    "        sample.append([ordem_classes[numClass], text[\"ID_EXAME\"][num], text[\"CONTEUDO\"][num]])\n",
    "    \n",
    "    return sample"
   ]
  },
  {
   "cell_type": "code",
   "execution_count": 9,
   "metadata": {},
   "outputs": [
    {
     "data": {
      "text/plain": [
       "'Ausência_de_sinal_eletrocardiográfico_que_não_impede_a_análise'"
      ]
     },
     "execution_count": 9,
     "metadata": {},
     "output_type": "execute_result"
    }
   ],
   "source": [
    "ordem_classes[32]"
   ]
  },
  {
   "cell_type": "code",
   "execution_count": 2,
   "metadata": {},
   "outputs": [
    {
     "ename": "NameError",
     "evalue": "name 'y_train' is not defined",
     "output_type": "error",
     "traceback": [
      "\u001b[0;31m---------------------------------------------------------------------------\u001b[0m",
      "\u001b[0;31mNameError\u001b[0m                                 Traceback (most recent call last)",
      "\u001b[0;32m<ipython-input-2-5707a2bec001>\u001b[0m in \u001b[0;36m<module>\u001b[0;34m\u001b[0m\n\u001b[1;32m      1\u001b[0m \u001b[0msamples\u001b[0m \u001b[0;34m=\u001b[0m \u001b[0;34m[\u001b[0m\u001b[0;34m]\u001b[0m\u001b[0;34m\u001b[0m\u001b[0;34m\u001b[0m\u001b[0m\n\u001b[1;32m      2\u001b[0m \u001b[0;32mfor\u001b[0m \u001b[0mi\u001b[0m \u001b[0;32min\u001b[0m \u001b[0mrange\u001b[0m\u001b[0;34m(\u001b[0m\u001b[0;36m74\u001b[0m\u001b[0;34m)\u001b[0m\u001b[0;34m:\u001b[0m\u001b[0;34m\u001b[0m\u001b[0;34m\u001b[0m\u001b[0m\n\u001b[0;32m----> 3\u001b[0;31m     \u001b[0msamples\u001b[0m\u001b[0;34m.\u001b[0m\u001b[0mappend\u001b[0m\u001b[0;34m(\u001b[0m\u001b[0mget_random_sample\u001b[0m\u001b[0;34m(\u001b[0m\u001b[0mi\u001b[0m\u001b[0;34m)\u001b[0m\u001b[0;34m)\u001b[0m\u001b[0;34m\u001b[0m\u001b[0;34m\u001b[0m\u001b[0m\n\u001b[0m",
      "\u001b[0;32m<ipython-input-1-a069038bdde9>\u001b[0m in \u001b[0;36mget_random_sample\u001b[0;34m(numClass)\u001b[0m\n\u001b[1;32m      2\u001b[0m     \u001b[0msample\u001b[0m \u001b[0;34m=\u001b[0m \u001b[0;34m[\u001b[0m\u001b[0;34m]\u001b[0m\u001b[0;34m\u001b[0m\u001b[0;34m\u001b[0m\u001b[0m\n\u001b[1;32m      3\u001b[0m     \u001b[0mtrueN\u001b[0m  \u001b[0;34m=\u001b[0m \u001b[0;34m[\u001b[0m\u001b[0;34m]\u001b[0m\u001b[0;34m\u001b[0m\u001b[0;34m\u001b[0m\u001b[0m\n\u001b[0;32m----> 4\u001b[0;31m     \u001b[0;32mfor\u001b[0m \u001b[0mi\u001b[0m \u001b[0;32min\u001b[0m \u001b[0mrange\u001b[0m\u001b[0;34m(\u001b[0m\u001b[0mlen\u001b[0m\u001b[0;34m(\u001b[0m\u001b[0my_train\u001b[0m\u001b[0;34m)\u001b[0m\u001b[0;34m)\u001b[0m\u001b[0;34m:\u001b[0m\u001b[0;34m\u001b[0m\u001b[0;34m\u001b[0m\u001b[0m\n\u001b[0m\u001b[1;32m      5\u001b[0m         \u001b[0;32mif\u001b[0m \u001b[0;34m(\u001b[0m\u001b[0my_train\u001b[0m\u001b[0;34m[\u001b[0m\u001b[0mi\u001b[0m\u001b[0;34m,\u001b[0m\u001b[0mnumClass\u001b[0m\u001b[0;34m]\u001b[0m \u001b[0;34m==\u001b[0m \u001b[0;36m1\u001b[0m\u001b[0;34m)\u001b[0m\u001b[0;34m:\u001b[0m\u001b[0;34m\u001b[0m\u001b[0;34m\u001b[0m\u001b[0m\n\u001b[1;32m      6\u001b[0m             \u001b[0mtrueN\u001b[0m\u001b[0;34m.\u001b[0m\u001b[0mappend\u001b[0m\u001b[0;34m(\u001b[0m\u001b[0mi\u001b[0m\u001b[0;34m)\u001b[0m\u001b[0;34m\u001b[0m\u001b[0;34m\u001b[0m\u001b[0m\n",
      "\u001b[0;31mNameError\u001b[0m: name 'y_train' is not defined"
     ]
    }
   ],
   "source": [
    "samples = []\n",
    "for i in range(74):\n",
    "    samples.append(get_random_sample(i))"
   ]
  },
  {
   "cell_type": "code",
   "execution_count": 11,
   "metadata": {},
   "outputs": [],
   "source": [
    "samplesTotal = []\n",
    "for i in samples:\n",
    "    for j in i:\n",
    "        samplesTotal.append(j)"
   ]
  },
  {
   "cell_type": "code",
   "execution_count": 20,
   "metadata": {},
   "outputs": [],
   "source": [
    "stringHeader = \"id_exame,texto,classe\"\n",
    "arquivo = open(\"../../../data/test_data/analiseManual.csv\", 'w')\n",
    "arquivo.write(stringHeader)\n",
    "arquivo.write(\"\\n\")\n",
    "for i in range(len(samplesTotal)):\n",
    "    arquivo.write(str(samplesTotal[i][1]))\n",
    "    arquivo.write(',')\n",
    "    arquivo.write(\"'\")\n",
    "    arquivo.write(str(samplesTotal[i][2]))\n",
    "    arquivo.write(\"'\")\n",
    "    arquivo.write(',')\n",
    "    arquivo.write(\"'\")\n",
    "    arquivo.write(str(samplesTotal[i][0]))\n",
    "    arquivo.write(\"'\")\n",
    "    arquivo.write(\"\\n\")\n",
    "arquivo.close()"
   ]
  }
 ],
 "metadata": {
  "kernelspec": {
   "display_name": "Python 3",
   "language": "python",
   "name": "python3"
  },
  "language_info": {
   "codemirror_mode": {
    "name": "ipython",
    "version": 3
   },
   "file_extension": ".py",
   "mimetype": "text/x-python",
   "name": "python",
   "nbconvert_exporter": "python",
   "pygments_lexer": "ipython3",
   "version": "3.7.7"
  }
 },
 "nbformat": 4,
 "nbformat_minor": 4
}
