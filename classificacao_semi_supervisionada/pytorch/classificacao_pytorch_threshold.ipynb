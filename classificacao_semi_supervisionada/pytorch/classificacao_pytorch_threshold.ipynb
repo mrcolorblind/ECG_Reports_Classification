{
 "cells": [
  {
   "cell_type": "code",
   "execution_count": 2,
   "metadata": {},
   "outputs": [],
   "source": [
    "import math\n",
    "import pandas as pd\n",
    "import numpy as np\n",
    "import tqdm"
   ]
  },
  {
   "cell_type": "code",
   "execution_count": 26,
   "metadata": {},
   "outputs": [],
   "source": [
    "dfPrevalencias = pd.read_csv(\"../../light_data/prevalencia_e_scores_com_siglas.csv\", index_col=0)\n",
    "result = np.load(\"../../test_data/y_score.npy\")\n",
    "scores = pd.read_csv(\"../../../data/resultLabels.csv\")\n",
    "foundIds = pd.read_csv(\"../../greenZoneIds.csv\")\n",
    "scores = scores[scores[\"idExame\"].isin(foundIds['id'])]\n",
    "scores = [[0 if (\"False\" in i) else 1 for i in row.split(\",\")] for row in scores[\"label\"][-50000:]]"
   ]
  },
  {
   "cell_type": "code",
   "execution_count": 76,
   "metadata": {},
   "outputs": [],
   "source": [
    "maxo = [0, 0]\n",
    "for j in range(50000):\n",
    "    ty = scores[j]\n",
    "    py = result[j]\n",
    "    maxoact = 0\n",
    "    for i in range(74):\n",
    "        maxoact += abs(py[i] - ty[i])\n",
    "    if(maxoact > maxo[0]):\n",
    "        maxo = [maxoact, j]"
   ]
  },
  {
   "cell_type": "code",
   "execution_count": null,
   "metadata": {},
   "outputs": [],
   "source": [
    "result[0]"
   ]
  },
  {
   "cell_type": "code",
   "execution_count": 81,
   "metadata": {},
   "outputs": [
    {
     "data": {
      "text/plain": [
       "[1]"
      ]
     },
     "execution_count": 81,
     "metadata": {},
     "output_type": "execute_result"
    }
   ],
   "source": [
    "[i for i in range(74) if result[27440][i] > 0.7]"
   ]
  },
  {
   "cell_type": "code",
   "execution_count": 77,
   "metadata": {},
   "outputs": [
    {
     "data": {
      "text/plain": [
       "[11.013847559265777, 27440]"
      ]
     },
     "execution_count": 77,
     "metadata": {},
     "output_type": "execute_result"
    }
   ],
   "source": [
    "maxo"
   ]
  },
  {
   "cell_type": "code",
   "execution_count": 64,
   "metadata": {},
   "outputs": [
    {
     "data": {
      "text/plain": [
       "[25, 39]"
      ]
     },
     "execution_count": 64,
     "metadata": {},
     "output_type": "execute_result"
    }
   ],
   "source": [
    "[i for i in range(74) if ty[i]]"
   ]
  },
  {
   "cell_type": "code",
   "execution_count": 68,
   "metadata": {},
   "outputs": [
    {
     "data": {
      "text/plain": [
       "0.999999963607344"
      ]
     },
     "execution_count": 68,
     "metadata": {},
     "output_type": "execute_result"
    }
   ],
   "source": [
    "1 - py[25]"
   ]
  },
  {
   "cell_type": "code",
   "execution_count": 67,
   "metadata": {},
   "outputs": [
    {
     "data": {
      "text/plain": [
       "3.6392656e-08"
      ]
     },
     "execution_count": 67,
     "metadata": {},
     "output_type": "execute_result"
    }
   ],
   "source": [
    "py[25]"
   ]
  },
  {
   "cell_type": "code",
   "execution_count": 6,
   "metadata": {},
   "outputs": [
    {
     "data": {
      "text/plain": [
       "'área_eletricamente_inativa'"
      ]
     },
     "execution_count": 6,
     "metadata": {},
     "output_type": "execute_result"
    }
   ],
   "source": [
    "dfPrevalencias[\"Diagnostico\"][1]"
   ]
  },
  {
   "cell_type": "code",
   "execution_count": 43,
   "metadata": {},
   "outputs": [
    {
     "name": "stdout",
     "output_type": "stream",
     "text": [
      "0  :  área_eletricamente_inativa\n",
      "1  :  Bloqueio_de_ramo_direito\n",
      "2  :  Bloqueio_de_ramo_esquerdo\n",
      "5  :  Sobrecarga_ventricular_esquerda_(critérios_de_Romhilt-Estes)\n",
      "7  :  Fibrilação_atrial\n",
      "13  :  Bloqueio_atrioventricular_total\n",
      "14  :  Pré-excitação_ventricular_tipo_Wolff-Parkinson-White\n",
      "19  :  Taquicardia_supraventricular\n",
      "20  :  Corrente_de_lesão_subendocárdica\n",
      "21  :  Alterações_primárias_da_repolarização_ventricular\n",
      "22  :  Extrassístoles_supraventriculares\n",
      "23  :  Extrassístoles_ventriculares\n",
      "25  :  ECG_dentro_dos_limites_da_normalidade_para_idade_e_sexo\n",
      "27  :  Alterações_inespecíficas_da_repolarização_ventricular\n",
      "30  :  Ausência_de_sinal_eletrocardiográfico_que_impede_a_análise\n",
      "37  :  Bloqueio_atrioventricular_de_1°_grau\n",
      "39  :  Bloqueio_divisional_anterossuperior_do_ramo_esquerdo\n",
      "40  :  Bloqueio_divisional_posteroinferior_do_ramo_esquerdo\n",
      "42  :  Desvio_do_eixo_do_QRS_para_esquerda\n",
      "44  :  Distúrbio_de_condução_do_ramo_direito\n",
      "45  :  Distúrbio_de_condução_do_ramo_esquerdo\n",
      "46  :  Intervalo_PR_curto\n",
      "57  :  Ritmo_juncional\n",
      "60  :  Sobrecarga_atrial_esquerda\n",
      "67  :  Taquicardia_ventricular_sustentada\n",
      "49\n"
     ]
    }
   ],
   "source": [
    "count = 0\n",
    "for i in range(74):\n",
    "    if(result[:,i].max() > 0.9):\n",
    "        count += 1\n",
    "        print (i, \" : \", dfPrevalencias.loc[i+1][\"Diagnostico\"])\n",
    "print(74 - count)"
   ]
  },
  {
   "cell_type": "code",
   "execution_count": 25,
   "metadata": {},
   "outputs": [
    {
     "name": "stderr",
     "output_type": "stream",
     "text": [
      "  1%|          | 433/50000 [00:24<46:25, 17.79it/s]"
     ]
    },
    {
     "ename": "KeyboardInterrupt",
     "evalue": "",
     "output_type": "error",
     "traceback": [
      "\u001b[0;31m---------------------------------------------------------------------------\u001b[0m",
      "\u001b[0;31mKeyboardInterrupt\u001b[0m                         Traceback (most recent call last)",
      "\u001b[0;32m<ipython-input-25-3b80e85a1782>\u001b[0m in \u001b[0;36m<module>\u001b[0;34m\u001b[0m\n\u001b[1;32m      2\u001b[0m \u001b[0;32mfor\u001b[0m \u001b[0mi\u001b[0m \u001b[0;32min\u001b[0m \u001b[0mtqdm\u001b[0m\u001b[0;34m.\u001b[0m\u001b[0mtqdm\u001b[0m\u001b[0;34m(\u001b[0m\u001b[0mrange\u001b[0m\u001b[0;34m(\u001b[0m\u001b[0mlen\u001b[0m\u001b[0;34m(\u001b[0m\u001b[0mresult\u001b[0m\u001b[0;34m)\u001b[0m\u001b[0;34m)\u001b[0m\u001b[0;34m)\u001b[0m\u001b[0;34m:\u001b[0m\u001b[0;34m\u001b[0m\u001b[0;34m\u001b[0m\u001b[0m\n\u001b[1;32m      3\u001b[0m     \u001b[0;32mfor\u001b[0m \u001b[0mj\u001b[0m \u001b[0;32min\u001b[0m \u001b[0mrange\u001b[0m\u001b[0;34m(\u001b[0m\u001b[0mi\u001b[0m\u001b[0;34m+\u001b[0m\u001b[0;36m1\u001b[0m\u001b[0;34m,\u001b[0m \u001b[0mlen\u001b[0m\u001b[0;34m(\u001b[0m\u001b[0mresult\u001b[0m\u001b[0;34m)\u001b[0m\u001b[0;34m)\u001b[0m\u001b[0;34m:\u001b[0m\u001b[0;34m\u001b[0m\u001b[0;34m\u001b[0m\u001b[0m\n\u001b[0;32m----> 4\u001b[0;31m         \u001b[0;32mfor\u001b[0m \u001b[0mz\u001b[0m \u001b[0;32min\u001b[0m \u001b[0mrange\u001b[0m\u001b[0;34m(\u001b[0m\u001b[0;36m74\u001b[0m\u001b[0;34m)\u001b[0m\u001b[0;34m:\u001b[0m\u001b[0;34m\u001b[0m\u001b[0;34m\u001b[0m\u001b[0m\n\u001b[0m\u001b[1;32m      5\u001b[0m             \u001b[0;32mif\u001b[0m \u001b[0;34m(\u001b[0m\u001b[0mresult\u001b[0m\u001b[0;34m[\u001b[0m\u001b[0mi\u001b[0m\u001b[0;34m]\u001b[0m\u001b[0;34m[\u001b[0m\u001b[0mz\u001b[0m\u001b[0;34m]\u001b[0m \u001b[0;34m!=\u001b[0m \u001b[0mresult\u001b[0m\u001b[0;34m[\u001b[0m\u001b[0mj\u001b[0m\u001b[0;34m]\u001b[0m\u001b[0;34m[\u001b[0m\u001b[0mz\u001b[0m\u001b[0;34m]\u001b[0m\u001b[0;34m)\u001b[0m\u001b[0;34m:\u001b[0m\u001b[0;34m\u001b[0m\u001b[0;34m\u001b[0m\u001b[0m\n\u001b[1;32m      6\u001b[0m                 \u001b[0;32mbreak\u001b[0m\u001b[0;34m\u001b[0m\u001b[0;34m\u001b[0m\u001b[0m\n",
      "\u001b[0;31mKeyboardInterrupt\u001b[0m: "
     ]
    }
   ],
   "source": [
    "count = 0\n",
    "for i in tqdm.tqdm(range(len(result))):\n",
    "    for j in range(i+1, len(result)):\n",
    "        for z in range(74):\n",
    "            if (result[i][z] != result[j][z]):\n",
    "                break\n",
    "            if z == 73:\n",
    "                count += 1"
   ]
  },
  {
   "cell_type": "code",
   "execution_count": 80,
   "metadata": {},
   "outputs": [
    {
     "data": {
      "text/plain": [
       "0.999848"
      ]
     },
     "execution_count": 80,
     "metadata": {},
     "output_type": "execute_result"
    }
   ],
   "source": [
    "np.sort(result[:,39])[-10000]"
   ]
  },
  {
   "cell_type": "code",
   "execution_count": 56,
   "metadata": {},
   "outputs": [],
   "source": [
    "thresholds = []\n",
    "for i in range(len((dfPrevalencias))):\n",
    "    #print(\"Calculando para \", dfPrevalencias.loc[i+1][\"Diagnostico\"])\n",
    "    resultList       = result[:,i]\n",
    "    np.sort(resultList)\n",
    "\n",
    "    ocurrences     = 50000 * dfPrevalencias.loc[i+1][\"Prevalencia\"]\n",
    "    ocurrences     = math.ceil(ocurrences)\n",
    "    thresholds.append(resultList[-ocurrences])"
   ]
  },
  {
   "cell_type": "code",
   "execution_count": 75,
   "metadata": {},
   "outputs": [
    {
     "data": {
      "text/plain": [
       "Diagnostico    Bloqueio_divisional_anterossuperior_do_ramo_es...\n",
       "Prevalencia                                            0.0211312\n",
       "Score                                                         85\n",
       "Name: 40, dtype: object"
      ]
     },
     "execution_count": 75,
     "metadata": {},
     "output_type": "execute_result"
    }
   ],
   "source": [
    "dfPrevalencias.loc[40]"
   ]
  },
  {
   "cell_type": "code",
   "execution_count": 86,
   "metadata": {},
   "outputs": [],
   "source": [
    "np.save( \"../../light_data/nnthresholds\", np.array(thresholds))"
   ]
  }
 ],
 "metadata": {
  "kernelspec": {
   "display_name": "Python 3",
   "language": "python",
   "name": "python3"
  },
  "language_info": {
   "codemirror_mode": {
    "name": "ipython",
    "version": 3
   },
   "file_extension": ".py",
   "mimetype": "text/x-python",
   "name": "python",
   "nbconvert_exporter": "python",
   "pygments_lexer": "ipython3",
   "version": "3.7.3"
  }
 },
 "nbformat": 4,
 "nbformat_minor": 4
}
