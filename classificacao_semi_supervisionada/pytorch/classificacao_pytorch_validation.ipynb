{
 "cells": [
  {
   "cell_type": "code",
   "execution_count": 1,
   "metadata": {},
   "outputs": [
    {
     "name": "stderr",
     "output_type": "stream",
     "text": [
      "Using TensorFlow backend.\n"
     ]
    }
   ],
   "source": [
    "import os\n",
    "import sys\n",
    "import numpy as np\n",
    "import re\n",
    "import pandas as pd\n",
    "import torch\n",
    "import torch.optim as optim\n",
    "import torch.nn as nn\n",
    "import torch.nn.functional as F\n",
    "import torchvision\n",
    "import pickle\n",
    "from torch.nn.utils.rnn import pad_sequence\n",
    "from unicodedata import normalize\n",
    "from keras.preprocessing.text import Tokenizer\n",
    "import keras\n",
    "from torchvision import transforms, datasets\n",
    "from tqdm import tqdm\n",
    "from time import sleep\n",
    "import matplotlib.pyplot as plt\n",
    "import sklearn.metrics as metrics\n",
    "import pylab as pl\n",
    "import matplotlib.pyplot as plt"
   ]
  },
  {
   "cell_type": "code",
   "execution_count": 67,
   "metadata": {},
   "outputs": [],
   "source": [
    "ids_achados   = pd.read_csv('../../greenZoneIds.csv', index_col = 0)\n",
    "base = pd.read_csv(\"../../../data/DATA_LAUDOS_TEXTO_formato1\", sep = \";\")"
   ]
  },
  {
   "cell_type": "code",
   "execution_count": 74,
   "metadata": {},
   "outputs": [
    {
     "name": "stderr",
     "output_type": "stream",
     "text": [
      "ERROR:root:Internal Python error in the inspect module.\n",
      "Below is the traceback from this internal error.\n",
      "\n"
     ]
    },
    {
     "name": "stdout",
     "output_type": "stream",
     "text": [
      "Traceback (most recent call last):\n",
      "  File \"/home/jonas/anaconda3/lib/python3.7/site-packages/pandas/io/parsers.py\", line 1995, in read\n",
      "    data = self._reader.read(nrows)\n",
      "  File \"pandas/_libs/parsers.pyx\", line 899, in pandas._libs.parsers.TextReader.read\n",
      "  File \"pandas/_libs/parsers.pyx\", line 914, in pandas._libs.parsers.TextReader._read_low_memory\n",
      "  File \"pandas/_libs/parsers.pyx\", line 991, in pandas._libs.parsers.TextReader._read_rows\n",
      "  File \"pandas/_libs/parsers.pyx\", line 1123, in pandas._libs.parsers.TextReader._convert_column_data\n",
      "  File \"pandas/_libs/parsers.pyx\", line 1169, in pandas._libs.parsers.TextReader._convert_tokens\n",
      "  File \"pandas/_libs/parsers.pyx\", line 1215, in pandas._libs.parsers.TextReader._convert_with_dtype\n",
      "  File \"/home/jonas/anaconda3/lib/python3.7/site-packages/pandas/core/dtypes/common.py\", line 572, in is_categorical_dtype\n",
      "    def is_categorical_dtype(arr_or_dtype):\n",
      "KeyboardInterrupt\n",
      "\n",
      "During handling of the above exception, another exception occurred:\n",
      "\n",
      "Traceback (most recent call last):\n",
      "  File \"/home/jonas/anaconda3/lib/python3.7/site-packages/IPython/core/interactiveshell.py\", line 3296, in run_code\n",
      "    exec(code_obj, self.user_global_ns, self.user_ns)\n",
      "  File \"<ipython-input-74-70c7f0c0aec3>\", line 1, in <module>\n",
      "    resultLabels   = pd.read_csv('../../../data/resultLabels.csv')\n",
      "  File \"/home/jonas/anaconda3/lib/python3.7/site-packages/pandas/io/parsers.py\", line 702, in parser_f\n",
      "    return _read(filepath_or_buffer, kwds)\n",
      "  File \"/home/jonas/anaconda3/lib/python3.7/site-packages/pandas/io/parsers.py\", line 435, in _read\n",
      "    data = parser.read(nrows)\n",
      "  File \"/home/jonas/anaconda3/lib/python3.7/site-packages/pandas/io/parsers.py\", line 1139, in read\n",
      "    ret = self._engine.read(nrows)\n",
      "  File \"/home/jonas/anaconda3/lib/python3.7/site-packages/pandas/io/parsers.py\", line 1995, in read\n",
      "    data = self._reader.read(nrows)\n",
      "KeyboardInterrupt\n",
      "\n",
      "During handling of the above exception, another exception occurred:\n",
      "\n",
      "Traceback (most recent call last):\n",
      "  File \"/home/jonas/anaconda3/lib/python3.7/site-packages/IPython/core/interactiveshell.py\", line 2033, in showtraceback\n",
      "    stb = value._render_traceback_()\n",
      "AttributeError: 'KeyboardInterrupt' object has no attribute '_render_traceback_'\n",
      "\n",
      "During handling of the above exception, another exception occurred:\n",
      "\n",
      "Traceback (most recent call last):\n",
      "  File \"/home/jonas/anaconda3/lib/python3.7/site-packages/IPython/core/ultratb.py\", line 1095, in get_records\n",
      "    return _fixed_getinnerframes(etb, number_of_lines_of_context, tb_offset)\n",
      "  File \"/home/jonas/anaconda3/lib/python3.7/site-packages/IPython/core/ultratb.py\", line 313, in wrapped\n",
      "    return f(*args, **kwargs)\n",
      "  File \"/home/jonas/anaconda3/lib/python3.7/site-packages/IPython/core/ultratb.py\", line 347, in _fixed_getinnerframes\n",
      "    records = fix_frame_records_filenames(inspect.getinnerframes(etb, context))\n",
      "  File \"/home/jonas/anaconda3/lib/python3.7/inspect.py\", line 1502, in getinnerframes\n",
      "    frameinfo = (tb.tb_frame,) + getframeinfo(tb, context)\n",
      "  File \"/home/jonas/anaconda3/lib/python3.7/inspect.py\", line 1460, in getframeinfo\n",
      "    filename = getsourcefile(frame) or getfile(frame)\n",
      "  File \"/home/jonas/anaconda3/lib/python3.7/inspect.py\", line 696, in getsourcefile\n",
      "    if getattr(getmodule(object, filename), '__loader__', None) is not None:\n",
      "  File \"/home/jonas/anaconda3/lib/python3.7/inspect.py\", line 732, in getmodule\n",
      "    for modname, module in list(sys.modules.items()):\n",
      "KeyboardInterrupt\n"
     ]
    },
    {
     "ename": "KeyboardInterrupt",
     "evalue": "",
     "output_type": "error",
     "traceback": [
      "\u001b[0;31m--------------------------------------------------------------------------\u001b[0m",
      "\nDuring handling of the above exception, another exception occurred:\n",
      "\u001b[0;31mKeyboardInterrupt\u001b[0m                        Traceback (most recent call last)",
      "\u001b[0;32m<ipython-input-74-70c7f0c0aec3>\u001b[0m in \u001b[0;36m<module>\u001b[0;34m\u001b[0m\n\u001b[0;32m----> 1\u001b[0;31m \u001b[0mresultLabels\u001b[0m   \u001b[0;34m=\u001b[0m \u001b[0mpd\u001b[0m\u001b[0;34m.\u001b[0m\u001b[0mread_csv\u001b[0m\u001b[0;34m(\u001b[0m\u001b[0;34m'../../../data/resultLabels.csv'\u001b[0m\u001b[0;34m)\u001b[0m\u001b[0;34m\u001b[0m\u001b[0;34m\u001b[0m\u001b[0m\n\u001b[0m",
      "\u001b[0;32m~/anaconda3/lib/python3.7/site-packages/pandas/io/parsers.py\u001b[0m in \u001b[0;36mparser_f\u001b[0;34m(filepath_or_buffer, sep, delimiter, header, names, index_col, usecols, squeeze, prefix, mangle_dupe_cols, dtype, engine, converters, true_values, false_values, skipinitialspace, skiprows, skipfooter, nrows, na_values, keep_default_na, na_filter, verbose, skip_blank_lines, parse_dates, infer_datetime_format, keep_date_col, date_parser, dayfirst, iterator, chunksize, compression, thousands, decimal, lineterminator, quotechar, quoting, doublequote, escapechar, comment, encoding, dialect, tupleize_cols, error_bad_lines, warn_bad_lines, delim_whitespace, low_memory, memory_map, float_precision)\u001b[0m\n\u001b[1;32m    700\u001b[0m                     skip_blank_lines=skip_blank_lines)\n\u001b[1;32m    701\u001b[0m \u001b[0;34m\u001b[0m\u001b[0m\n\u001b[0;32m--> 702\u001b[0;31m         \u001b[0;32mreturn\u001b[0m \u001b[0m_read\u001b[0m\u001b[0;34m(\u001b[0m\u001b[0mfilepath_or_buffer\u001b[0m\u001b[0;34m,\u001b[0m \u001b[0mkwds\u001b[0m\u001b[0;34m)\u001b[0m\u001b[0;34m\u001b[0m\u001b[0;34m\u001b[0m\u001b[0m\n\u001b[0m\u001b[1;32m    703\u001b[0m \u001b[0;34m\u001b[0m\u001b[0m\n\u001b[1;32m    704\u001b[0m     \u001b[0mparser_f\u001b[0m\u001b[0;34m.\u001b[0m\u001b[0m__name__\u001b[0m \u001b[0;34m=\u001b[0m \u001b[0mname\u001b[0m\u001b[0;34m\u001b[0m\u001b[0;34m\u001b[0m\u001b[0m\n",
      "\u001b[0;32m~/anaconda3/lib/python3.7/site-packages/pandas/io/parsers.py\u001b[0m in \u001b[0;36m_read\u001b[0;34m(filepath_or_buffer, kwds)\u001b[0m\n\u001b[1;32m    433\u001b[0m \u001b[0;34m\u001b[0m\u001b[0m\n\u001b[1;32m    434\u001b[0m     \u001b[0;32mtry\u001b[0m\u001b[0;34m:\u001b[0m\u001b[0;34m\u001b[0m\u001b[0;34m\u001b[0m\u001b[0m\n\u001b[0;32m--> 435\u001b[0;31m         \u001b[0mdata\u001b[0m \u001b[0;34m=\u001b[0m \u001b[0mparser\u001b[0m\u001b[0;34m.\u001b[0m\u001b[0mread\u001b[0m\u001b[0;34m(\u001b[0m\u001b[0mnrows\u001b[0m\u001b[0;34m)\u001b[0m\u001b[0;34m\u001b[0m\u001b[0;34m\u001b[0m\u001b[0m\n\u001b[0m\u001b[1;32m    436\u001b[0m     \u001b[0;32mfinally\u001b[0m\u001b[0;34m:\u001b[0m\u001b[0;34m\u001b[0m\u001b[0;34m\u001b[0m\u001b[0m\n\u001b[1;32m    437\u001b[0m         \u001b[0mparser\u001b[0m\u001b[0;34m.\u001b[0m\u001b[0mclose\u001b[0m\u001b[0;34m(\u001b[0m\u001b[0;34m)\u001b[0m\u001b[0;34m\u001b[0m\u001b[0;34m\u001b[0m\u001b[0m\n",
      "\u001b[0;32m~/anaconda3/lib/python3.7/site-packages/pandas/io/parsers.py\u001b[0m in \u001b[0;36mread\u001b[0;34m(self, nrows)\u001b[0m\n\u001b[1;32m   1137\u001b[0m     \u001b[0;32mdef\u001b[0m \u001b[0mread\u001b[0m\u001b[0;34m(\u001b[0m\u001b[0mself\u001b[0m\u001b[0;34m,\u001b[0m \u001b[0mnrows\u001b[0m\u001b[0;34m=\u001b[0m\u001b[0;32mNone\u001b[0m\u001b[0;34m)\u001b[0m\u001b[0;34m:\u001b[0m\u001b[0;34m\u001b[0m\u001b[0;34m\u001b[0m\u001b[0m\n\u001b[1;32m   1138\u001b[0m         \u001b[0mnrows\u001b[0m \u001b[0;34m=\u001b[0m \u001b[0m_validate_integer\u001b[0m\u001b[0;34m(\u001b[0m\u001b[0;34m'nrows'\u001b[0m\u001b[0;34m,\u001b[0m \u001b[0mnrows\u001b[0m\u001b[0;34m)\u001b[0m\u001b[0;34m\u001b[0m\u001b[0;34m\u001b[0m\u001b[0m\n\u001b[0;32m-> 1139\u001b[0;31m         \u001b[0mret\u001b[0m \u001b[0;34m=\u001b[0m \u001b[0mself\u001b[0m\u001b[0;34m.\u001b[0m\u001b[0m_engine\u001b[0m\u001b[0;34m.\u001b[0m\u001b[0mread\u001b[0m\u001b[0;34m(\u001b[0m\u001b[0mnrows\u001b[0m\u001b[0;34m)\u001b[0m\u001b[0;34m\u001b[0m\u001b[0;34m\u001b[0m\u001b[0m\n\u001b[0m\u001b[1;32m   1140\u001b[0m \u001b[0;34m\u001b[0m\u001b[0m\n\u001b[1;32m   1141\u001b[0m         \u001b[0;31m# May alter columns / col_dict\u001b[0m\u001b[0;34m\u001b[0m\u001b[0;34m\u001b[0m\u001b[0;34m\u001b[0m\u001b[0m\n",
      "\u001b[0;32m~/anaconda3/lib/python3.7/site-packages/pandas/io/parsers.py\u001b[0m in \u001b[0;36mread\u001b[0;34m(self, nrows)\u001b[0m\n\u001b[1;32m   1993\u001b[0m     \u001b[0;32mdef\u001b[0m \u001b[0mread\u001b[0m\u001b[0;34m(\u001b[0m\u001b[0mself\u001b[0m\u001b[0;34m,\u001b[0m \u001b[0mnrows\u001b[0m\u001b[0;34m=\u001b[0m\u001b[0;32mNone\u001b[0m\u001b[0;34m)\u001b[0m\u001b[0;34m:\u001b[0m\u001b[0;34m\u001b[0m\u001b[0;34m\u001b[0m\u001b[0m\n\u001b[1;32m   1994\u001b[0m         \u001b[0;32mtry\u001b[0m\u001b[0;34m:\u001b[0m\u001b[0;34m\u001b[0m\u001b[0;34m\u001b[0m\u001b[0m\n\u001b[0;32m-> 1995\u001b[0;31m             \u001b[0mdata\u001b[0m \u001b[0;34m=\u001b[0m \u001b[0mself\u001b[0m\u001b[0;34m.\u001b[0m\u001b[0m_reader\u001b[0m\u001b[0;34m.\u001b[0m\u001b[0mread\u001b[0m\u001b[0;34m(\u001b[0m\u001b[0mnrows\u001b[0m\u001b[0;34m)\u001b[0m\u001b[0;34m\u001b[0m\u001b[0;34m\u001b[0m\u001b[0m\n\u001b[0m\u001b[1;32m   1996\u001b[0m         \u001b[0;32mexcept\u001b[0m \u001b[0mStopIteration\u001b[0m\u001b[0;34m:\u001b[0m\u001b[0;34m\u001b[0m\u001b[0;34m\u001b[0m\u001b[0m\n\u001b[1;32m   1997\u001b[0m             \u001b[0;32mif\u001b[0m \u001b[0mself\u001b[0m\u001b[0;34m.\u001b[0m\u001b[0m_first_chunk\u001b[0m\u001b[0;34m:\u001b[0m\u001b[0;34m\u001b[0m\u001b[0;34m\u001b[0m\u001b[0m\n",
      "\u001b[0;31mKeyboardInterrupt\u001b[0m: "
     ]
    }
   ],
   "source": [
    "resultLabels   = pd.read_csv('../../../data/resultLabels.csv')\n",
    "scores = resultLabels\n",
    "scores = scores[scores[\"idExame\"].isin(ids_achados['id'])]\n",
    "scores = [[0 if (\"False\" in i) else 1 for i in row.split(\",\")] for row in scores[\"label\"][-50000:]]"
   ]
  },
  {
   "cell_type": "code",
   "execution_count": 77,
   "metadata": {},
   "outputs": [],
   "source": [
    "scores = np.array(scores)"
   ]
  },
  {
   "cell_type": "code",
   "execution_count": 83,
   "metadata": {},
   "outputs": [
    {
     "name": "stdout",
     "output_type": "stream",
     "text": [
      "0 : 494\n",
      "1 : 19011\n",
      "2 : 10965\n",
      "3 : 806\n",
      "4 : 0\n",
      "5 : 1761\n",
      "6 : 1\n",
      "7 : 2097\n",
      "8 : 169\n",
      "9 : 59\n",
      "10 : 5\n",
      "11 : 640\n",
      "12 : 20\n",
      "13 : 1043\n",
      "14 : 31\n",
      "15 : 3\n",
      "16 : 1\n",
      "17 : 11\n",
      "18 : 126\n",
      "19 : 204\n",
      "20 : 3030\n",
      "21 : 223\n",
      "22 : 3275\n",
      "23 : 3444\n",
      "24 : 1454\n",
      "25 : 49530\n",
      "26 : 0\n",
      "27 : 2254\n",
      "28 : 5305\n",
      "29 : 224\n",
      "30 : 1\n",
      "31 : 0\n",
      "32 : 0\n",
      "33 : 38\n",
      "34 : 47\n",
      "35 : 10\n",
      "36 : 1\n",
      "37 : 2184\n",
      "38 : 1\n",
      "39 : 21614\n",
      "40 : 1003\n",
      "41 : 136\n",
      "42 : 4367\n",
      "43 : 15\n",
      "44 : 2881\n",
      "45 : 1408\n",
      "46 : 9\n",
      "47 : 30\n",
      "48 : 18\n",
      "49 : 0\n",
      "50 : 10\n",
      "51 : 38\n",
      "52 : 8\n",
      "53 : 10\n",
      "54 : 98\n",
      "55 : 39\n",
      "56 : 0\n",
      "57 : 46\n",
      "58 : 1\n",
      "59 : 97\n",
      "60 : 3173\n",
      "61 : 34\n",
      "62 : 4\n",
      "63 : 146\n",
      "64 : 249\n",
      "65 : 1490\n",
      "66 : 16\n",
      "67 : 15\n",
      "68 : 1\n",
      "69 : 0\n",
      "70 : 0\n",
      "71 : 0\n",
      "72 : 1\n",
      "73 : 1\n"
     ]
    }
   ],
   "source": [
    "for i in range(74):\n",
    "    print(i, \":\", scores[:,i].sum())"
   ]
  },
  {
   "cell_type": "code",
   "execution_count": 5,
   "metadata": {},
   "outputs": [],
   "source": [
    "corte_classes = [84, 85, 96, 84, 97, 94, 81, 100, 83, 95, 83, 83, 81, 92, 95, 81, 85, 92, 84, 83, 86, 89, 83, 92, 93, 92, 83, 83, 87, \n",
    "                100, 92, 80, 84, 87, 91, 84, 100, 81, 100, 100, 88, 100, 81, 90, 100, 83, 90, 81, 86, 83, 96, 82, 97, 85, 90, 81, 81, 97,\n",
    "                95, 97, 84, 81, 84, 89, 86, 89, 83, 95]\n",
    "ordem_classes = ['área_eletricamente_inativa',\n",
    "       'Bloqueio_de_ramo_direito', 'Bloqueio_de_ramo_esquerdo',\n",
    "       'Bloqueio_de_ramo_direito_e_bloqueio_divisional_anterossuperior_do_ramo_esquerdo',\n",
    "       'Bloqueio_intraventricular_inespecífico',\n",
    "       'Sobrecarga_ventricular_esquerda_(critérios_de_Romhilt-Estes)',\n",
    "       'Sobrecarga_ventricular_esquerda_(critérios_de_voltagem)',\n",
    "       'Fibrilação_atrial', 'Flutter_atrial',\n",
    "       'Bloqueio_atrioventricular_de_2°_grau_Mobitz_I',\n",
    "       'Bloqueio_atrioventricular_de_2°_grau_Mobitz_II',\n",
    "       'Bloqueio_atrioventricular_2:1', 'Bloqueio_atrioventricular_avançado',\n",
    "       'Bloqueio_atrioventricular_total',\n",
    "       'Pré-excitação_ventricular_tipo_Wolff-Parkinson-White',\n",
    "       'Sistema_de_estimulação_cardíaca_normofuncionante',\n",
    "       'Sistema_de_estimulação_cardíaca_com_disfunção',\n",
    "       'Taquicardia_atrial_multifocal', 'Taquicardia_atrial',\n",
    "       'Taquicardia_supraventricular', 'Corrente_de_lesão_subendocárdica',\n",
    "       'Alterações_primárias_da_repolarização_ventricular',\n",
    "       'Extrassístoles_supraventriculares', 'Extrassístoles_ventriculares',\n",
    "       'Bradicardia_sinusal',\n",
    "       'ECG_dentro_dos_limites_da_normalidade_para_idade_e_sexo',\n",
    "       'Alterações_da_repolarização_ventricular_atribuídas_à_ação_digitálica',\n",
    "       'Alterações_inespecíficas_da_repolarização_ventricular',\n",
    "       'Alterações_secundárias_da_repolarização_ventricular',\n",
    "       'Arritmia_sinusal',\n",
    "       'Ausência_de_sinal_eletrocardiográfico_que_impede_a_análise',\n",
    "       'Interferência_na_linha_de_base_que_não_impede_a_análise_do_ECG',\n",
    "       'Ausência_de_sinal_eletrocardiográfico_que_não_impede_a_análise',\n",
    "       'Traçado_com_qualidade_técnica_insuficiente',\n",
    "       'Possível_inversão_de_posicionamento_de_eletrodos',\n",
    "       'Baixa_voltagem_em_derivações_precordiais',\n",
    "       'Baixa_voltagem_em_derivações_periféricas',\n",
    "       'Bloqueio_atrioventricular_de_1°_grau',\n",
    "       'Bloqueio_de_ramo_direito_e_bloqueio_divisional_posteroinferior_do_ramo_esquerdo',\n",
    "       'Bloqueio_divisional_anterossuperior_do_ramo_esquerdo',\n",
    "       'Bloqueio_divisional_posteroinferior_do_ramo_esquerdo',\n",
    "       'Desvio_do_eixo_do_QRS_para_direita',\n",
    "       'Desvio_do_eixo_do_QRS_para_esquerda',\n",
    "       'Dissociação_atrioventricular_isorrítmica',\n",
    "       'Distúrbio_de_condução_do_ramo_direito',\n",
    "       'Distúrbio_de_condução_do_ramo_esquerdo', 'Intervalo_PR_curto',\n",
    "       'Intervalo_QT_prolongado', 'Isquemia_subendocárdica',\n",
    "       'Progressão_lenta_de_R_nas_derivações_precordiais', 'Pausa_sinusal',\n",
    "       'Corrente_de_lesão_subepicárdica',\n",
    "       'Corrente_de_lesão_subepicárdica_-_provável_infarto_agudo_do_miocárdio_com_supradesnivelamento_de_ST',\n",
    "       'Repolarização_precoce', 'Ritmo_atrial_ectópico',\n",
    "       'Ritmo_atrial_multifocal', 'Ritmo_idioventricular_acelerado',\n",
    "       'Ritmo_juncional', 'Síndrome_de_Brugada', 'Sobrecarga_atrial_direita',\n",
    "       'Sobrecarga_atrial_esquerda', 'Sobrecarga_biatrial',\n",
    "       'Sobrecarga_biventricular', 'Sobrecarga_ventricular_direita',\n",
    "       'Sobrecarga_ventricular_esquerda(_critérios_de_voltagem)',\n",
    "       'Taquicardia_sinusal', 'Taquicardia_ventricular_não_sustentada',\n",
    "       'Taquicardia_ventricular_sustentada',\n",
    "       'Suspeita_de_Síndrome_de_Brugada_repetir_V1-V2_em_derivações_superiores',\n",
    "       'Taquicardia_juncional', 'Batimento_de_escape_atrial',\n",
    "       'Batimento_de_escape_supraventricular', 'Batimento_de_escape_juncional',\n",
    "       'Batimento_de_escape_ventricular']"
   ]
  },
  {
   "cell_type": "code",
   "execution_count": 6,
   "metadata": {},
   "outputs": [],
   "source": [
    "# Global variables\n",
    "REBUILD_DATA = False\n",
    "TOP_WORDS = 7500\n",
    "EPOCHS = 30 \n",
    "BATCH_SIZE = 256\n",
    "#Essa variável aqui é o número de posições que os vetores tem ao usar o pad_sequences. Não uso ela pra nada ainda mas talvez eu venha a usar, por isso ela está aqui.\n",
    "SEQ_SIZE = 422"
   ]
  },
  {
   "cell_type": "code",
   "execution_count": 7,
   "metadata": {},
   "outputs": [
    {
     "name": "stdout",
     "output_type": "stream",
     "text": [
      "Running on a GPU :D\n"
     ]
    }
   ],
   "source": [
    "if torch.cuda.is_available():\n",
    "    device = torch.device(\"cuda:0\")\n",
    "    print(\"Running on a GPU :D\")\n",
    "else:\n",
    "    device = torch.device(\"cpu\")\n",
    "    print(\"Running on a CPU :/\")"
   ]
  },
  {
   "cell_type": "code",
   "execution_count": 8,
   "metadata": {},
   "outputs": [],
   "source": [
    "# Oi, Derick\n",
    "# To comentando como diálogo porque acho mais fácil explicar o código assim. Se o comentário estiver errado é pq essa é a parte que eu entendi errado.\n",
    "class Net(nn.Module):\n",
    "    def __init__(self):\n",
    "        \n",
    "        print(\"Building NN...\")\n",
    "        embedding_dim = 128\n",
    "        lstm_out_dim = 128\n",
    "        num_embeddings = 7500\n",
    "        num_of_classes = 74\n",
    "        \n",
    "        super().__init__()\n",
    "        #Camada de Embedding, o padding_idx é um argumento que eu descobri que é usada para falar para a camada que os números no fim de cada vetor são apenas lixo\n",
    "        self.l1 = nn.Embedding(num_embeddings, embedding_dim, padding_idx = 0)\n",
    "        #Eu não entendo muito bem o que essa camada faz. Pelo que eu entendi é algo probabilístico. Mas ela n altera o shape.\n",
    "        self.l2 = nn.Dropout(p=0.4)\n",
    "        #A LSTM recebe os Embeddings e cospe o mesmo número de vetores que eu passei para ela. Não sei se eu deveria alterar o número de camadas da LSTM.\n",
    "        #Se usar menos de 2 não dá pra colocar Dropout pq o Dropout é aplicado em todas as camadas menos na última.\n",
    "        self.l3 = nn.LSTM(embedding_dim, lstm_out_dim, dropout = 0.2, num_layers = 2)\n",
    "        #É o seguinte. Como as dimensões de entrada são estáticas, eu adicionei elas manualmente na camada linear para conseguir fazer o flatten.\n",
    "        self.l4 = nn.Flatten()\n",
    "        #Dimensao do vetor de entrada X dimensao da lstm\n",
    "        self.l5 = nn.Linear(SEQ_SIZE * lstm_out_dim, num_of_classes)\n",
    "        \n",
    "    \n",
    "    def forward(self, x):\n",
    "        #Aqui eu só to passando o input pelas camadas mesmo\n",
    "        x    = self.l1(x)\n",
    "        x    = self.l2(x)\n",
    "        #A camada de LSTM retorna uma tupla, o vetor que eu quero é a primeira posição da tupla, por isso recebo assim.\n",
    "        #Acho que a segunda camada da LSTM só é util ao passar de uma camada da LSTM para a outra.\n",
    "        x, _ = self.l3(x)\n",
    "        x    = self.l4(x)\n",
    "        x    = self.l5(x)\n",
    "        #Aqui eu aplico o softmax. Especifico o número de dimensões para ser um e tal. Não sei o que não está funcionando :c.\n",
    "        x    = F.softmax(x, dim = 1)\n",
    "            \n",
    "        return x        "
   ]
  },
  {
   "cell_type": "code",
   "execution_count": 9,
   "metadata": {},
   "outputs": [],
   "source": [
    "def clean_text(x):\n",
    "    if type(x) is str:\n",
    "        pattern = r'[^a-zA-z0-9!.?,:\\s]'\n",
    "        x = normalize('NFKD', x).encode('ASCII', 'ignore').decode('ASCII')\n",
    "        x = re.sub(pattern, '', x)\n",
    "        return x\n",
    "    else:\n",
    "        return \"\""
   ]
  },
  {
   "cell_type": "code",
   "execution_count": 10,
   "metadata": {},
   "outputs": [],
   "source": [
    "def tokenize(text, tokenizer, fit = False):\n",
    "    # Creating vocabulary\n",
    "    if fit:\n",
    "        tokenizer.fit_on_texts(text)\n",
    "    # Vectorizing text\n",
    "    train_X   = tokenizer.texts_to_sequences(text)\n",
    "    return train_X"
   ]
  },
  {
   "cell_type": "code",
   "execution_count": 13,
   "metadata": {},
   "outputs": [],
   "source": [
    "with open(\"../../trained_models/pytorch_tokenizer.pickle\", 'rb') as handle:\n",
    "    tokenizer = pickle.load(handle)"
   ]
  },
  {
   "cell_type": "code",
   "execution_count": 16,
   "metadata": {},
   "outputs": [
    {
     "name": "stdout",
     "output_type": "stream",
     "text": [
      "675940\n",
      "50000\n"
     ]
    }
   ],
   "source": [
    "#Atribua aqui sua validação\n",
    "base = base[base['ID_EXAME'].isin(ids_achados['id'])]\n",
    "print(len(base))\n",
    "text = base[\"CONTEUDO\"][-50000:]\n",
    "print(len(text))"
   ]
  },
  {
   "cell_type": "code",
   "execution_count": 17,
   "metadata": {},
   "outputs": [],
   "source": [
    "text        = [clean_text(i) for i in text]\n",
    "test_X_temp = tokenize(text, tokenizer, fit = False)\n",
    "test_X_temp = [torch.Tensor(i).type(torch.LongTensor) for i in test_X_temp]\n",
    "test_X_temp = pad_sequence(test_X_temp, batch_first=True).type(torch.LongTensor)"
   ]
  },
  {
   "cell_type": "code",
   "execution_count": 32,
   "metadata": {},
   "outputs": [],
   "source": [
    "test_X = []\n",
    "if(len(test_X_temp[0]) < 422):\n",
    "    for i in range(len(test_X_temp)):\n",
    "        line = test_X_temp[i]\n",
    "        for j in range(422 - len(line)):\n",
    "            line = torch.cat((line, torch.Tensor([0]).type(torch.LongTensor)), 0)\n",
    "        test_X.append(line)\n",
    "else:\n",
    "    test_X = [line[:422] for line in test_X_temp]\n",
    "    \n",
    "test_X = torch.stack([i for i in test_X])"
   ]
  },
  {
   "cell_type": "code",
   "execution_count": 15,
   "metadata": {},
   "outputs": [],
   "source": [
    "# labels = [row[1:-1] for row in resultLabels['label']]\n",
    "# labels = [label.split(',') for label in labels]\n",
    "# labels = [[1 if word == \" True\" or word == \"True\" else 0 for word in row] for row in labels]\n",
    "# test_y = labels[-50000:]"
   ]
  },
  {
   "cell_type": "code",
   "execution_count": 35,
   "metadata": {},
   "outputs": [
    {
     "name": "stdout",
     "output_type": "stream",
     "text": [
      "Building NN...\n"
     ]
    },
    {
     "data": {
      "text/plain": [
       "Net(\n",
       "  (l1): Embedding(7500, 128, padding_idx=0)\n",
       "  (l2): Dropout(p=0.4, inplace=False)\n",
       "  (l3): LSTM(128, 128, num_layers=2, dropout=0.2)\n",
       "  (l4): Flatten()\n",
       "  (l5): Linear(in_features=54016, out_features=74, bias=True)\n",
       ")"
      ]
     },
     "execution_count": 35,
     "metadata": {},
     "output_type": "execute_result"
    }
   ],
   "source": [
    "net = Net()\n",
    "net.load_state_dict(torch.load(\"../../trained_models/pytorch_checkpoint_2.pth\",  map_location=torch.device('cpu')))\n",
    "net.eval()"
   ]
  },
  {
   "cell_type": "code",
   "execution_count": 54,
   "metadata": {},
   "outputs": [
    {
     "name": "stdout",
     "output_type": "stream",
     "text": [
      "0  ->  1024\n",
      "1024  ->  2048\n",
      "2048  ->  3072\n",
      "3072  ->  4096\n",
      "4096  ->  5120\n",
      "5120  ->  6144\n",
      "6144  ->  7168\n",
      "7168  ->  8192\n",
      "8192  ->  9216\n",
      "9216  ->  10240\n",
      "10240  ->  11264\n",
      "11264  ->  12288\n",
      "12288  ->  13312\n",
      "13312  ->  14336\n",
      "14336  ->  15360\n",
      "15360  ->  16384\n",
      "16384  ->  17408\n",
      "17408  ->  18432\n",
      "18432  ->  19456\n",
      "19456  ->  20480\n",
      "20480  ->  21504\n",
      "21504  ->  22528\n",
      "22528  ->  23552\n",
      "23552  ->  24576\n",
      "24576  ->  25600\n",
      "25600  ->  26624\n",
      "26624  ->  27648\n",
      "27648  ->  28672\n",
      "28672  ->  29696\n",
      "29696  ->  30720\n",
      "30720  ->  31744\n",
      "31744  ->  32768\n",
      "32768  ->  33792\n",
      "33792  ->  34816\n",
      "34816  ->  35840\n",
      "35840  ->  36864\n",
      "36864  ->  37888\n",
      "37888  ->  38912\n",
      "38912  ->  39936\n",
      "39936  ->  40960\n",
      "40960  ->  41984\n",
      "41984  ->  43008\n",
      "43008  ->  44032\n",
      "44032  ->  45056\n",
      "45056  ->  46080\n",
      "46080  ->  47104\n",
      "47104  ->  48128\n",
      "48128  ->  49152\n",
      "49152  ->  50176\n"
     ]
    }
   ],
   "source": [
    "finalResult = torch.Tensor()\n",
    "size = 64\n",
    "for i in range(0, 50000, size):\n",
    "    if(i % 1024 == 0):\n",
    "        print(i, \" -> \", i+1024)\n",
    "    with torch.no_grad():\n",
    "        result      = net(test_X[i:min(i+size, 50000)])\n",
    "    finalResult = torch.cat((finalResult, result), 0)"
   ]
  },
  {
   "cell_type": "code",
   "execution_count": null,
   "metadata": {},
   "outputs": [],
   "source": []
  },
  {
   "cell_type": "code",
   "execution_count": 65,
   "metadata": {},
   "outputs": [
    {
     "name": "stdout",
     "output_type": "stream",
     "text": [
      "0  :  tensor(5.7201)\n",
      "1  :  tensor(16425.9766)\n",
      "2  :  tensor(10764.5957)\n",
      "3  :  tensor(3.5111)\n",
      "4  :  tensor(0.0161)\n",
      "5  :  tensor(96.3639)\n",
      "6  :  tensor(0.0283)\n",
      "7  :  tensor(29.7678)\n",
      "8  :  tensor(0.0001)\n",
      "9  :  tensor(0.7182)\n",
      "10  :  tensor(0.0054)\n",
      "11  :  tensor(0.0136)\n",
      "12  :  tensor(0.0116)\n",
      "13  :  tensor(58.3386)\n",
      "14  :  tensor(6.5624)\n",
      "15  :  tensor(0.6439)\n",
      "16  :  tensor(0.0014)\n",
      "17  :  tensor(0.0001)\n",
      "18  :  tensor(1.1717)\n",
      "19  :  tensor(81.1049)\n",
      "20  :  tensor(22.9402)\n",
      "21  :  tensor(17.7296)\n",
      "22  :  tensor(77.4629)\n",
      "23  :  tensor(18.3679)\n",
      "24  :  tensor(0.0001)\n",
      "25  :  tensor(14.3632)\n",
      "26  :  tensor(0.0006)\n",
      "27  :  tensor(35.6089)\n",
      "28  :  tensor(0.0005)\n",
      "29  :  tensor(0.0001)\n",
      "30  :  tensor(1.0789)\n",
      "31  :  tensor(0.0001)\n",
      "32  :  tensor(0.0001)\n",
      "33  :  tensor(0.0075)\n",
      "34  :  tensor(0.0001)\n",
      "35  :  tensor(0.0136)\n",
      "36  :  tensor(0.0032)\n",
      "37  :  tensor(14.2187)\n",
      "38  :  tensor(0.0026)\n",
      "39  :  tensor(17880.8027)\n",
      "40  :  tensor(654.4205)\n",
      "41  :  tensor(1.5982)\n",
      "42  :  tensor(8.5315)\n",
      "43  :  tensor(0.0696)\n",
      "44  :  tensor(1703.3619)\n",
      "45  :  tensor(1164.7367)\n",
      "46  :  tensor(3.2389)\n",
      "47  :  tensor(0.5766)\n",
      "48  :  tensor(0.3580)\n",
      "49  :  tensor(0.1943)\n",
      "50  :  tensor(0.0001)\n",
      "51  :  tensor(0.0311)\n",
      "52  :  tensor(0.0153)\n",
      "53  :  tensor(2.8507)\n",
      "54  :  tensor(3.4326)\n",
      "55  :  tensor(0.0001)\n",
      "56  :  tensor(0.0069)\n",
      "57  :  tensor(7.0769)\n",
      "58  :  tensor(0.0001)\n",
      "59  :  tensor(0.0001)\n",
      "60  :  tensor(799.3412)\n",
      "61  :  tensor(0.0001)\n",
      "62  :  tensor(0.0255)\n",
      "63  :  tensor(0.1716)\n",
      "64  :  tensor(90.2065)\n",
      "65  :  tensor(0.0001)\n",
      "66  :  tensor(0.0489)\n",
      "67  :  tensor(1.6607)\n",
      "68  :  tensor(0.0031)\n",
      "69  :  tensor(0.0001)\n",
      "70  :  tensor(0.0183)\n",
      "71  :  tensor(0.0058)\n",
      "72  :  tensor(0.2468)\n",
      "73  :  tensor(0.0042)\n"
     ]
    }
   ],
   "source": [
    "for i in range(74):\n",
    "    print(i, \" : \", finalResult[:,i].sum())"
   ]
  },
  {
   "cell_type": "code",
   "execution_count": 39,
   "metadata": {},
   "outputs": [],
   "source": [
    "n_classes = 74\n",
    "y_test = np.array(test_y)\n",
    "y_score = finalResult.numpy()"
   ]
  },
  {
   "cell_type": "code",
   "execution_count": 44,
   "metadata": {},
   "outputs": [],
   "source": [
    "# Compute ROC curve and ROC area for each class\n",
    "fpr = dict()\n",
    "tpr = dict()\n",
    "roc_auc = dict()\n",
    "for i in range(n_classes):\n",
    "    fpr[i], tpr[i], _ = metrics.roc_curve(y_test[:, i], y_score[:, i])\n",
    "    roc_auc[i] = metrics.auc(fpr[i], tpr[i])\n",
    "\n",
    "# Compute micro-average ROC curve and ROC area\n",
    "fpr[\"micro\"], tpr[\"micro\"], _ = metrics.roc_curve(y_test.ravel(), y_score.ravel())\n",
    "roc_auc[\"micro\"] = metrics.auc(fpr[\"micro\"], tpr[\"micro\"])"
   ]
  },
  {
   "cell_type": "code",
   "execution_count": 73,
   "metadata": {},
   "outputs": [
    {
     "data": {
      "image/png": "[encoded data removed]",
      "text/plain": [
       "<Figure size 432x288 with 1 Axes>"
      ]
     },
     "metadata": {
      "needs_background": "light"
     },
     "output_type": "display_data"
    },
    {
     "data": {
      "text/plain": [
       "<Figure size 432x288 with 0 Axes>"
      ]
     },
     "metadata": {},
     "output_type": "display_data"
    }
   ],
   "source": [
    "nClass = 3\n",
    "plt.figure()\n",
    "lw = 2\n",
    "plt.plot(fpr[nClass], tpr[nClass], color='darkorange',\n",
    "         lw=lw, label='ROC curve (area = %0.2f)' % roc_auc[nClass])\n",
    "plt.plot([0, 1], [0, 1], color='navy', lw=lw, linestyle='--')\n",
    "plt.xlim([0.0, 1])\n",
    "plt.ylim([0.0, 1.05])\n",
    "plt.xlabel('False Positive Rate')\n",
    "plt.ylabel('True Positive Rate')\n",
    "plt.title('ROC - ' + ordem_classes[nClass])\n",
    "plt.legend(loc=\"lower right\")\n",
    "plt.savefig('../../../data/test_data/ROC/' + ordem_classes[nClass] + '.png')\n",
    "plt.show()"
   ]
  }
 ],
 "metadata": {
  "kernelspec": {
   "display_name": "Python 3",
   "language": "python",
   "name": "python3"
  },
  "language_info": {
   "codemirror_mode": {
    "name": "ipython",
    "version": 3
   },
   "file_extension": ".py",
   "mimetype": "text/x-python",
   "name": "python",
   "nbconvert_exporter": "python",
   "pygments_lexer": "ipython3",
   "version": "3.7.3"
  }
 },
 "nbformat": 4,
 "nbformat_minor": 4
}
