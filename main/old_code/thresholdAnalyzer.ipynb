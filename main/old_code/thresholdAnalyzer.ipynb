{
 "cells": [
  {
   "cell_type": "code",
   "execution_count": 296,
   "metadata": {},
   "outputs": [
    {
     "name": "stdout",
     "output_type": "stream",
     "text": [
      "Loading modules, classes and methods...\n"
     ]
    }
   ],
   "source": [
    "print(\"Loading modules, classes and methods...\")\n",
    "import multiprocessing\n",
    "from unidecode import unidecode\n",
    "from joblib import Parallel, delayed\n",
    "import numpy as np\n",
    "import string\n",
    "import pandas as pd\n",
    "import time\n",
    "import os\n",
    "import numpy as np\n",
    "import re\n",
    "import pandas as pd\n",
    "import torch\n",
    "import torch.optim as optim\n",
    "import torch.nn as nn\n",
    "import torch.nn.functional as F\n",
    "from torch.nn.utils.rnn import pad_sequence\n",
    "import torchvision\n",
    "import pickle\n",
    "from unicodedata import normalize\n",
    "from keras.preprocessing.text import Tokenizer\n",
    "from torchvision import transforms, datasets\n",
    "from tqdm import tqdm\n",
    "from time import sleep\n",
    "import matplotlib.pyplot as plt\n",
    "from argparse import ArgumentParser\n",
    "import textclassification as tc"
   ]
  },
  {
   "cell_type": "code",
   "execution_count": 297,
   "metadata": {},
   "outputs": [
    {
     "name": "stdout",
     "output_type": "stream",
     "text": [
      "Loading data...\n",
      "Cutting slice. From 0 to 2000000...\n"
     ]
    }
   ],
   "source": [
    "print(\"Loading data...\")\n",
    "\n",
    "STARTING = 0\n",
    "ENDING = 2000000\n",
    "valid = np.load(\"../light_data/new_classes.npy\")\n",
    "prevalences = pd.read_csv(\"../light_data/prevalencia_e_scores_com_siglas.csv\")\n",
    "dicionarioCsv = pd.read_csv(\"../light_data/DicionarioECG_completo.csv\", index_col = 0)\n",
    "siglasCsv = pd.read_csv(\"../light_data/DicionarioECG_Siglas.csv\", index_col = 0)\n",
    "db = pd.read_csv(\"../../data/DATA_LAUDOS_TEXTO_formato1\", sep = \";\")\n",
    "\n",
    "\n",
    "print(\"Cutting slice. From {} to {}...\".format(STARTING, ENDING))\n",
    "db = db[STARTING:ENDING]\n",
    "db = db.reset_index()"
   ]
  },
  {
   "cell_type": "code",
   "execution_count": 298,
   "metadata": {},
   "outputs": [],
   "source": [
    "import pandas as pd\n",
    "\n",
    "dicionarioCsv = pd.read_csv(\"../light_data/DicionarioECG_completo.csv\", index_col = 0)\n",
    "dicionario = {}\n",
    "for row in dicionarioCsv.itertuples():\n",
    "    aux = []\n",
    "    for diag in row:\n",
    "        if type(diag) is str: aux.append(\" \" + diag + \" \")\n",
    "    dicionario[row[0]] = aux"
   ]
  },
  {
   "cell_type": "code",
   "execution_count": 299,
   "metadata": {},
   "outputs": [
    {
     "name": "stdout",
     "output_type": "stream",
     "text": [
      "Preparing texts...\n"
     ]
    }
   ],
   "source": [
    "print(\"Preparing texts...\")\n",
    "texts = [\" \" + tc.clean_text(text) + \" \" for text in db[\"CONTEUDO\"]]\n",
    "\n",
    "siglas = {}\n",
    "for row in siglasCsv.itertuples():\n",
    "    aux = []\n",
    "    for diag in row:\n",
    "        if type(diag) is str: aux.append(\" \" + diag + \" \")\n",
    "    siglas[row[0]] = aux\n",
    "siglas[11].append(\" bav2:1 \")\n",
    "    \n",
    "dicionario = {}\n",
    "for row in dicionarioCsv.itertuples():\n",
    "    aux = []\n",
    "    for diag in row:\n",
    "        if type(diag) is str: aux.append(\" \" + diag + \" \")\n",
    "    dicionario[row[0]] = aux"
   ]
  },
  {
   "cell_type": "code",
   "execution_count": 300,
   "metadata": {},
   "outputs": [],
   "source": [
    "result = np.load(\"output/score_values.npy\")"
   ]
  },
  {
   "cell_type": "code",
   "execution_count": 240,
   "metadata": {
    "collapsed": true,
    "jupyter": {
     "outputs_hidden": true
    }
   },
   "outputs": [
    {
     "name": "stdout",
     "output_type": "stream",
     "text": [
      "Calculating thresholds and creating binary arrays...\n",
      "Calculating for área_eletricamente_inativa\n",
      "Threshold = 82.143\n",
      "Calculating for Bloqueio_de_ramo_direito\n",
      "Threshold = 88.889\n",
      "Calculating for Bloqueio_de_ramo_esquerdo\n",
      "Threshold = 89.286\n",
      "Calculating for Sobrecarga_ventricular_esquerda_(critérios_de_Romhilt-Estes)\n",
      "Threshold = 93.939\n",
      "Calculating for Fibrilação_atrial\n",
      "Threshold = 78.947\n",
      "Calculating for Flutter_atrial\n",
      "Threshold = 87.5\n",
      "Calculating for Bloqueio_atrioventricular_de_2°_grau_Mobitz_I\n",
      "Threshold = 75.0\n",
      "Calculating for Pré-excitação_ventricular_tipo_Wolff-Parkinson-White\n",
      "Threshold = 77.778\n",
      "Calculating for Sistema_de_estimulação_cardíaca_normofuncionante\n",
      "Threshold = 59.459\n",
      "Calculating for Taquicardia_atrial_multifocal\n",
      "Threshold = 96.774\n",
      "Calculating for Taquicardia_supraventricular\n",
      "Threshold = 67.742\n",
      "Calculating for Alterações_primárias_da_repolarização_ventricular\n",
      "Threshold = 73.077\n",
      "Calculating for Extrassístoles_supraventriculares\n",
      "Threshold = 61.111\n",
      "Calculating for Extrassístoles_ventriculares\n",
      "Threshold = 31.818\n",
      "Calculating for Bradicardia_sinusal\n",
      "Threshold = 90.909\n",
      "Calculating for ECG_dentro_dos_limites_da_normalidade_para_idade_e_sexo\n",
      "Threshold = 89.744\n",
      "Calculating for Alterações_inespecíficas_da_repolarização_ventricular\n",
      "Threshold = 30.357\n",
      "Calculating for Alterações_secundárias_da_repolarização_ventricular\n",
      "Threshold = 87.037\n",
      "Calculating for Arritmia_sinusal\n",
      "Threshold = 94.444\n",
      "Calculating for Ausência_de_sinal_eletrocardiográfico_que_impede_a_análise\n",
      "Threshold = 61.905\n",
      "Calculating for Possível_inversão_de_posicionamento_de_eletrodos\n",
      "Threshold = 95.0\n",
      "Calculating for Bloqueio_atrioventricular_de_1°_grau\n",
      "Threshold = 54.167\n",
      "Calculating for Bloqueio_divisional_anterossuperior_do_ramo_esquerdo\n",
      "Threshold = 94.595\n",
      "Calculating for Bloqueio_divisional_posteroinferior_do_ramo_esquerdo\n",
      "Threshold = 70.909\n",
      "Calculating for Desvio_do_eixo_do_QRS_para_direita\n",
      "Threshold = 79.31\n",
      "Calculating for Desvio_do_eixo_do_QRS_para_esquerda\n",
      "Threshold = 80.0\n",
      "Calculating for Distúrbio_de_condução_do_ramo_direito\n",
      "Threshold = 87.179\n",
      "Calculating for Distúrbio_de_condução_do_ramo_esquerdo\n",
      "Threshold = 78.049\n",
      "Calculating for Intervalo_PR_curto\n",
      "Threshold = 38.095\n",
      "Calculating for Intervalo_QT_prolongado\n",
      "Threshold = 50.0\n",
      "Calculating for Isquemia_subendocárdica\n",
      "Threshold = 73.077\n",
      "Calculating for Progressão_lenta_de_R_nas_derivações_precordiais\n",
      "Threshold = 45.098\n",
      "Calculating for Ritmo_atrial_ectópico\n",
      "Threshold = 47.826\n",
      "Calculating for Sobrecarga_atrial_esquerda\n",
      "Threshold = 46.429\n",
      "Calculating for Taquicardia_sinusal\n",
      "Threshold = 86.364\n"
     ]
    }
   ],
   "source": [
    "import math\n",
    "print(\"Calculating thresholds and creating binary arrays...\")\n",
    "scores_thresh = []\n",
    "y_bin = np.zeros((len(result),valid[:,1].sum()))\n",
    "nClass = 0\n",
    "for i in range(len(result[0])):\n",
    "    if(not valid[i][1]): continue\n",
    "    print(\"Calculating for\", prevalences.loc[i][\"Diagnostico\"])\n",
    "    temp_result       = result[:,i]\n",
    "    temp_result = np.sort(temp_result, kind = 'mergesort')\n",
    "    ocurrences     = len(result) * prevalences.loc[i][\"Prevalencia\"]\n",
    "    ocurrences     = math.ceil(ocurrences)\n",
    "    scores_thresh.append(temp_result[-ocurrences])\n",
    "#     for j in range(len(result)):\n",
    "#         if result[j][i] >= scores_thresh[-1]: y_bin[j][nClass] = 1\n",
    "    print(\"Threshold =\",temp_result[-ocurrences])\n",
    "    nClass += 1\n",
    "\n",
    "# np.save(\"output/score_bin.npy\", y_bin)\n",
    "# np.save(\"output/score_thresholds.npy\", scores_thresh)"
   ]
  },
  {
   "cell_type": "code",
   "execution_count": 301,
   "metadata": {},
   "outputs": [],
   "source": [
    "scores_thresh = np.load(\"output/score_thresholds.npy\")"
   ]
  },
  {
   "cell_type": "code",
   "execution_count": 246,
   "metadata": {},
   "outputs": [],
   "source": [
    "dicionarioCsv = pd.read_csv(\"../light_data/DicionarioECG_completo.csv\", index_col = 0)\n",
    "scores_thresh = np.load(\"scores_threshold.npy\")\n",
    "valid = np.load(\"../light_data/new_classes.npy\")"
   ]
  },
  {
   "cell_type": "code",
   "execution_count": 227,
   "metadata": {},
   "outputs": [],
   "source": [
    "y_bin = np.load(\"output/19_Jul_2020/score_bin.npy\")"
   ]
  },
  {
   "cell_type": "code",
   "execution_count": 233,
   "metadata": {},
   "outputs": [
    {
     "data": {
      "text/plain": [
       "66.0"
      ]
     },
     "execution_count": 233,
     "metadata": {},
     "output_type": "execute_result"
    }
   ],
   "source": [
    "y_bin[:,9].sum()"
   ]
  },
  {
   "cell_type": "code",
   "execution_count": 238,
   "metadata": {},
   "outputs": [
    {
     "data": {
      "text/plain": [
       "'taquicardia atrial multifocal'"
      ]
     },
     "execution_count": 238,
     "metadata": {},
     "output_type": "execute_result"
    }
   ],
   "source": [
    "shorter = \"taquicardia atrial multifocal#\"\n",
    "shorter = shorter[:-1]\n",
    "shorter"
   ]
  },
  {
   "cell_type": "code",
   "execution_count": 245,
   "metadata": {},
   "outputs": [],
   "source": [
    "trans = {}\n",
    "for i in range(35):\n",
    "    aux = 0\n",
    "    for z in range(74):\n",
    "        aux += valid[z][1]\n",
    "        if(aux == (i+1)): \n",
    "            trans[i] = z\n",
    "            break"
   ]
  },
  {
   "cell_type": "code",
   "execution_count": 320,
   "metadata": {},
   "outputs": [],
   "source": [
    "scores_old = np.load(\"scores_thresholds_old.npy\")"
   ]
  },
  {
   "cell_type": "code",
   "execution_count": 617,
   "metadata": {},
   "outputs": [
    {
     "name": "stdout",
     "output_type": "stream",
     "text": [
      "0    área eletricamente inativa  -> 80.0\n",
      "1    Bloqueio de ramo direito#  -> 88.0\n",
      "2    Bloqueio de ramo esquerdo#  -> 88.0\n",
      "3    Sobrecarga ventricular esquerda (critérios de Romhilt-Estes)  -> 90.0\n",
      "4    Fibrilação atrial  -> 89.0\n",
      "5    Flutter atrial  -> 80.0\n",
      "6    Bloqueio atrioventricular de 2° grau Mobitz I#  -> 85.0\n",
      "7    Pré-excitação ventricular tipo Wolff-Parkinson-White  -> 80.0\n",
      "8    Sistema de estimulação cardíaca normofuncionante  -> 62.162\n",
      "9    Taquicardia atrial multifocal#  -> 90.0\n",
      "10    Taquicardia supraventricular#  -> 80.0\n",
      "11    Alterações primárias da repolarização ventricular#  -> 90.0\n",
      "12    Extrassístoles supraventriculares#  -> 80.0\n",
      "13    Extrassístoles ventriculares#  -> 80.0\n",
      "14    Bradicardia sinusal#  -> 85.0\n",
      "15    ECG dentro dos limites da normalidade para idade e sexo  -> 80.0\n",
      "16    Alterações inespecíficas da repolarização ventricular#  -> 78.0\n",
      "17    Alterações secundárias da repolarização ventricular#  -> 85.0\n",
      "18    Arritmia sinusal  -> 80.0\n",
      "19    Ausência de sinal eletrocardiográfico que impede a análise  -> 75.0\n",
      "20    Possível inversão de posicionamento de eletrodos  -> 90.0\n",
      "21    Bloqueio atrioventricular de 1 grau#  -> 78.0\n",
      "22    Bloqueio divisional anterossuperior do ramo esquerdo  -> 80.0\n",
      "23    Bloqueio divisional posteroinferior esquerdo  -> 82.0\n",
      "24    Desvio do eixo do QRS para direita#  -> 90.0\n",
      "25    Desvio do eixo do QRS para esquerda#  -> 90.0\n",
      "26    Distúrbio de condução do ramo direito  -> 85.0\n",
      "27    Distúrbio de condução do ramo esquerdo#  -> 82.0\n",
      "28    Intervalo PR curto#  -> 85.0\n",
      "29    Intervalo QT prolongado  -> 70.0\n",
      "30    Isquemia subendocárdica#  -> 80.0\n",
      "31    Progressão lenta de R nas derivações precordiais#  -> 80.0\n",
      "32    Ritmo atrial ectópico  -> 80.0\n",
      "33    Sobrecarga atrial esquerda  -> 85.0\n",
      "34    Taquicardia sinusal#  -> 85.0\n"
     ]
    }
   ],
   "source": [
    "for i in range(35):\n",
    "    print(i, \" \", dicionario[trans[i]][0], \"->\", scores_thresh[i])"
   ]
  },
  {
   "cell_type": "code",
   "execution_count": 133,
   "metadata": {},
   "outputs": [
    {
     "data": {
      "text/plain": [
       "Unnamed: 0                                                    29\n",
       "Diagnostico    Alterações_secundárias_da_repolarização_ventri...\n",
       "Prevalencia                                          9.86585e-06\n",
       "Score                                                        100\n",
       "Name: 28, dtype: object"
      ]
     },
     "execution_count": 133,
     "metadata": {},
     "output_type": "execute_result"
    }
   ],
   "source": [
    "prevalences.loc[trans[c]]"
   ]
  },
  {
   "cell_type": "code",
   "execution_count": 294,
   "metadata": {},
   "outputs": [
    {
     "data": {
      "text/plain": [
       "36.14832529550001"
      ]
     },
     "execution_count": 294,
     "metadata": {},
     "output_type": "execute_result"
    }
   ],
   "source": [
    "result[:,9].sum() / 2000000"
   ]
  },
  {
   "cell_type": "code",
   "execution_count": 609,
   "metadata": {},
   "outputs": [],
   "source": [
    "scores_thresh[c] = 85"
   ]
  },
  {
   "cell_type": "code",
   "execution_count": 308,
   "metadata": {},
   "outputs": [
    {
     "data": {
      "text/plain": [
       "58.333"
      ]
     },
     "execution_count": 308,
     "metadata": {},
     "output_type": "execute_result"
    }
   ],
   "source": [
    "scores_thresh[0]"
   ]
  },
  {
   "cell_type": "code",
   "execution_count": 612,
   "metadata": {
    "jupyter": {
     "source_hidden": true
    }
   },
   "outputs": [
    {
     "ename": "KeyError",
     "evalue": "35",
     "output_type": "error",
     "traceback": [
      "\u001b[0;31m--------------------------------------------------------------------------\u001b[0m",
      "\u001b[0;31mKeyError\u001b[0m                                 Traceback (most recent call last)",
      "\u001b[0;32m<ipython-input-612-a5ca3c6a431b>\u001b[0m in \u001b[0;36m<module>\u001b[0;34m\u001b[0m\n\u001b[1;32m      2\u001b[0m \u001b[0mi\u001b[0m \u001b[0;34m=\u001b[0m \u001b[0;36m0\u001b[0m\u001b[0;34m\u001b[0m\u001b[0;34m\u001b[0m\u001b[0m\n\u001b[1;32m      3\u001b[0m \u001b[0ma\u001b[0m \u001b[0;34m=\u001b[0m \u001b[0;36m0\u001b[0m\u001b[0;34m\u001b[0m\u001b[0;34m\u001b[0m\u001b[0m\n\u001b[0;32m----> 4\u001b[0;31m \u001b[0mprint\u001b[0m\u001b[0;34m(\u001b[0m\u001b[0mdicionario\u001b[0m\u001b[0;34m[\u001b[0m\u001b[0mtrans\u001b[0m\u001b[0;34m[\u001b[0m\u001b[0mc\u001b[0m\u001b[0;34m]\u001b[0m\u001b[0;34m]\u001b[0m\u001b[0;34m[\u001b[0m\u001b[0;36m0\u001b[0m\u001b[0;34m]\u001b[0m\u001b[0;34m)\u001b[0m\u001b[0;34m\u001b[0m\u001b[0;34m\u001b[0m\u001b[0m\n\u001b[0m\u001b[1;32m      5\u001b[0m \u001b[0mprint\u001b[0m\u001b[0;34m(\u001b[0m\u001b[0mscores_thresh\u001b[0m\u001b[0;34m[\u001b[0m\u001b[0mc\u001b[0m\u001b[0;34m]\u001b[0m\u001b[0;34m)\u001b[0m\u001b[0;34m\u001b[0m\u001b[0;34m\u001b[0m\u001b[0m\n\u001b[1;32m      6\u001b[0m \u001b[0mprint\u001b[0m\u001b[0;34m(\u001b[0m\u001b[0;34m)\u001b[0m\u001b[0;34m\u001b[0m\u001b[0;34m\u001b[0m\u001b[0m\n",
      "\u001b[0;31mKeyError\u001b[0m: 35"
     ]
    }
   ],
   "source": [
    "c = 35\n",
    "i = 0\n",
    "a = 0\n",
    "print(dicionario[trans[c]][0])\n",
    "print(scores_thresh[c])\n",
    "print()\n",
    "while(1):\n",
    "    if result[i][trans[c]] >= scores_thresh[c] and result[i][trans[c]] <= scores_thresh[c]+100:\n",
    "        if(a < 11):\n",
    "            print(\"Id:\",i)\n",
    "            print(\"Score:\",result[i][trans[c]])\n",
    "            print(texts[i])\n",
    "            print()\n",
    "        a += 1\n",
    "    i += 1\n",
    "    if(i == 2e6):\n",
    "        print()\n",
    "        print(\"Should be\",i,\" -> \", i*prevalences[\"Prevalencia\"][trans[c]])\n",
    "        print()\n",
    "        print(\"We got\",i, \" -> \", a)\n",
    "        break"
   ]
  },
  {
   "cell_type": "code",
   "execution_count": 613,
   "metadata": {},
   "outputs": [],
   "source": [
    "np.save(\"scores_threshold.npy\", np.array(scores_thresh))"
   ]
  },
  {
   "cell_type": "code",
   "execution_count": 614,
   "metadata": {},
   "outputs": [],
   "source": [
    "a = np.load(\"output/scores_thresholds.npy\")"
   ]
  }
 ],
 "metadata": {
  "kernelspec": {
   "display_name": "Python 3",
   "language": "python",
   "name": "python3"
  },
  "language_info": {
   "codemirror_mode": {
    "name": "ipython",
    "version": 3
   },
   "file_extension": ".py",
   "mimetype": "text/x-python",
   "name": "python",
   "nbconvert_exporter": "python",
   "pygments_lexer": "ipython3",
   "version": "3.7.7"
  }
 },
 "nbformat": 4,
 "nbformat_minor": 4
}
