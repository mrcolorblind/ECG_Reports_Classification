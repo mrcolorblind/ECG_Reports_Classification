{
 "cells": [
  {
   "cell_type": "code",
   "execution_count": 1,
   "metadata": {},
   "outputs": [],
   "source": [
    "import pandas as pd\n",
    "import math"
   ]
  },
  {
   "cell_type": "code",
   "execution_count": 2,
   "metadata": {},
   "outputs": [],
   "source": [
    "tamanhoDB = 2427689\n",
    "listaScores = []\n",
    "diagnosticos = [] "
   ]
  },
  {
   "cell_type": "code",
   "execution_count": 7,
   "metadata": {},
   "outputs": [],
   "source": [
    "dfPrevalencias = pd.read_csv(\"light_data/prevalencia_e_scores_com_siglas.csv\", index_col=0)\n",
    "resultados = pd.read_csv(\"../data/levenshtein/resultado_sem_siglas_scores.csv\")"
   ]
  },
  {
   "cell_type": "code",
   "execution_count": 8,
   "metadata": {},
   "outputs": [
    {
     "name": "stdout",
     "output_type": "stream",
     "text": [
      "Calculando para  área_eletricamente_inativa\n",
      "Calculando para  Bloqueio_de_ramo_direito\n",
      "Calculando para  Bloqueio_de_ramo_esquerdo\n",
      "Calculando para  Bloqueio_de_ramo_direito_e_bloqueio_divisional_anterossuperior_do_ramo_esquerdo\n",
      "Calculando para  Bloqueio_intraventricular_inespecífico\n",
      "Calculando para  Sobrecarga_ventricular_esquerda_(critérios_de_Romhilt-Estes)\n",
      "Calculando para  Sobrecarga_ventricular_esquerda_(critérios_de_voltagem)\n",
      "Calculando para  Fibrilação_atrial\n",
      "Calculando para  Flutter_atrial\n",
      "Calculando para  Bloqueio_atrioventricular_de_2°_grau_Mobitz_I\n",
      "Calculando para  Bloqueio_atrioventricular_de_2°_grau_Mobitz_II\n",
      "Calculando para  Bloqueio_atrioventricular_2:1\n",
      "Calculando para  Bloqueio_atrioventricular_avançado\n",
      "Calculando para  Bloqueio_atrioventricular_total\n",
      "Calculando para  Pré-excitação_ventricular_tipo_Wolff-Parkinson-White\n",
      "Calculando para  Sistema_de_estimulação_cardíaca_normofuncionante\n",
      "Calculando para  Sistema_de_estimulação_cardíaca_com_disfunção\n",
      "Calculando para  Taquicardia_atrial_multifocal\n",
      "Calculando para  Taquicardia_atrial\n",
      "Calculando para  Taquicardia_supraventricular\n",
      "Calculando para  Corrente_de_lesão_subendocárdica\n",
      "Calculando para  Alterações_primárias_da_repolarização_ventricular\n",
      "Calculando para  Extrassístoles_supraventriculares\n",
      "Calculando para  Extrassístoles_ventriculares\n",
      "Calculando para  Bradicardia_sinusal\n",
      "Calculando para  ECG_dentro_dos_limites_da_normalidade_para_idade_e_sexo\n",
      "Calculando para  Alterações_da_repolarização_ventricular_atribuídas_à_ação_digitálica\n",
      "Calculando para  Alterações_inespecíficas_da_repolarização_ventricular\n",
      "Calculando para  Alterações_secundárias_da_repolarização_ventricular\n",
      "Calculando para  Arritmia_sinusal\n",
      "Calculando para  Ausência_de_sinal_eletrocardiográfico_que_impede_a_análise\n",
      "Calculando para  Interferência_na_linha_de_base_que_não_impede_a_análise_do_ECG\n",
      "Calculando para  Ausência_de_sinal_eletrocardiográfico_que_não_impede_a_análise\n",
      "Calculando para  Traçado_com_qualidade_técnica_insuficiente\n",
      "Calculando para  Possível_inversão_de_posicionamento_de_eletrodos\n",
      "Calculando para  Baixa_voltagem_em_derivações_precordiais\n",
      "Calculando para  Baixa_voltagem_em_derivações_periféricas\n",
      "Calculando para  Bloqueio_atrioventricular_de_1°_grau\n",
      "Calculando para  Bloqueio_de_ramo_direito_e_bloqueio_divisional_posteroinferior_do_ramo_esquerdo\n",
      "Calculando para  Bloqueio_divisional_anterossuperior_do_ramo_esquerdo\n",
      "Calculando para  Bloqueio_divisional_posteroinferior_do_ramo_esquerdo\n",
      "Calculando para  Desvio_do_eixo_do_QRS_para_direita\n",
      "Calculando para  Desvio_do_eixo_do_QRS_para_esquerda\n",
      "Calculando para  Dissociação_atrioventricular_isorrítmica\n",
      "Calculando para  Distúrbio_de_condução_do_ramo_direito\n",
      "Calculando para  Distúrbio_de_condução_do_ramo_esquerdo\n",
      "Calculando para  Intervalo_PR_curto\n",
      "Calculando para  Intervalo_QT_prolongado\n",
      "Calculando para  Isquemia_subendocárdica\n",
      "Calculando para  Progressão_lenta_de_R_nas_derivações_precordiais\n",
      "Calculando para  Pausa_sinusal\n",
      "Calculando para  Corrente_de_lesão_subepicárdica\n",
      "Calculando para  Corrente_de_lesão_subepicárdica_-_provável_infarto_agudo_do_miocárdio_com_supradesnivelamento_de_ST\n",
      "Calculando para  Repolarização_precoce\n",
      "Calculando para  Ritmo_atrial_ectópico\n",
      "Calculando para  Ritmo_atrial_multifocal\n",
      "Calculando para  Ritmo_idioventricular_acelerado\n",
      "Calculando para  Ritmo_juncional\n",
      "Calculando para  Síndrome_de_Brugada\n",
      "Calculando para  Sobrecarga_atrial_direita\n",
      "Calculando para  Sobrecarga_atrial_esquerda\n",
      "Calculando para  Sobrecarga_biatrial\n",
      "Calculando para  Sobrecarga_biventricular\n",
      "Calculando para  Sobrecarga_ventricular_direita\n",
      "Calculando para  Sobrecarga_ventricular_esquerda(_critérios_de_voltagem)\n",
      "Calculando para  Taquicardia_sinusal\n",
      "Calculando para  Taquicardia_ventricular_não_sustentada\n",
      "Calculando para  Taquicardia_ventricular_sustentada\n",
      "Calculando para  Suspeita_de_Síndrome_de_Brugada_repetir_V1-V2_em_derivações_superiores\n",
      "Calculando para  Taquicardia_juncional\n",
      "Calculando para  Batimento_de_escape_atrial\n",
      "Calculando para  Batimento_de_escape_supraventricular\n",
      "Calculando para  Batimento_de_escape_juncional\n",
      "Calculando para  Batimento_de_escape_ventricular\n"
     ]
    }
   ],
   "source": [
    "for i in range(len((dfPrevalencias))):\n",
    "    print(\"Calculando para \", dfPrevalencias.loc[i+1][\"Diagnostico\"])\n",
    "    listaResultados       = resultados[dfPrevalencias.loc[i+1][\"Diagnostico\"]]\n",
    "    listaResultados       = listaResultados.to_list()\n",
    "\n",
    "    listaResultados.sort(reverse=True)\n",
    "\n",
    "    numeroOcorrencias     = tamanhoDB * dfPrevalencias.loc[i+1][\"Prevalencia\"]\n",
    "    numeroOcorrencias     = math.ceil(numeroOcorrencias)\n",
    "    listaScores.append(listaResultados[numeroOcorrencias])"
   ]
  },
  {
   "cell_type": "code",
   "execution_count": null,
   "metadata": {},
   "outputs": [],
   "source": [
    "pd.read_csv(\"../../../data/nota_manual\")"
   ]
  },
  {
   "cell_type": "code",
   "execution_count": 77,
   "metadata": {},
   "outputs": [],
   "source": [
    "arquivo = open('../data/resultados/sem_siglas/nota_de_corte_estimada', 'w+')\n",
    "arquivo.write(\"diagnostico, score\")\n",
    "arquivo.write(\"\\n\")\n",
    "for i in range(len(listaScores)):\n",
    "    arquivo.write(str(dfPrevalencias[\"Diagnostico\"][i+1]))\n",
    "    arquivo.write(',')\n",
    "    arquivo.write(str(listaScores[i]))\n",
    "    arquivo.write(\"\\n\")\n",
    "arquivo.close()"
   ]
  }
 ],
 "metadata": {
  "kernelspec": {
   "display_name": "Python 3",
   "language": "python",
   "name": "python3"
  },
  "language_info": {
   "codemirror_mode": {
    "name": "ipython",
    "version": 3
   },
   "file_extension": ".py",
   "mimetype": "text/x-python",
   "name": "python",
   "nbconvert_exporter": "python",
   "pygments_lexer": "ipython3",
   "version": "3.7.3"
  }
 },
 "nbformat": 4,
 "nbformat_minor": 4
}
